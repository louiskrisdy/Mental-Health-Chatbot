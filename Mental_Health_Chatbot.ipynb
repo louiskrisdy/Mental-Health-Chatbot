{
  "cells": [
    {
      "cell_type": "markdown",
      "metadata": {
        "id": "view-in-github",
        "colab_type": "text"
      },
      "source": [
        "<a href=\"https://colab.research.google.com/github/louiskrisdy/Mental-Health-Chatbot/blob/main/Mental_Health_Chatbot.ipynb\" target=\"_parent\"><img src=\"https://colab.research.google.com/assets/colab-badge.svg\" alt=\"Open In Colab\"/></a>"
      ]
    },
    {
      "cell_type": "markdown",
      "source": [
        "# **Load Google Drive** ##\n",
        "We will save our model and certain file(s) here and we take the dataset file from GDrive. Make sure to give the permission to connect to our Gdrive and give the permission.\n",
        "\n",
        "\n"
      ],
      "metadata": {
        "id": "QRVBAWzMXnGf"
      },
      "id": "QRVBAWzMXnGf"
    },
    {
      "cell_type": "code",
      "source": [
        "from google.colab import drive\n",
        "drive.mount('/content/drive')"
      ],
      "metadata": {
        "id": "kXBRl7ZqXlGD",
        "colab": {
          "base_uri": "https://localhost:8080/"
        },
        "outputId": "0f320bfc-8b03-4108-d927-81f5ed37ba8b"
      },
      "id": "kXBRl7ZqXlGD",
      "execution_count": 1,
      "outputs": [
        {
          "output_type": "stream",
          "name": "stdout",
          "text": [
            "Mounted at /content/drive\n"
          ]
        }
      ]
    },
    {
      "cell_type": "markdown",
      "source": [
        "# **Voice Recognition Library Installation** #\n",
        "\n",
        "**Speech Recognition** and **Google Text To Speech**"
      ],
      "metadata": {
        "id": "9ZsdBYNrTfgg"
      },
      "id": "9ZsdBYNrTfgg"
    },
    {
      "cell_type": "code",
      "source": [
        "!pip -q install speechrecognition"
      ],
      "metadata": {
        "id": "Q2lOz2OmFhsz",
        "colab": {
          "base_uri": "https://localhost:8080/"
        },
        "outputId": "e79b77b5-8ca9-48a4-c253-b4ccc8b74568"
      },
      "id": "Q2lOz2OmFhsz",
      "execution_count": 2,
      "outputs": [
        {
          "output_type": "stream",
          "name": "stdout",
          "text": [
            "\u001b[2K     \u001b[90m━━━━━━━━━━━━━━━━━━━━━━━━━━━━━━━━━━━━━━━━\u001b[0m \u001b[32m32.8/32.8 MB\u001b[0m \u001b[31m45.3 MB/s\u001b[0m eta \u001b[36m0:00:00\u001b[0m\n",
            "\u001b[?25h"
          ]
        }
      ]
    },
    {
      "cell_type": "code",
      "source": [
        "!pip -q install gtts"
      ],
      "metadata": {
        "id": "OcZ28yqJFcR8"
      },
      "id": "OcZ28yqJFcR8",
      "execution_count": 3,
      "outputs": []
    },
    {
      "cell_type": "markdown",
      "source": [
        "# **Import Library** #\n"
      ],
      "metadata": {
        "id": "MZMVLNyqYTCK"
      },
      "id": "MZMVLNyqYTCK"
    },
    {
      "cell_type": "code",
      "execution_count": 4,
      "id": "df6e6af3",
      "metadata": {
        "id": "df6e6af3"
      },
      "outputs": [],
      "source": [
        "# Import Libraries\n",
        "import json\n",
        "import nltk\n",
        "import pickle\n",
        "import random\n",
        "import string\n",
        "import time\n",
        "import numpy as np\n",
        "import pandas as pd\n",
        "from gtts import gTTS\n",
        "from io import BytesIO\n",
        "import tensorflow as tf\n",
        "import IPython.display as ipd\n",
        "import speech_recognition as sr\n",
        "import matplotlib.pyplot as plt\n",
        "from nltk.stem import WordNetLemmatizer\n",
        "from tensorflow.keras.models import Model\n",
        "# from keras.utils.vis_utils import plot_model\n",
        "from keras.utils import plot_model\n",
        "from sklearn.preprocessing import LabelEncoder\n",
        "from tensorflow.keras.preprocessing.text import Tokenizer\n",
        "from tensorflow.keras.layers import Input, Embedding, LSTM\n",
        "from tensorflow.keras.preprocessing.sequence import pad_sequences\n",
        "from tensorflow.keras.layers import Flatten, Dense, GlobalMaxPool1D"
      ]
    },
    {
      "cell_type": "markdown",
      "source": [
        "# **Download NLTK Package** #"
      ],
      "metadata": {
        "id": "XFqXivzfTGhq"
      },
      "id": "XFqXivzfTGhq"
    },
    {
      "cell_type": "code",
      "source": [
        "# Package for sentence tokenizer\n",
        "nltk.download('punkt')\n",
        "\n",
        "# Package for lemmatization\n",
        "nltk.download('wordnet')\n",
        "\n",
        "# Package for multilingual wordnet data\n",
        "nltk.download('omw-1.4')"
      ],
      "metadata": {
        "id": "ZFHfBZ3mO1QE",
        "colab": {
          "base_uri": "https://localhost:8080/"
        },
        "outputId": "6c918b62-f6b4-41ce-dc33-8eb89b9f6a4e"
      },
      "id": "ZFHfBZ3mO1QE",
      "execution_count": 6,
      "outputs": [
        {
          "output_type": "stream",
          "name": "stderr",
          "text": [
            "[nltk_data] Downloading package punkt to /root/nltk_data...\n",
            "[nltk_data]   Package punkt is already up-to-date!\n",
            "[nltk_data] Downloading package wordnet to /root/nltk_data...\n",
            "[nltk_data]   Package wordnet is already up-to-date!\n",
            "[nltk_data] Downloading package omw-1.4 to /root/nltk_data...\n",
            "[nltk_data]   Package omw-1.4 is already up-to-date!\n"
          ]
        },
        {
          "output_type": "execute_result",
          "data": {
            "text/plain": [
              "True"
            ]
          },
          "metadata": {},
          "execution_count": 6
        }
      ]
    },
    {
      "cell_type": "markdown",
      "source": [
        "# **Get the dataset** #"
      ],
      "metadata": {
        "id": "rrAG3zQPh7Ux"
      },
      "id": "rrAG3zQPh7Ux"
    },
    {
      "cell_type": "code",
      "source": [
        "# Importing the dataset *Make sure we have the dataset in our Gdrive*\n",
        "# https://www.kaggle.com/datasets/elvis23/mental-health-conversational-data\n",
        "with open('./mhdataset.json') as content:\n",
        "  temp_data = json.load(content)\n",
        "\n",
        "# Get all the data to the list\n",
        "tags = [] # data tag\n",
        "inputs = [] # data input or pattern\n",
        "responses = {} # data response\n",
        "words = [] # Data words\n",
        "classes = [] # Data class or tag\n",
        "documents = [] # Data document sentence\n",
        "ignore_words = ['?', '!'] # Neglect the special character signs\n",
        "\n",
        "for intent in temp_data['intents']:\n",
        "  responses[intent['tag']]=intent['responses']\n",
        "  for lines in intent['patterns']:\n",
        "    inputs.append(lines)\n",
        "    tags.append(intent['tag'])\n",
        "    for pattern in intent['patterns']:\n",
        "      w = nltk.word_tokenize(pattern)\n",
        "      words.extend(w)\n",
        "      documents.append((w, intent['tag']))\n",
        "      # add to our classes list\n",
        "      if intent['tag'] not in classes:\n",
        "        classes.append(intent['tag'])\n",
        "\n",
        "# Convert the json data into dataframe\n",
        "data = pd.DataFrame({\"patterns\":inputs, \"tags\":tags})"
      ],
      "metadata": {
        "id": "JD4ILKqFZ_hf"
      },
      "id": "JD4ILKqFZ_hf",
      "execution_count": 7,
      "outputs": []
    },
    {
      "cell_type": "code",
      "source": [
        "# Check all the data\n",
        "data"
      ],
      "metadata": {
        "id": "5N0s7BObcv5-",
        "colab": {
          "base_uri": "https://localhost:8080/",
          "height": 424
        },
        "outputId": "fe623653-205f-417e-8cf2-a1109ba33808"
      },
      "id": "5N0s7BObcv5-",
      "execution_count": 9,
      "outputs": [
        {
          "output_type": "execute_result",
          "data": {
            "text/plain": [
              "                                              patterns      tags\n",
              "0                                                   Hi  greeting\n",
              "1                                                  Hey  greeting\n",
              "2                                     Is anyone there?  greeting\n",
              "3                                             Hi there  greeting\n",
              "4                                                Hello  greeting\n",
              "..                                                 ...       ...\n",
              "227                       How do I know if I'm unwell?   fact-29\n",
              "228  How can I maintain social connections? What if...   fact-30\n",
              "229  What's the difference between anxiety and stress?   fact-31\n",
              "230  What's the difference between sadness and depr...   fact-32\n",
              "231          difference between sadness and depression   fact-32\n",
              "\n",
              "[232 rows x 2 columns]"
            ],
            "text/html": [
              "\n",
              "  <div id=\"df-5e4bafdb-eb0f-463e-aa85-3285e90d8bec\" class=\"colab-df-container\">\n",
              "    <div>\n",
              "<style scoped>\n",
              "    .dataframe tbody tr th:only-of-type {\n",
              "        vertical-align: middle;\n",
              "    }\n",
              "\n",
              "    .dataframe tbody tr th {\n",
              "        vertical-align: top;\n",
              "    }\n",
              "\n",
              "    .dataframe thead th {\n",
              "        text-align: right;\n",
              "    }\n",
              "</style>\n",
              "<table border=\"1\" class=\"dataframe\">\n",
              "  <thead>\n",
              "    <tr style=\"text-align: right;\">\n",
              "      <th></th>\n",
              "      <th>patterns</th>\n",
              "      <th>tags</th>\n",
              "    </tr>\n",
              "  </thead>\n",
              "  <tbody>\n",
              "    <tr>\n",
              "      <th>0</th>\n",
              "      <td>Hi</td>\n",
              "      <td>greeting</td>\n",
              "    </tr>\n",
              "    <tr>\n",
              "      <th>1</th>\n",
              "      <td>Hey</td>\n",
              "      <td>greeting</td>\n",
              "    </tr>\n",
              "    <tr>\n",
              "      <th>2</th>\n",
              "      <td>Is anyone there?</td>\n",
              "      <td>greeting</td>\n",
              "    </tr>\n",
              "    <tr>\n",
              "      <th>3</th>\n",
              "      <td>Hi there</td>\n",
              "      <td>greeting</td>\n",
              "    </tr>\n",
              "    <tr>\n",
              "      <th>4</th>\n",
              "      <td>Hello</td>\n",
              "      <td>greeting</td>\n",
              "    </tr>\n",
              "    <tr>\n",
              "      <th>...</th>\n",
              "      <td>...</td>\n",
              "      <td>...</td>\n",
              "    </tr>\n",
              "    <tr>\n",
              "      <th>227</th>\n",
              "      <td>How do I know if I'm unwell?</td>\n",
              "      <td>fact-29</td>\n",
              "    </tr>\n",
              "    <tr>\n",
              "      <th>228</th>\n",
              "      <td>How can I maintain social connections? What if...</td>\n",
              "      <td>fact-30</td>\n",
              "    </tr>\n",
              "    <tr>\n",
              "      <th>229</th>\n",
              "      <td>What's the difference between anxiety and stress?</td>\n",
              "      <td>fact-31</td>\n",
              "    </tr>\n",
              "    <tr>\n",
              "      <th>230</th>\n",
              "      <td>What's the difference between sadness and depr...</td>\n",
              "      <td>fact-32</td>\n",
              "    </tr>\n",
              "    <tr>\n",
              "      <th>231</th>\n",
              "      <td>difference between sadness and depression</td>\n",
              "      <td>fact-32</td>\n",
              "    </tr>\n",
              "  </tbody>\n",
              "</table>\n",
              "<p>232 rows × 2 columns</p>\n",
              "</div>\n",
              "    <div class=\"colab-df-buttons\">\n",
              "\n",
              "  <div class=\"colab-df-container\">\n",
              "    <button class=\"colab-df-convert\" onclick=\"convertToInteractive('df-5e4bafdb-eb0f-463e-aa85-3285e90d8bec')\"\n",
              "            title=\"Convert this dataframe to an interactive table.\"\n",
              "            style=\"display:none;\">\n",
              "\n",
              "  <svg xmlns=\"http://www.w3.org/2000/svg\" height=\"24px\" viewBox=\"0 -960 960 960\">\n",
              "    <path d=\"M120-120v-720h720v720H120Zm60-500h600v-160H180v160Zm220 220h160v-160H400v160Zm0 220h160v-160H400v160ZM180-400h160v-160H180v160Zm440 0h160v-160H620v160ZM180-180h160v-160H180v160Zm440 0h160v-160H620v160Z\"/>\n",
              "  </svg>\n",
              "    </button>\n",
              "\n",
              "  <style>\n",
              "    .colab-df-container {\n",
              "      display:flex;\n",
              "      gap: 12px;\n",
              "    }\n",
              "\n",
              "    .colab-df-convert {\n",
              "      background-color: #E8F0FE;\n",
              "      border: none;\n",
              "      border-radius: 50%;\n",
              "      cursor: pointer;\n",
              "      display: none;\n",
              "      fill: #1967D2;\n",
              "      height: 32px;\n",
              "      padding: 0 0 0 0;\n",
              "      width: 32px;\n",
              "    }\n",
              "\n",
              "    .colab-df-convert:hover {\n",
              "      background-color: #E2EBFA;\n",
              "      box-shadow: 0px 1px 2px rgba(60, 64, 67, 0.3), 0px 1px 3px 1px rgba(60, 64, 67, 0.15);\n",
              "      fill: #174EA6;\n",
              "    }\n",
              "\n",
              "    .colab-df-buttons div {\n",
              "      margin-bottom: 4px;\n",
              "    }\n",
              "\n",
              "    [theme=dark] .colab-df-convert {\n",
              "      background-color: #3B4455;\n",
              "      fill: #D2E3FC;\n",
              "    }\n",
              "\n",
              "    [theme=dark] .colab-df-convert:hover {\n",
              "      background-color: #434B5C;\n",
              "      box-shadow: 0px 1px 3px 1px rgba(0, 0, 0, 0.15);\n",
              "      filter: drop-shadow(0px 1px 2px rgba(0, 0, 0, 0.3));\n",
              "      fill: #FFFFFF;\n",
              "    }\n",
              "  </style>\n",
              "\n",
              "    <script>\n",
              "      const buttonEl =\n",
              "        document.querySelector('#df-5e4bafdb-eb0f-463e-aa85-3285e90d8bec button.colab-df-convert');\n",
              "      buttonEl.style.display =\n",
              "        google.colab.kernel.accessAllowed ? 'block' : 'none';\n",
              "\n",
              "      async function convertToInteractive(key) {\n",
              "        const element = document.querySelector('#df-5e4bafdb-eb0f-463e-aa85-3285e90d8bec');\n",
              "        const dataTable =\n",
              "          await google.colab.kernel.invokeFunction('convertToInteractive',\n",
              "                                                    [key], {});\n",
              "        if (!dataTable) return;\n",
              "\n",
              "        const docLinkHtml = 'Like what you see? Visit the ' +\n",
              "          '<a target=\"_blank\" href=https://colab.research.google.com/notebooks/data_table.ipynb>data table notebook</a>'\n",
              "          + ' to learn more about interactive tables.';\n",
              "        element.innerHTML = '';\n",
              "        dataTable['output_type'] = 'display_data';\n",
              "        await google.colab.output.renderOutput(dataTable, element);\n",
              "        const docLink = document.createElement('div');\n",
              "        docLink.innerHTML = docLinkHtml;\n",
              "        element.appendChild(docLink);\n",
              "      }\n",
              "    </script>\n",
              "  </div>\n",
              "\n",
              "\n",
              "<div id=\"df-69e25785-cce2-4aa6-a1a0-51b9340f35f9\">\n",
              "  <button class=\"colab-df-quickchart\" onclick=\"quickchart('df-69e25785-cce2-4aa6-a1a0-51b9340f35f9')\"\n",
              "            title=\"Suggest charts\"\n",
              "            style=\"display:none;\">\n",
              "\n",
              "<svg xmlns=\"http://www.w3.org/2000/svg\" height=\"24px\"viewBox=\"0 0 24 24\"\n",
              "     width=\"24px\">\n",
              "    <g>\n",
              "        <path d=\"M19 3H5c-1.1 0-2 .9-2 2v14c0 1.1.9 2 2 2h14c1.1 0 2-.9 2-2V5c0-1.1-.9-2-2-2zM9 17H7v-7h2v7zm4 0h-2V7h2v10zm4 0h-2v-4h2v4z\"/>\n",
              "    </g>\n",
              "</svg>\n",
              "  </button>\n",
              "\n",
              "<style>\n",
              "  .colab-df-quickchart {\n",
              "      --bg-color: #E8F0FE;\n",
              "      --fill-color: #1967D2;\n",
              "      --hover-bg-color: #E2EBFA;\n",
              "      --hover-fill-color: #174EA6;\n",
              "      --disabled-fill-color: #AAA;\n",
              "      --disabled-bg-color: #DDD;\n",
              "  }\n",
              "\n",
              "  [theme=dark] .colab-df-quickchart {\n",
              "      --bg-color: #3B4455;\n",
              "      --fill-color: #D2E3FC;\n",
              "      --hover-bg-color: #434B5C;\n",
              "      --hover-fill-color: #FFFFFF;\n",
              "      --disabled-bg-color: #3B4455;\n",
              "      --disabled-fill-color: #666;\n",
              "  }\n",
              "\n",
              "  .colab-df-quickchart {\n",
              "    background-color: var(--bg-color);\n",
              "    border: none;\n",
              "    border-radius: 50%;\n",
              "    cursor: pointer;\n",
              "    display: none;\n",
              "    fill: var(--fill-color);\n",
              "    height: 32px;\n",
              "    padding: 0;\n",
              "    width: 32px;\n",
              "  }\n",
              "\n",
              "  .colab-df-quickchart:hover {\n",
              "    background-color: var(--hover-bg-color);\n",
              "    box-shadow: 0 1px 2px rgba(60, 64, 67, 0.3), 0 1px 3px 1px rgba(60, 64, 67, 0.15);\n",
              "    fill: var(--button-hover-fill-color);\n",
              "  }\n",
              "\n",
              "  .colab-df-quickchart-complete:disabled,\n",
              "  .colab-df-quickchart-complete:disabled:hover {\n",
              "    background-color: var(--disabled-bg-color);\n",
              "    fill: var(--disabled-fill-color);\n",
              "    box-shadow: none;\n",
              "  }\n",
              "\n",
              "  .colab-df-spinner {\n",
              "    border: 2px solid var(--fill-color);\n",
              "    border-color: transparent;\n",
              "    border-bottom-color: var(--fill-color);\n",
              "    animation:\n",
              "      spin 1s steps(1) infinite;\n",
              "  }\n",
              "\n",
              "  @keyframes spin {\n",
              "    0% {\n",
              "      border-color: transparent;\n",
              "      border-bottom-color: var(--fill-color);\n",
              "      border-left-color: var(--fill-color);\n",
              "    }\n",
              "    20% {\n",
              "      border-color: transparent;\n",
              "      border-left-color: var(--fill-color);\n",
              "      border-top-color: var(--fill-color);\n",
              "    }\n",
              "    30% {\n",
              "      border-color: transparent;\n",
              "      border-left-color: var(--fill-color);\n",
              "      border-top-color: var(--fill-color);\n",
              "      border-right-color: var(--fill-color);\n",
              "    }\n",
              "    40% {\n",
              "      border-color: transparent;\n",
              "      border-right-color: var(--fill-color);\n",
              "      border-top-color: var(--fill-color);\n",
              "    }\n",
              "    60% {\n",
              "      border-color: transparent;\n",
              "      border-right-color: var(--fill-color);\n",
              "    }\n",
              "    80% {\n",
              "      border-color: transparent;\n",
              "      border-right-color: var(--fill-color);\n",
              "      border-bottom-color: var(--fill-color);\n",
              "    }\n",
              "    90% {\n",
              "      border-color: transparent;\n",
              "      border-bottom-color: var(--fill-color);\n",
              "    }\n",
              "  }\n",
              "</style>\n",
              "\n",
              "  <script>\n",
              "    async function quickchart(key) {\n",
              "      const quickchartButtonEl =\n",
              "        document.querySelector('#' + key + ' button');\n",
              "      quickchartButtonEl.disabled = true;  // To prevent multiple clicks.\n",
              "      quickchartButtonEl.classList.add('colab-df-spinner');\n",
              "      try {\n",
              "        const charts = await google.colab.kernel.invokeFunction(\n",
              "            'suggestCharts', [key], {});\n",
              "      } catch (error) {\n",
              "        console.error('Error during call to suggestCharts:', error);\n",
              "      }\n",
              "      quickchartButtonEl.classList.remove('colab-df-spinner');\n",
              "      quickchartButtonEl.classList.add('colab-df-quickchart-complete');\n",
              "    }\n",
              "    (() => {\n",
              "      let quickchartButtonEl =\n",
              "        document.querySelector('#df-69e25785-cce2-4aa6-a1a0-51b9340f35f9 button');\n",
              "      quickchartButtonEl.style.display =\n",
              "        google.colab.kernel.accessAllowed ? 'block' : 'none';\n",
              "    })();\n",
              "  </script>\n",
              "</div>\n",
              "    </div>\n",
              "  </div>\n"
            ]
          },
          "metadata": {},
          "execution_count": 9
        }
      ]
    },
    {
      "cell_type": "code",
      "source": [
        "data.head()"
      ],
      "metadata": {
        "id": "5DFoJwcVdP52",
        "colab": {
          "base_uri": "https://localhost:8080/",
          "height": 206
        },
        "outputId": "8978df8a-97a1-47e4-e522-dd0fa8a3348b"
      },
      "id": "5DFoJwcVdP52",
      "execution_count": 10,
      "outputs": [
        {
          "output_type": "execute_result",
          "data": {
            "text/plain": [
              "           patterns      tags\n",
              "0                Hi  greeting\n",
              "1               Hey  greeting\n",
              "2  Is anyone there?  greeting\n",
              "3          Hi there  greeting\n",
              "4             Hello  greeting"
            ],
            "text/html": [
              "\n",
              "  <div id=\"df-229c4fe1-01f8-4365-a0d6-8c98eb3b6ae7\" class=\"colab-df-container\">\n",
              "    <div>\n",
              "<style scoped>\n",
              "    .dataframe tbody tr th:only-of-type {\n",
              "        vertical-align: middle;\n",
              "    }\n",
              "\n",
              "    .dataframe tbody tr th {\n",
              "        vertical-align: top;\n",
              "    }\n",
              "\n",
              "    .dataframe thead th {\n",
              "        text-align: right;\n",
              "    }\n",
              "</style>\n",
              "<table border=\"1\" class=\"dataframe\">\n",
              "  <thead>\n",
              "    <tr style=\"text-align: right;\">\n",
              "      <th></th>\n",
              "      <th>patterns</th>\n",
              "      <th>tags</th>\n",
              "    </tr>\n",
              "  </thead>\n",
              "  <tbody>\n",
              "    <tr>\n",
              "      <th>0</th>\n",
              "      <td>Hi</td>\n",
              "      <td>greeting</td>\n",
              "    </tr>\n",
              "    <tr>\n",
              "      <th>1</th>\n",
              "      <td>Hey</td>\n",
              "      <td>greeting</td>\n",
              "    </tr>\n",
              "    <tr>\n",
              "      <th>2</th>\n",
              "      <td>Is anyone there?</td>\n",
              "      <td>greeting</td>\n",
              "    </tr>\n",
              "    <tr>\n",
              "      <th>3</th>\n",
              "      <td>Hi there</td>\n",
              "      <td>greeting</td>\n",
              "    </tr>\n",
              "    <tr>\n",
              "      <th>4</th>\n",
              "      <td>Hello</td>\n",
              "      <td>greeting</td>\n",
              "    </tr>\n",
              "  </tbody>\n",
              "</table>\n",
              "</div>\n",
              "    <div class=\"colab-df-buttons\">\n",
              "\n",
              "  <div class=\"colab-df-container\">\n",
              "    <button class=\"colab-df-convert\" onclick=\"convertToInteractive('df-229c4fe1-01f8-4365-a0d6-8c98eb3b6ae7')\"\n",
              "            title=\"Convert this dataframe to an interactive table.\"\n",
              "            style=\"display:none;\">\n",
              "\n",
              "  <svg xmlns=\"http://www.w3.org/2000/svg\" height=\"24px\" viewBox=\"0 -960 960 960\">\n",
              "    <path d=\"M120-120v-720h720v720H120Zm60-500h600v-160H180v160Zm220 220h160v-160H400v160Zm0 220h160v-160H400v160ZM180-400h160v-160H180v160Zm440 0h160v-160H620v160ZM180-180h160v-160H180v160Zm440 0h160v-160H620v160Z\"/>\n",
              "  </svg>\n",
              "    </button>\n",
              "\n",
              "  <style>\n",
              "    .colab-df-container {\n",
              "      display:flex;\n",
              "      gap: 12px;\n",
              "    }\n",
              "\n",
              "    .colab-df-convert {\n",
              "      background-color: #E8F0FE;\n",
              "      border: none;\n",
              "      border-radius: 50%;\n",
              "      cursor: pointer;\n",
              "      display: none;\n",
              "      fill: #1967D2;\n",
              "      height: 32px;\n",
              "      padding: 0 0 0 0;\n",
              "      width: 32px;\n",
              "    }\n",
              "\n",
              "    .colab-df-convert:hover {\n",
              "      background-color: #E2EBFA;\n",
              "      box-shadow: 0px 1px 2px rgba(60, 64, 67, 0.3), 0px 1px 3px 1px rgba(60, 64, 67, 0.15);\n",
              "      fill: #174EA6;\n",
              "    }\n",
              "\n",
              "    .colab-df-buttons div {\n",
              "      margin-bottom: 4px;\n",
              "    }\n",
              "\n",
              "    [theme=dark] .colab-df-convert {\n",
              "      background-color: #3B4455;\n",
              "      fill: #D2E3FC;\n",
              "    }\n",
              "\n",
              "    [theme=dark] .colab-df-convert:hover {\n",
              "      background-color: #434B5C;\n",
              "      box-shadow: 0px 1px 3px 1px rgba(0, 0, 0, 0.15);\n",
              "      filter: drop-shadow(0px 1px 2px rgba(0, 0, 0, 0.3));\n",
              "      fill: #FFFFFF;\n",
              "    }\n",
              "  </style>\n",
              "\n",
              "    <script>\n",
              "      const buttonEl =\n",
              "        document.querySelector('#df-229c4fe1-01f8-4365-a0d6-8c98eb3b6ae7 button.colab-df-convert');\n",
              "      buttonEl.style.display =\n",
              "        google.colab.kernel.accessAllowed ? 'block' : 'none';\n",
              "\n",
              "      async function convertToInteractive(key) {\n",
              "        const element = document.querySelector('#df-229c4fe1-01f8-4365-a0d6-8c98eb3b6ae7');\n",
              "        const dataTable =\n",
              "          await google.colab.kernel.invokeFunction('convertToInteractive',\n",
              "                                                    [key], {});\n",
              "        if (!dataTable) return;\n",
              "\n",
              "        const docLinkHtml = 'Like what you see? Visit the ' +\n",
              "          '<a target=\"_blank\" href=https://colab.research.google.com/notebooks/data_table.ipynb>data table notebook</a>'\n",
              "          + ' to learn more about interactive tables.';\n",
              "        element.innerHTML = '';\n",
              "        dataTable['output_type'] = 'display_data';\n",
              "        await google.colab.output.renderOutput(dataTable, element);\n",
              "        const docLink = document.createElement('div');\n",
              "        docLink.innerHTML = docLinkHtml;\n",
              "        element.appendChild(docLink);\n",
              "      }\n",
              "    </script>\n",
              "  </div>\n",
              "\n",
              "\n",
              "<div id=\"df-cddebc80-6b66-4742-a653-5f1e7f210c6e\">\n",
              "  <button class=\"colab-df-quickchart\" onclick=\"quickchart('df-cddebc80-6b66-4742-a653-5f1e7f210c6e')\"\n",
              "            title=\"Suggest charts\"\n",
              "            style=\"display:none;\">\n",
              "\n",
              "<svg xmlns=\"http://www.w3.org/2000/svg\" height=\"24px\"viewBox=\"0 0 24 24\"\n",
              "     width=\"24px\">\n",
              "    <g>\n",
              "        <path d=\"M19 3H5c-1.1 0-2 .9-2 2v14c0 1.1.9 2 2 2h14c1.1 0 2-.9 2-2V5c0-1.1-.9-2-2-2zM9 17H7v-7h2v7zm4 0h-2V7h2v10zm4 0h-2v-4h2v4z\"/>\n",
              "    </g>\n",
              "</svg>\n",
              "  </button>\n",
              "\n",
              "<style>\n",
              "  .colab-df-quickchart {\n",
              "      --bg-color: #E8F0FE;\n",
              "      --fill-color: #1967D2;\n",
              "      --hover-bg-color: #E2EBFA;\n",
              "      --hover-fill-color: #174EA6;\n",
              "      --disabled-fill-color: #AAA;\n",
              "      --disabled-bg-color: #DDD;\n",
              "  }\n",
              "\n",
              "  [theme=dark] .colab-df-quickchart {\n",
              "      --bg-color: #3B4455;\n",
              "      --fill-color: #D2E3FC;\n",
              "      --hover-bg-color: #434B5C;\n",
              "      --hover-fill-color: #FFFFFF;\n",
              "      --disabled-bg-color: #3B4455;\n",
              "      --disabled-fill-color: #666;\n",
              "  }\n",
              "\n",
              "  .colab-df-quickchart {\n",
              "    background-color: var(--bg-color);\n",
              "    border: none;\n",
              "    border-radius: 50%;\n",
              "    cursor: pointer;\n",
              "    display: none;\n",
              "    fill: var(--fill-color);\n",
              "    height: 32px;\n",
              "    padding: 0;\n",
              "    width: 32px;\n",
              "  }\n",
              "\n",
              "  .colab-df-quickchart:hover {\n",
              "    background-color: var(--hover-bg-color);\n",
              "    box-shadow: 0 1px 2px rgba(60, 64, 67, 0.3), 0 1px 3px 1px rgba(60, 64, 67, 0.15);\n",
              "    fill: var(--button-hover-fill-color);\n",
              "  }\n",
              "\n",
              "  .colab-df-quickchart-complete:disabled,\n",
              "  .colab-df-quickchart-complete:disabled:hover {\n",
              "    background-color: var(--disabled-bg-color);\n",
              "    fill: var(--disabled-fill-color);\n",
              "    box-shadow: none;\n",
              "  }\n",
              "\n",
              "  .colab-df-spinner {\n",
              "    border: 2px solid var(--fill-color);\n",
              "    border-color: transparent;\n",
              "    border-bottom-color: var(--fill-color);\n",
              "    animation:\n",
              "      spin 1s steps(1) infinite;\n",
              "  }\n",
              "\n",
              "  @keyframes spin {\n",
              "    0% {\n",
              "      border-color: transparent;\n",
              "      border-bottom-color: var(--fill-color);\n",
              "      border-left-color: var(--fill-color);\n",
              "    }\n",
              "    20% {\n",
              "      border-color: transparent;\n",
              "      border-left-color: var(--fill-color);\n",
              "      border-top-color: var(--fill-color);\n",
              "    }\n",
              "    30% {\n",
              "      border-color: transparent;\n",
              "      border-left-color: var(--fill-color);\n",
              "      border-top-color: var(--fill-color);\n",
              "      border-right-color: var(--fill-color);\n",
              "    }\n",
              "    40% {\n",
              "      border-color: transparent;\n",
              "      border-right-color: var(--fill-color);\n",
              "      border-top-color: var(--fill-color);\n",
              "    }\n",
              "    60% {\n",
              "      border-color: transparent;\n",
              "      border-right-color: var(--fill-color);\n",
              "    }\n",
              "    80% {\n",
              "      border-color: transparent;\n",
              "      border-right-color: var(--fill-color);\n",
              "      border-bottom-color: var(--fill-color);\n",
              "    }\n",
              "    90% {\n",
              "      border-color: transparent;\n",
              "      border-bottom-color: var(--fill-color);\n",
              "    }\n",
              "  }\n",
              "</style>\n",
              "\n",
              "  <script>\n",
              "    async function quickchart(key) {\n",
              "      const quickchartButtonEl =\n",
              "        document.querySelector('#' + key + ' button');\n",
              "      quickchartButtonEl.disabled = true;  // To prevent multiple clicks.\n",
              "      quickchartButtonEl.classList.add('colab-df-spinner');\n",
              "      try {\n",
              "        const charts = await google.colab.kernel.invokeFunction(\n",
              "            'suggestCharts', [key], {});\n",
              "      } catch (error) {\n",
              "        console.error('Error during call to suggestCharts:', error);\n",
              "      }\n",
              "      quickchartButtonEl.classList.remove('colab-df-spinner');\n",
              "      quickchartButtonEl.classList.add('colab-df-quickchart-complete');\n",
              "    }\n",
              "    (() => {\n",
              "      let quickchartButtonEl =\n",
              "        document.querySelector('#df-cddebc80-6b66-4742-a653-5f1e7f210c6e button');\n",
              "      quickchartButtonEl.style.display =\n",
              "        google.colab.kernel.accessAllowed ? 'block' : 'none';\n",
              "    })();\n",
              "  </script>\n",
              "</div>\n",
              "    </div>\n",
              "  </div>\n"
            ]
          },
          "metadata": {},
          "execution_count": 10
        }
      ]
    },
    {
      "cell_type": "code",
      "source": [
        "data.tail()"
      ],
      "metadata": {
        "id": "HksM_GGVdenI",
        "colab": {
          "base_uri": "https://localhost:8080/",
          "height": 206
        },
        "outputId": "7cdfc532-c25e-4749-f7cd-6614c5c3fd8e"
      },
      "id": "HksM_GGVdenI",
      "execution_count": 11,
      "outputs": [
        {
          "output_type": "execute_result",
          "data": {
            "text/plain": [
              "                                              patterns     tags\n",
              "227                       How do I know if I'm unwell?  fact-29\n",
              "228  How can I maintain social connections? What if...  fact-30\n",
              "229  What's the difference between anxiety and stress?  fact-31\n",
              "230  What's the difference between sadness and depr...  fact-32\n",
              "231          difference between sadness and depression  fact-32"
            ],
            "text/html": [
              "\n",
              "  <div id=\"df-131c5632-8c21-4286-86a4-e93174349adb\" class=\"colab-df-container\">\n",
              "    <div>\n",
              "<style scoped>\n",
              "    .dataframe tbody tr th:only-of-type {\n",
              "        vertical-align: middle;\n",
              "    }\n",
              "\n",
              "    .dataframe tbody tr th {\n",
              "        vertical-align: top;\n",
              "    }\n",
              "\n",
              "    .dataframe thead th {\n",
              "        text-align: right;\n",
              "    }\n",
              "</style>\n",
              "<table border=\"1\" class=\"dataframe\">\n",
              "  <thead>\n",
              "    <tr style=\"text-align: right;\">\n",
              "      <th></th>\n",
              "      <th>patterns</th>\n",
              "      <th>tags</th>\n",
              "    </tr>\n",
              "  </thead>\n",
              "  <tbody>\n",
              "    <tr>\n",
              "      <th>227</th>\n",
              "      <td>How do I know if I'm unwell?</td>\n",
              "      <td>fact-29</td>\n",
              "    </tr>\n",
              "    <tr>\n",
              "      <th>228</th>\n",
              "      <td>How can I maintain social connections? What if...</td>\n",
              "      <td>fact-30</td>\n",
              "    </tr>\n",
              "    <tr>\n",
              "      <th>229</th>\n",
              "      <td>What's the difference between anxiety and stress?</td>\n",
              "      <td>fact-31</td>\n",
              "    </tr>\n",
              "    <tr>\n",
              "      <th>230</th>\n",
              "      <td>What's the difference between sadness and depr...</td>\n",
              "      <td>fact-32</td>\n",
              "    </tr>\n",
              "    <tr>\n",
              "      <th>231</th>\n",
              "      <td>difference between sadness and depression</td>\n",
              "      <td>fact-32</td>\n",
              "    </tr>\n",
              "  </tbody>\n",
              "</table>\n",
              "</div>\n",
              "    <div class=\"colab-df-buttons\">\n",
              "\n",
              "  <div class=\"colab-df-container\">\n",
              "    <button class=\"colab-df-convert\" onclick=\"convertToInteractive('df-131c5632-8c21-4286-86a4-e93174349adb')\"\n",
              "            title=\"Convert this dataframe to an interactive table.\"\n",
              "            style=\"display:none;\">\n",
              "\n",
              "  <svg xmlns=\"http://www.w3.org/2000/svg\" height=\"24px\" viewBox=\"0 -960 960 960\">\n",
              "    <path d=\"M120-120v-720h720v720H120Zm60-500h600v-160H180v160Zm220 220h160v-160H400v160Zm0 220h160v-160H400v160ZM180-400h160v-160H180v160Zm440 0h160v-160H620v160ZM180-180h160v-160H180v160Zm440 0h160v-160H620v160Z\"/>\n",
              "  </svg>\n",
              "    </button>\n",
              "\n",
              "  <style>\n",
              "    .colab-df-container {\n",
              "      display:flex;\n",
              "      gap: 12px;\n",
              "    }\n",
              "\n",
              "    .colab-df-convert {\n",
              "      background-color: #E8F0FE;\n",
              "      border: none;\n",
              "      border-radius: 50%;\n",
              "      cursor: pointer;\n",
              "      display: none;\n",
              "      fill: #1967D2;\n",
              "      height: 32px;\n",
              "      padding: 0 0 0 0;\n",
              "      width: 32px;\n",
              "    }\n",
              "\n",
              "    .colab-df-convert:hover {\n",
              "      background-color: #E2EBFA;\n",
              "      box-shadow: 0px 1px 2px rgba(60, 64, 67, 0.3), 0px 1px 3px 1px rgba(60, 64, 67, 0.15);\n",
              "      fill: #174EA6;\n",
              "    }\n",
              "\n",
              "    .colab-df-buttons div {\n",
              "      margin-bottom: 4px;\n",
              "    }\n",
              "\n",
              "    [theme=dark] .colab-df-convert {\n",
              "      background-color: #3B4455;\n",
              "      fill: #D2E3FC;\n",
              "    }\n",
              "\n",
              "    [theme=dark] .colab-df-convert:hover {\n",
              "      background-color: #434B5C;\n",
              "      box-shadow: 0px 1px 3px 1px rgba(0, 0, 0, 0.15);\n",
              "      filter: drop-shadow(0px 1px 2px rgba(0, 0, 0, 0.3));\n",
              "      fill: #FFFFFF;\n",
              "    }\n",
              "  </style>\n",
              "\n",
              "    <script>\n",
              "      const buttonEl =\n",
              "        document.querySelector('#df-131c5632-8c21-4286-86a4-e93174349adb button.colab-df-convert');\n",
              "      buttonEl.style.display =\n",
              "        google.colab.kernel.accessAllowed ? 'block' : 'none';\n",
              "\n",
              "      async function convertToInteractive(key) {\n",
              "        const element = document.querySelector('#df-131c5632-8c21-4286-86a4-e93174349adb');\n",
              "        const dataTable =\n",
              "          await google.colab.kernel.invokeFunction('convertToInteractive',\n",
              "                                                    [key], {});\n",
              "        if (!dataTable) return;\n",
              "\n",
              "        const docLinkHtml = 'Like what you see? Visit the ' +\n",
              "          '<a target=\"_blank\" href=https://colab.research.google.com/notebooks/data_table.ipynb>data table notebook</a>'\n",
              "          + ' to learn more about interactive tables.';\n",
              "        element.innerHTML = '';\n",
              "        dataTable['output_type'] = 'display_data';\n",
              "        await google.colab.output.renderOutput(dataTable, element);\n",
              "        const docLink = document.createElement('div');\n",
              "        docLink.innerHTML = docLinkHtml;\n",
              "        element.appendChild(docLink);\n",
              "      }\n",
              "    </script>\n",
              "  </div>\n",
              "\n",
              "\n",
              "<div id=\"df-55e7230e-caec-497a-a77b-f655aa019614\">\n",
              "  <button class=\"colab-df-quickchart\" onclick=\"quickchart('df-55e7230e-caec-497a-a77b-f655aa019614')\"\n",
              "            title=\"Suggest charts\"\n",
              "            style=\"display:none;\">\n",
              "\n",
              "<svg xmlns=\"http://www.w3.org/2000/svg\" height=\"24px\"viewBox=\"0 0 24 24\"\n",
              "     width=\"24px\">\n",
              "    <g>\n",
              "        <path d=\"M19 3H5c-1.1 0-2 .9-2 2v14c0 1.1.9 2 2 2h14c1.1 0 2-.9 2-2V5c0-1.1-.9-2-2-2zM9 17H7v-7h2v7zm4 0h-2V7h2v10zm4 0h-2v-4h2v4z\"/>\n",
              "    </g>\n",
              "</svg>\n",
              "  </button>\n",
              "\n",
              "<style>\n",
              "  .colab-df-quickchart {\n",
              "      --bg-color: #E8F0FE;\n",
              "      --fill-color: #1967D2;\n",
              "      --hover-bg-color: #E2EBFA;\n",
              "      --hover-fill-color: #174EA6;\n",
              "      --disabled-fill-color: #AAA;\n",
              "      --disabled-bg-color: #DDD;\n",
              "  }\n",
              "\n",
              "  [theme=dark] .colab-df-quickchart {\n",
              "      --bg-color: #3B4455;\n",
              "      --fill-color: #D2E3FC;\n",
              "      --hover-bg-color: #434B5C;\n",
              "      --hover-fill-color: #FFFFFF;\n",
              "      --disabled-bg-color: #3B4455;\n",
              "      --disabled-fill-color: #666;\n",
              "  }\n",
              "\n",
              "  .colab-df-quickchart {\n",
              "    background-color: var(--bg-color);\n",
              "    border: none;\n",
              "    border-radius: 50%;\n",
              "    cursor: pointer;\n",
              "    display: none;\n",
              "    fill: var(--fill-color);\n",
              "    height: 32px;\n",
              "    padding: 0;\n",
              "    width: 32px;\n",
              "  }\n",
              "\n",
              "  .colab-df-quickchart:hover {\n",
              "    background-color: var(--hover-bg-color);\n",
              "    box-shadow: 0 1px 2px rgba(60, 64, 67, 0.3), 0 1px 3px 1px rgba(60, 64, 67, 0.15);\n",
              "    fill: var(--button-hover-fill-color);\n",
              "  }\n",
              "\n",
              "  .colab-df-quickchart-complete:disabled,\n",
              "  .colab-df-quickchart-complete:disabled:hover {\n",
              "    background-color: var(--disabled-bg-color);\n",
              "    fill: var(--disabled-fill-color);\n",
              "    box-shadow: none;\n",
              "  }\n",
              "\n",
              "  .colab-df-spinner {\n",
              "    border: 2px solid var(--fill-color);\n",
              "    border-color: transparent;\n",
              "    border-bottom-color: var(--fill-color);\n",
              "    animation:\n",
              "      spin 1s steps(1) infinite;\n",
              "  }\n",
              "\n",
              "  @keyframes spin {\n",
              "    0% {\n",
              "      border-color: transparent;\n",
              "      border-bottom-color: var(--fill-color);\n",
              "      border-left-color: var(--fill-color);\n",
              "    }\n",
              "    20% {\n",
              "      border-color: transparent;\n",
              "      border-left-color: var(--fill-color);\n",
              "      border-top-color: var(--fill-color);\n",
              "    }\n",
              "    30% {\n",
              "      border-color: transparent;\n",
              "      border-left-color: var(--fill-color);\n",
              "      border-top-color: var(--fill-color);\n",
              "      border-right-color: var(--fill-color);\n",
              "    }\n",
              "    40% {\n",
              "      border-color: transparent;\n",
              "      border-right-color: var(--fill-color);\n",
              "      border-top-color: var(--fill-color);\n",
              "    }\n",
              "    60% {\n",
              "      border-color: transparent;\n",
              "      border-right-color: var(--fill-color);\n",
              "    }\n",
              "    80% {\n",
              "      border-color: transparent;\n",
              "      border-right-color: var(--fill-color);\n",
              "      border-bottom-color: var(--fill-color);\n",
              "    }\n",
              "    90% {\n",
              "      border-color: transparent;\n",
              "      border-bottom-color: var(--fill-color);\n",
              "    }\n",
              "  }\n",
              "</style>\n",
              "\n",
              "  <script>\n",
              "    async function quickchart(key) {\n",
              "      const quickchartButtonEl =\n",
              "        document.querySelector('#' + key + ' button');\n",
              "      quickchartButtonEl.disabled = true;  // To prevent multiple clicks.\n",
              "      quickchartButtonEl.classList.add('colab-df-spinner');\n",
              "      try {\n",
              "        const charts = await google.colab.kernel.invokeFunction(\n",
              "            'suggestCharts', [key], {});\n",
              "      } catch (error) {\n",
              "        console.error('Error during call to suggestCharts:', error);\n",
              "      }\n",
              "      quickchartButtonEl.classList.remove('colab-df-spinner');\n",
              "      quickchartButtonEl.classList.add('colab-df-quickchart-complete');\n",
              "    }\n",
              "    (() => {\n",
              "      let quickchartButtonEl =\n",
              "        document.querySelector('#df-55e7230e-caec-497a-a77b-f655aa019614 button');\n",
              "      quickchartButtonEl.style.display =\n",
              "        google.colab.kernel.accessAllowed ? 'block' : 'none';\n",
              "    })();\n",
              "  </script>\n",
              "</div>\n",
              "    </div>\n",
              "  </div>\n"
            ]
          },
          "metadata": {},
          "execution_count": 11
        }
      ]
    },
    {
      "cell_type": "code",
      "source": [
        "# Checking if there is missing value(s)\n",
        "data.isna().sum()"
      ],
      "metadata": {
        "colab": {
          "base_uri": "https://localhost:8080/"
        },
        "id": "7apvbY-a6yyt",
        "outputId": "b2187697-0a4c-414c-93e4-219f036cff88"
      },
      "id": "7apvbY-a6yyt",
      "execution_count": 13,
      "outputs": [
        {
          "output_type": "execute_result",
          "data": {
            "text/plain": [
              "patterns    0\n",
              "tags        0\n",
              "dtype: int64"
            ]
          },
          "metadata": {},
          "execution_count": 13
        }
      ]
    },
    {
      "cell_type": "markdown",
      "source": [
        "# **Preprocessing**"
      ],
      "metadata": {
        "id": "iU_Uetri5fd5"
      },
      "id": "iU_Uetri5fd5"
    },
    {
      "cell_type": "markdown",
      "source": [
        "## **Remove Punctuations**\n",
        "\n"
      ],
      "metadata": {
        "id": "u_04NeXTIImg"
      },
      "id": "u_04NeXTIImg"
    },
    {
      "cell_type": "code",
      "source": [
        "# Removing Punctuations\n",
        "data['patterns'] = data['patterns'].apply(lambda wrd:[ltrs.lower() for ltrs in wrd if ltrs not in string.punctuation])\n",
        "data['patterns'] = data['patterns'].apply(lambda wrd: ''.join(wrd))"
      ],
      "metadata": {
        "id": "Gh-7EtrfhQgY"
      },
      "id": "Gh-7EtrfhQgY",
      "execution_count": 14,
      "outputs": []
    },
    {
      "cell_type": "markdown",
      "source": [
        "## **Lemmatization**\n",
        "\n"
      ],
      "metadata": {
        "id": "5brR-qBLJDa_"
      },
      "id": "5brR-qBLJDa_"
    },
    {
      "cell_type": "code",
      "source": [
        "lemmatizer = WordNetLemmatizer()\n",
        "words = [lemmatizer.lemmatize(w.lower()) for w in words if w not in ignore_words]\n",
        "words = sorted(list(set(words)))\n",
        "\n",
        "print (len(words), \"unique lemmatized words\", words)"
      ],
      "metadata": {
        "id": "22MVRGBsO9gX",
        "colab": {
          "base_uri": "https://localhost:8080/"
        },
        "outputId": "babec40f-a86f-4b03-957e-2cdba55b6a2c"
      },
      "id": "22MVRGBsO9gX",
      "execution_count": 15,
      "outputs": [
        {
          "output_type": "stream",
          "name": "stdout",
          "text": [
            "297 unique lemmatized words [\"'ll\", \"'m\", \"'re\", \"'s\", \"'ve\", ',', '.', 'a', 'about', 'absolutely', 'advice', 'affect', 'afternoon', 'again', 'all', 'alot', 'already', 'am', 'and', 'another', 'answer', 'anxiety', 'anxious', 'any', 'anymore', 'anyone', 'anything', 'appears', 'approaching', 'are', 'ask', 'au', 'available', 'away', 'awful', 'be', 'because', 'become', 'before', 'better', 'between', 'bonjour', 'boyfriend', 'break', 'bring', 'brother', 'burned', 'by', 'bye', 'ca', 'call', 'can', 'cause', 'cheerful', 'child', 'commit', 'connection', 'continue', 'control', 'could', 'crazy', 'created', 'cure', 'dad', 'day', 'define', 'depressed', 'depression', 'deserve', 'did', 'die', 'died', 'difference', 'different', 'disorder', 'do', 'doe', 'down', 'dumb', 'else', 'empty', 'enough', 'evening', 'exam', 'fact', 'family', 'fare', 'feel', 'feeling', 'few', 'financial', 'find', 'fine', 'focus', 'for', 'friend', 'from', 'get', 'girlfriend', 'give', 'go', 'going', 'good', 'goodbye', 'great', 'group', 'guess', 'guten', 'had', 'hand', 'happy', 'hate', 'have', 'health', 'hello', 'help', 'helpful', 'hey', 'hi', 'hmmm', 'hola', 'how', 'howdy', 'i', 'if', 'ill', 'illness', 'importance', 'important', 'in', 'insominia', 'insomnia', 'interested', 'involved', 'is', 'it', 'joke', 'just', 'k', 'kill', 'killing', 'know', 'konnichiwa', 'last', 'later', 'learn', 'learning', 'let', 'like', 'live', 'location', 'lonely', 'made', 'maintain', 'make', 'me', 'mean', 'medication', 'meditation', 'mental', 'mentally', 'mentioned', 'mom', 'money', 'more', 'morning', 'much', 'my', 'myself', \"n't\", 'name', 'need', 'new', 'nice', 'night', 'no', 'nobody', 'not', 'nothing', 'now', 'of', 'oh', 'ok', 'okay', 'ola', 'on', 'one', 'open', 'option', 'or', 'out', 'passed', 'past', 'people', 'please', 'possibly', 'practicing', 'prepared', 'prevent', 'probably', 'problem', 'professional', 'proper', 'really', 'recover', 'relationship', 'repeating', 'response', 'revoir', 'right', 'robot', 'sad', 'sadness', 'said', 'say', 'saying', 'sayonara', 'scared', 'see', 'seem', 'sense', 'should', 'shut', 'sign', 'sister', 'sleep', 'slept', 'so', 'social', 'some', 'someone', 'something', 'sound', 'starting', 'stay', 'still', 'stress', 'stressed', 'stuck', 'stupid', 'suffering', 'suicide', 'support', 'sure', 'symptom', 'tag', 'take', 'talk', 'tell', 'than', 'thank', 'thanks', 'that', 'the', 'thee', 'then', 'therapist', 'therapy', 'there', 'think', 'this', 'thought', 'through', 'to', 'today', 'told', 'treatment', 'trust', 'type', 'understand', 'understands', 'unwell', 'up', 'useful', 'useless', 'very', 'want', 'warning', 'way', 'we', 'well', 'were', 'what', 'whatever', 'where', 'who', 'why', 'with', 'worried', 'worthless', 'would', 'wrong', 'yeah', 'yes', 'you', 'your', 'yourself']\n"
          ]
        }
      ]
    },
    {
      "cell_type": "markdown",
      "source": [
        "### **Sorting Data of Class Tags**"
      ],
      "metadata": {
        "id": "zmZpqovQE1Zb"
      },
      "id": "zmZpqovQE1Zb"
    },
    {
      "cell_type": "code",
      "source": [
        "# sort classes\n",
        "classes = sorted(list(set(classes)))\n",
        "print (len(classes), \"classes\", classes)"
      ],
      "metadata": {
        "id": "TK_v4Zw5P8rn",
        "colab": {
          "base_uri": "https://localhost:8080/"
        },
        "outputId": "9638840e-7d05-40d8-dac9-09aa5fa6bac7"
      },
      "id": "TK_v4Zw5P8rn",
      "execution_count": 16,
      "outputs": [
        {
          "output_type": "stream",
          "name": "stdout",
          "text": [
            "80 classes ['about', 'afternoon', 'anxious', 'ask', 'casual', 'creation', 'death', 'default', 'depressed', 'done', 'evening', 'fact-1', 'fact-10', 'fact-11', 'fact-12', 'fact-13', 'fact-14', 'fact-15', 'fact-16', 'fact-17', 'fact-18', 'fact-19', 'fact-2', 'fact-20', 'fact-21', 'fact-22', 'fact-23', 'fact-24', 'fact-25', 'fact-26', 'fact-27', 'fact-28', 'fact-29', 'fact-3', 'fact-30', 'fact-31', 'fact-32', 'fact-5', 'fact-6', 'fact-7', 'fact-8', 'fact-9', 'friends', 'goodbye', 'greeting', 'happy', 'hate-me', 'hate-you', 'help', 'jokes', 'learn-mental-health', 'learn-more', 'location', 'meditation', 'mental-health-fact', 'morning', 'name', 'neutral-response', 'night', 'no-approach', 'no-response', 'not-talking', 'pandora-useful', 'problem', 'repeat', 'sad', 'scared', 'skill', 'sleep', 'something-else', 'stressed', 'stupid', 'suicide', 'thanks', 'understand', 'user-advice', 'user-agree', 'user-meditation', 'worthless', 'wrong']\n"
          ]
        }
      ]
    },
    {
      "cell_type": "markdown",
      "source": [
        "### **Total Text Data**"
      ],
      "metadata": {
        "id": "u8s3ZKI9FCwo"
      },
      "id": "u8s3ZKI9FCwo"
    },
    {
      "cell_type": "code",
      "source": [
        "# documents = combination between patterns and intents\n",
        "print (len(documents), \"documents\")"
      ],
      "metadata": {
        "id": "Tv5lLFn1QCDP",
        "colab": {
          "base_uri": "https://localhost:8080/"
        },
        "outputId": "91ab89dc-ab82-4b64-e9ec-416d10e9f175"
      },
      "id": "Tv5lLFn1QCDP",
      "execution_count": 18,
      "outputs": [
        {
          "output_type": "stream",
          "name": "stdout",
          "text": [
            "1148 documents\n"
          ]
        }
      ]
    },
    {
      "cell_type": "markdown",
      "source": [
        "## **Tokenization**\n",
        "\n"
      ],
      "metadata": {
        "id": "sVdv1gW5N7a6"
      },
      "id": "sVdv1gW5N7a6"
    },
    {
      "cell_type": "code",
      "source": [
        "# Tokenize the data\n",
        "tokenizer = Tokenizer(num_words=1000)\n",
        "tokenizer.fit_on_texts(data['patterns'])\n",
        "train = tokenizer.texts_to_sequences(data['patterns'])\n",
        "train"
      ],
      "metadata": {
        "id": "Xr5aehymeQdi",
        "colab": {
          "base_uri": "https://localhost:8080/"
        },
        "outputId": "96da3861-c6a2-43c0-8354-1d49069b2aa0"
      },
      "id": "Xr5aehymeQdi",
      "execution_count": 19,
      "outputs": [
        {
          "output_type": "execute_result",
          "data": {
            "text/plain": [
              "[[95],\n",
              " [96],\n",
              " [14, 97, 41],\n",
              " [95, 41],\n",
              " [151],\n",
              " [96, 41],\n",
              " [152],\n",
              " [153],\n",
              " [154],\n",
              " [155],\n",
              " [156, 157],\n",
              " [158],\n",
              " [42, 159],\n",
              " [42, 160],\n",
              " [42, 161],\n",
              " [42, 162],\n",
              " [68],\n",
              " [98, 2, 163],\n",
              " [164],\n",
              " [165, 166],\n",
              " [167],\n",
              " [51, 68],\n",
              " [68, 168],\n",
              " [169, 170, 99],\n",
              " [100],\n",
              " [69, 2],\n",
              " [70, 171],\n",
              " [100, 18, 19, 32],\n",
              " [172, 2, 71, 52],\n",
              " [],\n",
              " [72, 52],\n",
              " [33, 12, 2],\n",
              " [3, 12, 2],\n",
              " [33, 2, 12],\n",
              " [34, 7, 35, 6, 73],\n",
              " [3, 14, 74, 53],\n",
              " [3, 75, 1, 173, 2],\n",
              " [76, 74, 53],\n",
              " [34, 7, 6, 73],\n",
              " [3, 10, 2, 13],\n",
              " [33, 101, 2],\n",
              " [24, 102, 2, 174],\n",
              " [24, 102, 2, 101],\n",
              " [15, 53, 14],\n",
              " [1, 9, 53],\n",
              " [1, 54, 175],\n",
              " [103, 2, 32, 7],\n",
              " [176, 7, 16, 177, 104],\n",
              " [10, 2, 32],\n",
              " [3, 10, 2, 13, 18, 7],\n",
              " [1, 36, 77],\n",
              " [1, 36, 32],\n",
              " [77, 7, 104],\n",
              " [1, 9, 178, 55],\n",
              " [1, 9, 20, 55],\n",
              " [1, 11, 179],\n",
              " [1, 11, 105],\n",
              " [1, 9, 105],\n",
              " [1, 11, 20, 55],\n",
              " [1, 11, 180],\n",
              " [1, 17, 21, 97],\n",
              " [1, 9, 20, 56, 78],\n",
              " [1, 9, 20, 56],\n",
              " [1, 11, 181],\n",
              " [1, 182, 11, 56],\n",
              " [1, 9, 20, 183, 78],\n",
              " [1, 11, 20, 184],\n",
              " [43, 185, 186, 7],\n",
              " [1, 28, 13, 106],\n",
              " [1, 9, 20, 107],\n",
              " [72, 187, 108, 109],\n",
              " [1, 28, 188, 29, 109],\n",
              " [1, 9, 20, 79],\n",
              " [1, 80, 22, 79],\n",
              " [1, 21, 30],\n",
              " [1, 11, 189, 190],\n",
              " [1, 9, 110],\n",
              " [1, 11, 110],\n",
              " [22, 42],\n",
              " [191],\n",
              " [22, 111],\n",
              " [1, 11, 51],\n",
              " [192, 1, 98],\n",
              " [51],\n",
              " [193],\n",
              " [194],\n",
              " [195],\n",
              " [196],\n",
              " [111],\n",
              " [81],\n",
              " [112],\n",
              " [43],\n",
              " [44, 113],\n",
              " [1, 11, 20, 114],\n",
              " [22, 20, 114, 57, 25],\n",
              " [1, 17, 23, 5, 45, 6, 29],\n",
              " [43, 82, 197, 58],\n",
              " [1, 28, 198, 31, 5, 199, 115],\n",
              " [82, 200, 115],\n",
              " [1, 21, 201],\n",
              " [1, 9, 116, 117, 202],\n",
              " [1, 28, 83],\n",
              " [1, 118, 203, 18, 19, 204, 119],\n",
              " [1, 28, 205, 5, 54, 5, 83],\n",
              " [1, 118, 206, 207, 83, 18, 19, 208, 209, 119],\n",
              " [22, 120],\n",
              " [26, 84, 210, 3, 13, 1, 13],\n",
              " [43, 1, 17, 23, 5, 11, 85, 211],\n",
              " [1, 9, 120, 18, 31],\n",
              " [15, 212, 86],\n",
              " [15, 213, 86],\n",
              " [15, 214, 87, 58],\n",
              " [15, 215, 87, 58],\n",
              " [121, 88, 15, 122, 86],\n",
              " [15, 216, 87, 58],\n",
              " [2, 17, 217, 7],\n",
              " [46, 82, 59, 218, 24, 47, 2, 27],\n",
              " [2, 28, 219, 27, 3, 22, 89, 220],\n",
              " [46, 107],\n",
              " [2, 28, 32, 7],\n",
              " [221, 222, 7],\n",
              " [70, 60],\n",
              " [1, 17, 21, 106, 35, 5, 123],\n",
              " [72, 61],\n",
              " [70, 60, 1, 21, 5, 123],\n",
              " [43, 26, 47, 124, 60],\n",
              " [1, 23, 5, 125, 31],\n",
              " [126, 223, 6, 224, 31],\n",
              " [1, 23, 5, 225],\n",
              " [1, 9, 89, 5, 125, 31],\n",
              " [1, 9, 89, 5, 226, 227],\n",
              " [1, 90, 2],\n",
              " [1, 17, 37, 2],\n",
              " [1, 17, 228, 2],\n",
              " [2, 90, 7],\n",
              " [1, 27, 2, 90, 7],\n",
              " [2, 17, 37, 7],\n",
              " [62],\n",
              " [127],\n",
              " [229],\n",
              " [230],\n",
              " [231],\n",
              " [122],\n",
              " [232],\n",
              " [233, 48],\n",
              " [34, 7, 16, 128],\n",
              " [34, 7, 129, 128],\n",
              " [2, 130, 234, 7, 26],\n",
              " [2, 235, 26, 130],\n",
              " [131, 12, 2, 236, 73],\n",
              " [3, 12, 2, 237],\n",
              " [26, 238, 239, 108],\n",
              " [132, 240],\n",
              " [132, 241],\n",
              " [12, 2, 242],\n",
              " [46, 243],\n",
              " [2, 12, 133],\n",
              " [12, 2, 133],\n",
              " [38, 12, 2],\n",
              " [38, 13, 2, 244],\n",
              " [3, 14, 74, 245],\n",
              " [1, 23, 5, 45, 6, 63, 61],\n",
              " [246, 45, 6, 63, 61],\n",
              " [10, 247, 44, 45, 6, 85],\n",
              " [1, 17, 23, 5, 45, 6, 85],\n",
              " [1, 17, 21, 134, 127],\n",
              " [10, 1, 248, 2, 63],\n",
              " [135, 57, 15, 62, 12, 249, 1, 11, 56, 78, 57, 1, 17, 80, 126, 250, 99, 251],\n",
              " [135, 57, 25, 15, 62],\n",
              " [1, 136, 44, 60, 1, 10, 80, 6, 12, 15, 62],\n",
              " [44, 113],\n",
              " [1, 136, 44],\n",
              " [51, 252, 1, 47, 37, 5, 39, 35, 6, 29],\n",
              " [112, 1, 47, 37, 5, 39, 35, 6, 29],\n",
              " [1, 47, 37, 5, 39, 35, 6, 29],\n",
              " [81, 46, 91, 1, 253, 16, 254],\n",
              " [81, 46, 255, 91, 6, 26],\n",
              " [256, 26, 84, 37, 29, 103, 124, 137, 5, 7],\n",
              " [26, 84, 137],\n",
              " [1, 257, 3, 2, 258, 49, 1, 11, 259, 138, 69, 2, 71, 52],\n",
              " [1, 11, 138, 260],\n",
              " [69, 2, 71, 52, 261, 139, 262, 263, 264, 49, 265, 140, 3, 1, 10, 266],\n",
              " [1, 23, 59, 92],\n",
              " [1, 36, 59, 92],\n",
              " [1, 36, 92, 140, 63],\n",
              " [1, 23, 5, 39, 6, 4, 8],\n",
              " [1, 23, 5, 39, 35, 6, 4, 8],\n",
              " [22, 267, 88, 268, 6, 4, 8],\n",
              " [34, 7, 16, 141, 6, 4, 8],\n",
              " [34, 7, 129, 141, 6, 4, 8],\n",
              " [3, 14, 4, 8],\n",
              " [142, 4, 8],\n",
              " [131, 14, 4, 8, 269],\n",
              " [3, 14, 19, 270, 25, 4, 8],\n",
              " [3, 14, 30],\n",
              " [142, 30],\n",
              " [24, 13, 1, 27, 40, 1, 21, 30],\n",
              " [9, 1, 79],\n",
              " [9, 1, 116, 117, 30],\n",
              " [9, 1, 271, 139],\n",
              " [3, 14, 16, 143],\n",
              " [3, 93, 16, 143, 13],\n",
              " [3, 14, 64],\n",
              " [13, 1, 36, 64],\n",
              " [33, 14, 64, 18],\n",
              " [3, 93, 29, 272, 5, 21, 16, 4, 50],\n",
              " [33, 93, 4, 50, 273],\n",
              " [3, 144, 4, 50],\n",
              " [3, 12, 59, 25, 19, 274, 275, 25, 4, 50],\n",
              " [10, 276, 277, 4, 50, 278],\n",
              " [3, 75, 1, 13, 40, 1, 27, 121, 33, 279, 5, 21, 19, 280, 25, 16, 4, 281],\n",
              " [24, 10, 1, 65, 16, 4, 8, 145, 18, 31, 146, 15, 147],\n",
              " [3, 94, 282, 12, 283],\n",
              " [40, 1, 284, 285, 88, 94, 3, 13, 1, 36, 5, 27],\n",
              " [3, 14, 19, 66, 67, 4, 8, 148],\n",
              " [24, 10, 1, 65, 16, 4, 8, 145, 91, 18, 15, 147, 146, 31],\n",
              " [38, 61, 10, 1, 286, 32],\n",
              " [3, 75, 1, 27, 287, 288, 16, 289, 290],\n",
              " [38, 10, 1, 54, 5, 65, 64],\n",
              " [38, 10, 1, 39, 6, 149, 25, 4, 8, 94],\n",
              " [3, 12, 19, 291, 149, 25, 4, 8, 148],\n",
              " [38, 10, 1, 54, 5, 65, 16, 77, 292],\n",
              " [10, 2, 293, 4, 8, 48],\n",
              " [12, 41, 294, 18, 4, 8, 48],\n",
              " [14, 41, 134, 295, 18, 4, 8, 48],\n",
              " [3, 144, 4, 8, 48],\n",
              " [3, 13, 1, 13, 40, 22, 296, 6, 15, 4, 8],\n",
              " [24, 13, 1, 27, 40, 22, 297],\n",
              " [24, 10, 1, 298, 299, 300, 3, 40, 1, 11, 55],\n",
              " [76, 19, 66, 67, 301, 49, 302],\n",
              " [76, 19, 66, 67, 150, 49, 30],\n",
              " [66, 67, 150, 49, 30]]"
            ]
          },
          "metadata": {},
          "execution_count": 19
        }
      ]
    },
    {
      "cell_type": "markdown",
      "source": [
        "## **Padding**\n",
        "\n",
        "\n"
      ],
      "metadata": {
        "id": "LfEpFf0hPOUZ"
      },
      "id": "LfEpFf0hPOUZ"
    },
    {
      "cell_type": "code",
      "source": [
        "# Apply padding\n",
        "x_train = pad_sequences(train)\n",
        "print(x_train) # Padding Sequences"
      ],
      "metadata": {
        "id": "5BQdPUTNvS1t",
        "colab": {
          "base_uri": "https://localhost:8080/"
        },
        "outputId": "a4d96e6f-7861-4238-9d16-4359d182f695"
      },
      "id": "5BQdPUTNvS1t",
      "execution_count": 23,
      "outputs": [
        {
          "output_type": "stream",
          "name": "stdout",
          "text": [
            "[[  0   0   0 ...   0   0  95]\n",
            " [  0   0   0 ...   0   0  96]\n",
            " [  0   0   0 ...  14  97  41]\n",
            " ...\n",
            " [  0   0   0 ... 301  49 302]\n",
            " [  0   0   0 ... 150  49  30]\n",
            " [  0   0   0 ... 150  49  30]]\n"
          ]
        }
      ]
    },
    {
      "cell_type": "markdown",
      "source": [
        "## **Encoding Text**\n"
      ],
      "metadata": {
        "id": "qY0vxxwBPeJC"
      },
      "id": "qY0vxxwBPeJC"
    },
    {
      "cell_type": "code",
      "source": [
        "# data['tags']"
      ],
      "metadata": {
        "colab": {
          "base_uri": "https://localhost:8080/"
        },
        "id": "YQW_X3rMBh4V",
        "outputId": "49c78325-1991-4945-e8ec-0668a5c0e364"
      },
      "id": "YQW_X3rMBh4V",
      "execution_count": 21,
      "outputs": [
        {
          "output_type": "execute_result",
          "data": {
            "text/plain": [
              "0      greeting\n",
              "1      greeting\n",
              "2      greeting\n",
              "3      greeting\n",
              "4      greeting\n",
              "         ...   \n",
              "227     fact-29\n",
              "228     fact-30\n",
              "229     fact-31\n",
              "230     fact-32\n",
              "231     fact-32\n",
              "Name: tags, Length: 232, dtype: object"
            ]
          },
          "metadata": {},
          "execution_count": 21
        }
      ]
    },
    {
      "cell_type": "code",
      "source": [
        "# Encoding the outputs\n",
        "le = LabelEncoder()\n",
        "y_train = le.fit_transform(data['tags'])\n",
        "print(y_train) #Label Encodings"
      ],
      "metadata": {
        "id": "sczq--IpTYWa",
        "colab": {
          "base_uri": "https://localhost:8080/"
        },
        "outputId": "b943741a-1e24-4e9f-82b6-804080e42f05"
      },
      "id": "sczq--IpTYWa",
      "execution_count": 24,
      "outputs": [
        {
          "output_type": "stream",
          "name": "stdout",
          "text": [
            "[44 44 44 44 44 44 44 44 44 44 44 44 55  1 10 58 43 43 43 43 43 43 43 43\n",
            " 73 73 73 73 73 60 57  0  0  0  0  0  0  0  0 67  5  5  5 56 56 56 48 48\n",
            " 48 48 48 48 48 65 65 65 65 65 65 65 65 70 70 70 70 70 78 78 78 78 78  8\n",
            "  8  8  8 45 45 45 45 45 45 45  4  4  4  4  4  4  4  4  4  4  4  2  2 61\n",
            " 61 61 61 68 68 68 68 68 68 66 66 66 66  6  6  6  6  6  6 74 74 74 74 74\n",
            " 74  9  9  9  9  9 72 72 72 72 72 47 47 47 46 46 46  7  7  7  7  7  7  7\n",
            "  7 49 49 64 64 64 79 79 79 79 71 71 71 71 52 52 52 69 69 69 69 42  3 63\n",
            " 63 59 59 59 51 51 51 76 76 53 53 77 77 62 75 75 75 50 50 50 54 54 11 11\n",
            " 22 22 33 33 37 37 37 37 38 38 39 39 39 40 41 12 13 14 15 16 17 18 19 20\n",
            " 21 23 24 25 26 27 28 29 29 30 31 32 34 35 36 36]\n"
          ]
        }
      ]
    },
    {
      "cell_type": "markdown",
      "source": [
        "# **Input Length, Output Length and Vocabulary**"
      ],
      "metadata": {
        "id": "_hE21zfRhiNS"
      },
      "id": "_hE21zfRhiNS"
    },
    {
      "cell_type": "code",
      "source": [
        "# Input length\n",
        "# Value of input_shape indicating that the input sequences have a length of __ tokens after padding,\n",
        "# which will be the input shape used for model definition and training.\n",
        "\n",
        "input_shape = x_train.shape[1]\n",
        "print(input_shape)"
      ],
      "metadata": {
        "id": "dbtBZXFvgvCB",
        "colab": {
          "base_uri": "https://localhost:8080/"
        },
        "outputId": "46bfb836-7b05-4568-bae0-49026882ab16"
      },
      "id": "dbtBZXFvgvCB",
      "execution_count": 25,
      "outputs": [
        {
          "output_type": "stream",
          "name": "stdout",
          "text": [
            "18\n"
          ]
        }
      ]
    },
    {
      "cell_type": "code",
      "source": [
        "# Define vocabulary\n",
        "vocabulary = len(tokenizer.word_index) # Calculates the length of the word index, which represents the number of unique words in the vocabulary.\n",
        "print(\"number of unique words : \", vocabulary)\n",
        "\n",
        "# Output length\n",
        "output_length = le.classes_.shape[0] #  contains the unique classes or labels encoded using LabelEncoder\n",
        "print(\"output length: \", output_length)"
      ],
      "metadata": {
        "id": "310y6oNLhuzv",
        "colab": {
          "base_uri": "https://localhost:8080/"
        },
        "outputId": "fe77eb22-19c7-4d8b-c67d-92fbb5b55b7d"
      },
      "id": "310y6oNLhuzv",
      "execution_count": 27,
      "outputs": [
        {
          "output_type": "stream",
          "name": "stdout",
          "text": [
            "number of unique words :  302\n",
            "output length:  80\n"
          ]
        }
      ]
    },
    {
      "cell_type": "markdown",
      "source": [
        "## **Save Model Words & Classes**\n",
        "It is typically used to establish a model's relationship that has been trained with a text processing model.\n",
        "\n"
      ],
      "metadata": {
        "id": "1LxIElYjQbB7"
      },
      "id": "1LxIElYjQbB7"
    },
    {
      "cell_type": "code",
      "source": [
        "pickle.dump(words, open('/content/drive/MyDrive/Project/NLP/Chatbot/Model/words.pkl','wb'))\n",
        "pickle.dump(classes, open('/content/drive/MyDrive/Project/NLP/Chatbot/Model/classes.pkl','wb'))"
      ],
      "metadata": {
        "id": "wYV77QFbQVLP"
      },
      "id": "wYV77QFbQVLP",
      "execution_count": 29,
      "outputs": []
    },
    {
      "cell_type": "markdown",
      "source": [
        "## **Save Label Encoder & Tokenizer**"
      ],
      "metadata": {
        "id": "dY9COWCwexgZ"
      },
      "id": "dY9COWCwexgZ"
    },
    {
      "cell_type": "code",
      "source": [
        "pickle.dump(le, open('/content/drive/MyDrive/Project/NLP/Chatbot/Model/le.pkl','wb'))\n",
        "pickle.dump(tokenizer, open('/content/drive/MyDrive/Project/NLP/Chatbot/Model/tokenizers.pkl','wb'))"
      ],
      "metadata": {
        "id": "saM3QTSjewR4"
      },
      "id": "saM3QTSjewR4",
      "execution_count": 30,
      "outputs": []
    },
    {
      "cell_type": "markdown",
      "source": [
        "# **Neural Network Model**\n",
        "\n"
      ],
      "metadata": {
        "id": "BI7OvNariInQ"
      },
      "id": "BI7OvNariInQ"
    },
    {
      "cell_type": "code",
      "source": [
        "# Creating the model\n",
        "i = Input(shape=(input_shape,)) # Defines the input layer with the shape (input_shape,). This layer specifies the shape of the input data the model will receive.\n",
        "x = Embedding(vocabulary+1,10)(i) # Creates an embedding layer. It maps input indices (words) into fixed-size dense vectors.\n",
        "x = LSTM(10, return_sequences=True)(x) # Layer Long Short Term Memory\n",
        "x = Flatten()(x) # Flattens the output from the LSTM layer into a one-dimensional tensor. This prepares the data for the subsequent fully connected layers.\n",
        "x = Dense(output_length, activation=\"softmax\")(x) # Adds a fully connected dense layer as the output layer.\n",
        "model  = Model(i,x) # This line constructs a Keras Model by specifying the input and output layers.\n",
        "\n",
        "# Compiling the model\n",
        "model.compile(loss=\"sparse_categorical_crossentropy\", optimizer='adam', metrics=['accuracy'])"
      ],
      "metadata": {
        "id": "2XBG3_reh2KY"
      },
      "id": "2XBG3_reh2KY",
      "execution_count": 31,
      "outputs": []
    },
    {
      "cell_type": "code",
      "source": [
        "# Visualization Plot Architecture Model\n",
        "plot_model(model, to_file='/content/drive/MyDrive/Project/NLP/Chatbot/model_plot.png', show_shapes=True, show_layer_names=True)"
      ],
      "metadata": {
        "id": "SO1blkS7ZzuH",
        "colab": {
          "base_uri": "https://localhost:8080/",
          "height": 533
        },
        "outputId": "73c3052b-60f5-42d7-88c9-3c7d11f57e1c"
      },
      "id": "SO1blkS7ZzuH",
      "execution_count": 32,
      "outputs": [
        {
          "output_type": "execute_result",
          "data": {
            "image/png": "[encoded data removed]",
            "text/plain": [
              "<IPython.core.display.Image object>"
            ]
          },
          "metadata": {},
          "execution_count": 32
        }
      ]
    },
    {
      "cell_type": "code",
      "source": [
        "# Showing Parameter Model\n",
        "model.summary()"
      ],
      "metadata": {
        "id": "4hab_JHoopQI",
        "colab": {
          "base_uri": "https://localhost:8080/"
        },
        "outputId": "ac74e91f-5f16-4e80-ddc5-518c68d1f203"
      },
      "id": "4hab_JHoopQI",
      "execution_count": 33,
      "outputs": [
        {
          "output_type": "stream",
          "name": "stdout",
          "text": [
            "Model: \"model\"\n",
            "_________________________________________________________________\n",
            " Layer (type)                Output Shape              Param #   \n",
            "=================================================================\n",
            " input_1 (InputLayer)        [(None, 18)]              0         \n",
            "                                                                 \n",
            " embedding (Embedding)       (None, 18, 10)            3030      \n",
            "                                                                 \n",
            " lstm (LSTM)                 (None, 18, 10)            840       \n",
            "                                                                 \n",
            " flatten (Flatten)           (None, 180)               0         \n",
            "                                                                 \n",
            " dense (Dense)               (None, 80)                14480     \n",
            "                                                                 \n",
            "=================================================================\n",
            "Total params: 18350 (71.68 KB)\n",
            "Trainable params: 18350 (71.68 KB)\n",
            "Non-trainable params: 0 (0.00 Byte)\n",
            "_________________________________________________________________\n"
          ]
        }
      ]
    },
    {
      "cell_type": "code",
      "source": [
        "# Training the model\n",
        "train = model.fit(x_train, y_train, epochs=200)"
      ],
      "metadata": {
        "id": "AHtOlCb8kGgZ",
        "colab": {
          "base_uri": "https://localhost:8080/"
        },
        "outputId": "3f6a4b77-10b1-4faa-eccf-048931d6d15d"
      },
      "id": "AHtOlCb8kGgZ",
      "execution_count": 34,
      "outputs": [
        {
          "output_type": "stream",
          "name": "stdout",
          "text": [
            "Epoch 1/200\n",
            "8/8 [==============================] - 3s 11ms/step - loss: 4.3781 - accuracy: 0.0216\n",
            "Epoch 2/200\n",
            "8/8 [==============================] - 0s 12ms/step - loss: 4.3584 - accuracy: 0.0172\n",
            "Epoch 3/200\n",
            "8/8 [==============================] - 0s 11ms/step - loss: 4.3314 - accuracy: 0.0172\n",
            "Epoch 4/200\n",
            "8/8 [==============================] - 0s 11ms/step - loss: 4.2843 - accuracy: 0.0474\n",
            "Epoch 5/200\n",
            "8/8 [==============================] - 0s 11ms/step - loss: 4.2179 - accuracy: 0.0474\n",
            "Epoch 6/200\n",
            "8/8 [==============================] - 0s 12ms/step - loss: 4.1275 - accuracy: 0.0474\n",
            "Epoch 7/200\n",
            "8/8 [==============================] - 0s 10ms/step - loss: 4.0668 - accuracy: 0.0474\n",
            "Epoch 8/200\n",
            "8/8 [==============================] - 0s 10ms/step - loss: 4.0481 - accuracy: 0.0474\n",
            "Epoch 9/200\n",
            "8/8 [==============================] - 0s 10ms/step - loss: 4.0297 - accuracy: 0.0474\n",
            "Epoch 10/200\n",
            "8/8 [==============================] - 0s 17ms/step - loss: 4.0091 - accuracy: 0.0474\n",
            "Epoch 11/200\n",
            "8/8 [==============================] - 0s 18ms/step - loss: 3.9950 - accuracy: 0.0474\n",
            "Epoch 12/200\n",
            "8/8 [==============================] - 0s 20ms/step - loss: 3.9783 - accuracy: 0.0474\n",
            "Epoch 13/200\n",
            "8/8 [==============================] - 0s 17ms/step - loss: 3.9613 - accuracy: 0.0517\n",
            "Epoch 14/200\n",
            "8/8 [==============================] - 0s 11ms/step - loss: 3.9391 - accuracy: 0.0733\n",
            "Epoch 15/200\n",
            "8/8 [==============================] - 0s 10ms/step - loss: 3.9197 - accuracy: 0.0603\n",
            "Epoch 16/200\n",
            "8/8 [==============================] - 0s 10ms/step - loss: 3.8931 - accuracy: 0.0647\n",
            "Epoch 17/200\n",
            "8/8 [==============================] - 0s 10ms/step - loss: 3.8677 - accuracy: 0.0647\n",
            "Epoch 18/200\n",
            "8/8 [==============================] - 0s 10ms/step - loss: 3.8355 - accuracy: 0.0690\n",
            "Epoch 19/200\n",
            "8/8 [==============================] - 0s 10ms/step - loss: 3.8076 - accuracy: 0.0690\n",
            "Epoch 20/200\n",
            "8/8 [==============================] - 0s 12ms/step - loss: 3.7722 - accuracy: 0.0690\n",
            "Epoch 21/200\n",
            "8/8 [==============================] - 0s 11ms/step - loss: 3.7349 - accuracy: 0.0948\n",
            "Epoch 22/200\n",
            "8/8 [==============================] - 0s 10ms/step - loss: 3.6889 - accuracy: 0.1250\n",
            "Epoch 23/200\n",
            "8/8 [==============================] - 0s 10ms/step - loss: 3.6532 - accuracy: 0.1034\n",
            "Epoch 24/200\n",
            "8/8 [==============================] - 0s 11ms/step - loss: 3.6099 - accuracy: 0.1207\n",
            "Epoch 25/200\n",
            "8/8 [==============================] - 0s 11ms/step - loss: 3.5656 - accuracy: 0.1250\n",
            "Epoch 26/200\n",
            "8/8 [==============================] - 0s 10ms/step - loss: 3.5211 - accuracy: 0.1466\n",
            "Epoch 27/200\n",
            "8/8 [==============================] - 0s 10ms/step - loss: 3.4703 - accuracy: 0.1638\n",
            "Epoch 28/200\n",
            "8/8 [==============================] - 0s 10ms/step - loss: 3.4315 - accuracy: 0.1379\n",
            "Epoch 29/200\n",
            "8/8 [==============================] - 0s 11ms/step - loss: 3.3889 - accuracy: 0.1336\n",
            "Epoch 30/200\n",
            "8/8 [==============================] - 0s 11ms/step - loss: 3.3463 - accuracy: 0.1379\n",
            "Epoch 31/200\n",
            "8/8 [==============================] - 0s 12ms/step - loss: 3.3052 - accuracy: 0.1552\n",
            "Epoch 32/200\n",
            "8/8 [==============================] - 0s 11ms/step - loss: 3.2647 - accuracy: 0.1552\n",
            "Epoch 33/200\n",
            "8/8 [==============================] - 0s 11ms/step - loss: 3.2312 - accuracy: 0.1638\n",
            "Epoch 34/200\n",
            "8/8 [==============================] - 0s 12ms/step - loss: 3.1949 - accuracy: 0.1724\n",
            "Epoch 35/200\n",
            "8/8 [==============================] - 0s 10ms/step - loss: 3.1541 - accuracy: 0.1810\n",
            "Epoch 36/200\n",
            "8/8 [==============================] - 0s 10ms/step - loss: 3.1210 - accuracy: 0.2241\n",
            "Epoch 37/200\n",
            "8/8 [==============================] - 0s 10ms/step - loss: 3.0884 - accuracy: 0.2241\n",
            "Epoch 38/200\n",
            "8/8 [==============================] - 0s 11ms/step - loss: 3.0577 - accuracy: 0.2198\n",
            "Epoch 39/200\n",
            "8/8 [==============================] - 0s 11ms/step - loss: 3.0313 - accuracy: 0.2155\n",
            "Epoch 40/200\n",
            "8/8 [==============================] - 0s 10ms/step - loss: 3.0080 - accuracy: 0.2284\n",
            "Epoch 41/200\n",
            "8/8 [==============================] - 0s 11ms/step - loss: 2.9775 - accuracy: 0.2500\n",
            "Epoch 42/200\n",
            "8/8 [==============================] - 0s 12ms/step - loss: 2.9678 - accuracy: 0.2414\n",
            "Epoch 43/200\n",
            "8/8 [==============================] - 0s 10ms/step - loss: 2.9310 - accuracy: 0.2457\n",
            "Epoch 44/200\n",
            "8/8 [==============================] - 0s 11ms/step - loss: 2.8808 - accuracy: 0.2672\n",
            "Epoch 45/200\n",
            "8/8 [==============================] - 0s 12ms/step - loss: 2.8570 - accuracy: 0.2500\n",
            "Epoch 46/200\n",
            "8/8 [==============================] - 0s 10ms/step - loss: 2.8285 - accuracy: 0.2500\n",
            "Epoch 47/200\n",
            "8/8 [==============================] - 0s 10ms/step - loss: 2.8016 - accuracy: 0.2759\n",
            "Epoch 48/200\n",
            "8/8 [==============================] - 0s 11ms/step - loss: 2.7730 - accuracy: 0.2802\n",
            "Epoch 49/200\n",
            "8/8 [==============================] - 0s 10ms/step - loss: 2.7488 - accuracy: 0.3017\n",
            "Epoch 50/200\n",
            "8/8 [==============================] - 0s 12ms/step - loss: 2.7169 - accuracy: 0.2888\n",
            "Epoch 51/200\n",
            "8/8 [==============================] - 0s 10ms/step - loss: 2.6953 - accuracy: 0.3233\n",
            "Epoch 52/200\n",
            "8/8 [==============================] - 0s 11ms/step - loss: 2.6752 - accuracy: 0.3190\n",
            "Epoch 53/200\n",
            "8/8 [==============================] - 0s 13ms/step - loss: 2.6486 - accuracy: 0.3448\n",
            "Epoch 54/200\n",
            "8/8 [==============================] - 0s 11ms/step - loss: 2.6227 - accuracy: 0.3319\n",
            "Epoch 55/200\n",
            "8/8 [==============================] - 0s 11ms/step - loss: 2.5942 - accuracy: 0.3276\n",
            "Epoch 56/200\n",
            "8/8 [==============================] - 0s 10ms/step - loss: 2.5633 - accuracy: 0.3233\n",
            "Epoch 57/200\n",
            "8/8 [==============================] - 0s 11ms/step - loss: 2.5521 - accuracy: 0.2931\n",
            "Epoch 58/200\n",
            "8/8 [==============================] - 0s 11ms/step - loss: 2.5344 - accuracy: 0.3190\n",
            "Epoch 59/200\n",
            "8/8 [==============================] - 0s 10ms/step - loss: 2.5048 - accuracy: 0.3491\n",
            "Epoch 60/200\n",
            "8/8 [==============================] - 0s 10ms/step - loss: 2.4773 - accuracy: 0.3534\n",
            "Epoch 61/200\n",
            "8/8 [==============================] - 0s 11ms/step - loss: 2.4463 - accuracy: 0.3362\n",
            "Epoch 62/200\n",
            "8/8 [==============================] - 0s 11ms/step - loss: 2.4234 - accuracy: 0.3578\n",
            "Epoch 63/200\n",
            "8/8 [==============================] - 0s 10ms/step - loss: 2.3979 - accuracy: 0.3448\n",
            "Epoch 64/200\n",
            "8/8 [==============================] - 0s 12ms/step - loss: 2.3822 - accuracy: 0.3534\n",
            "Epoch 65/200\n",
            "8/8 [==============================] - 0s 15ms/step - loss: 2.3664 - accuracy: 0.3578\n",
            "Epoch 66/200\n",
            "8/8 [==============================] - 0s 16ms/step - loss: 2.3492 - accuracy: 0.3836\n",
            "Epoch 67/200\n",
            "8/8 [==============================] - 0s 16ms/step - loss: 2.3103 - accuracy: 0.3750\n",
            "Epoch 68/200\n",
            "8/8 [==============================] - 0s 15ms/step - loss: 2.2956 - accuracy: 0.4009\n",
            "Epoch 69/200\n",
            "8/8 [==============================] - 0s 15ms/step - loss: 2.2728 - accuracy: 0.4138\n",
            "Epoch 70/200\n",
            "8/8 [==============================] - 0s 16ms/step - loss: 2.2482 - accuracy: 0.4009\n",
            "Epoch 71/200\n",
            "8/8 [==============================] - 0s 16ms/step - loss: 2.2231 - accuracy: 0.4095\n",
            "Epoch 72/200\n",
            "8/8 [==============================] - 0s 17ms/step - loss: 2.2059 - accuracy: 0.4095\n",
            "Epoch 73/200\n",
            "8/8 [==============================] - 0s 16ms/step - loss: 2.1877 - accuracy: 0.4267\n",
            "Epoch 74/200\n",
            "8/8 [==============================] - 0s 18ms/step - loss: 2.1718 - accuracy: 0.4009\n",
            "Epoch 75/200\n",
            "8/8 [==============================] - 0s 15ms/step - loss: 2.1511 - accuracy: 0.4224\n",
            "Epoch 76/200\n",
            "8/8 [==============================] - 0s 15ms/step - loss: 2.1295 - accuracy: 0.4353\n",
            "Epoch 77/200\n",
            "8/8 [==============================] - 0s 14ms/step - loss: 2.1029 - accuracy: 0.4569\n",
            "Epoch 78/200\n",
            "8/8 [==============================] - 0s 16ms/step - loss: 2.0952 - accuracy: 0.4784\n",
            "Epoch 79/200\n",
            "8/8 [==============================] - 0s 14ms/step - loss: 2.0757 - accuracy: 0.4698\n",
            "Epoch 80/200\n",
            "8/8 [==============================] - 0s 18ms/step - loss: 2.0795 - accuracy: 0.4526\n",
            "Epoch 81/200\n",
            "8/8 [==============================] - 0s 16ms/step - loss: 2.0556 - accuracy: 0.4698\n",
            "Epoch 82/200\n",
            "8/8 [==============================] - 0s 19ms/step - loss: 2.0129 - accuracy: 0.4914\n",
            "Epoch 83/200\n",
            "8/8 [==============================] - 0s 17ms/step - loss: 1.9925 - accuracy: 0.5172\n",
            "Epoch 84/200\n",
            "8/8 [==============================] - 0s 15ms/step - loss: 1.9722 - accuracy: 0.5216\n",
            "Epoch 85/200\n",
            "8/8 [==============================] - 0s 16ms/step - loss: 1.9471 - accuracy: 0.5345\n",
            "Epoch 86/200\n",
            "8/8 [==============================] - 0s 14ms/step - loss: 1.9328 - accuracy: 0.5086\n",
            "Epoch 87/200\n",
            "8/8 [==============================] - 0s 15ms/step - loss: 1.9177 - accuracy: 0.5302\n",
            "Epoch 88/200\n",
            "8/8 [==============================] - 0s 15ms/step - loss: 1.9016 - accuracy: 0.5517\n",
            "Epoch 89/200\n",
            "8/8 [==============================] - 0s 15ms/step - loss: 1.8806 - accuracy: 0.5776\n",
            "Epoch 90/200\n",
            "8/8 [==============================] - 0s 17ms/step - loss: 1.8613 - accuracy: 0.5991\n",
            "Epoch 91/200\n",
            "8/8 [==============================] - 0s 16ms/step - loss: 1.8449 - accuracy: 0.5690\n",
            "Epoch 92/200\n",
            "8/8 [==============================] - 0s 15ms/step - loss: 1.8310 - accuracy: 0.5819\n",
            "Epoch 93/200\n",
            "8/8 [==============================] - 0s 15ms/step - loss: 1.8169 - accuracy: 0.5733\n",
            "Epoch 94/200\n",
            "8/8 [==============================] - 0s 15ms/step - loss: 1.8067 - accuracy: 0.5905\n",
            "Epoch 95/200\n",
            "8/8 [==============================] - 0s 15ms/step - loss: 1.7820 - accuracy: 0.5948\n",
            "Epoch 96/200\n",
            "8/8 [==============================] - 0s 15ms/step - loss: 1.7578 - accuracy: 0.5991\n",
            "Epoch 97/200\n",
            "8/8 [==============================] - 0s 18ms/step - loss: 1.7445 - accuracy: 0.6078\n",
            "Epoch 98/200\n",
            "8/8 [==============================] - 0s 15ms/step - loss: 1.7220 - accuracy: 0.5991\n",
            "Epoch 99/200\n",
            "8/8 [==============================] - 0s 16ms/step - loss: 1.7073 - accuracy: 0.6078\n",
            "Epoch 100/200\n",
            "8/8 [==============================] - 0s 16ms/step - loss: 1.6953 - accuracy: 0.6207\n",
            "Epoch 101/200\n",
            "8/8 [==============================] - 0s 16ms/step - loss: 1.6779 - accuracy: 0.6250\n",
            "Epoch 102/200\n",
            "8/8 [==============================] - 0s 15ms/step - loss: 1.6719 - accuracy: 0.6121\n",
            "Epoch 103/200\n",
            "8/8 [==============================] - 0s 16ms/step - loss: 1.6455 - accuracy: 0.6293\n",
            "Epoch 104/200\n",
            "8/8 [==============================] - 0s 17ms/step - loss: 1.6282 - accuracy: 0.6595\n",
            "Epoch 105/200\n",
            "8/8 [==============================] - 0s 15ms/step - loss: 1.6091 - accuracy: 0.6638\n",
            "Epoch 106/200\n",
            "8/8 [==============================] - 0s 14ms/step - loss: 1.5963 - accuracy: 0.6509\n",
            "Epoch 107/200\n",
            "8/8 [==============================] - 0s 14ms/step - loss: 1.5803 - accuracy: 0.6293\n",
            "Epoch 108/200\n",
            "8/8 [==============================] - 0s 14ms/step - loss: 1.5663 - accuracy: 0.6336\n",
            "Epoch 109/200\n",
            "8/8 [==============================] - 0s 14ms/step - loss: 1.5517 - accuracy: 0.6810\n",
            "Epoch 110/200\n",
            "8/8 [==============================] - 0s 14ms/step - loss: 1.5329 - accuracy: 0.6810\n",
            "Epoch 111/200\n",
            "8/8 [==============================] - 0s 15ms/step - loss: 1.5174 - accuracy: 0.6810\n",
            "Epoch 112/200\n",
            "8/8 [==============================] - 0s 15ms/step - loss: 1.5088 - accuracy: 0.6940\n",
            "Epoch 113/200\n",
            "8/8 [==============================] - 0s 15ms/step - loss: 1.4919 - accuracy: 0.6853\n",
            "Epoch 114/200\n",
            "8/8 [==============================] - 0s 17ms/step - loss: 1.4725 - accuracy: 0.6681\n",
            "Epoch 115/200\n",
            "8/8 [==============================] - 0s 16ms/step - loss: 1.4600 - accuracy: 0.6897\n",
            "Epoch 116/200\n",
            "8/8 [==============================] - 0s 17ms/step - loss: 1.4463 - accuracy: 0.7069\n",
            "Epoch 117/200\n",
            "8/8 [==============================] - 0s 17ms/step - loss: 1.4349 - accuracy: 0.7112\n",
            "Epoch 118/200\n",
            "8/8 [==============================] - 0s 15ms/step - loss: 1.4246 - accuracy: 0.7198\n",
            "Epoch 119/200\n",
            "8/8 [==============================] - 0s 15ms/step - loss: 1.4061 - accuracy: 0.7155\n",
            "Epoch 120/200\n",
            "8/8 [==============================] - 0s 18ms/step - loss: 1.3925 - accuracy: 0.7155\n",
            "Epoch 121/200\n",
            "8/8 [==============================] - 0s 14ms/step - loss: 1.3713 - accuracy: 0.7198\n",
            "Epoch 122/200\n",
            "8/8 [==============================] - 0s 15ms/step - loss: 1.3627 - accuracy: 0.7328\n",
            "Epoch 123/200\n",
            "8/8 [==============================] - 0s 14ms/step - loss: 1.3480 - accuracy: 0.7241\n",
            "Epoch 124/200\n",
            "8/8 [==============================] - 0s 15ms/step - loss: 1.3372 - accuracy: 0.7284\n",
            "Epoch 125/200\n",
            "8/8 [==============================] - 0s 15ms/step - loss: 1.3237 - accuracy: 0.7284\n",
            "Epoch 126/200\n",
            "8/8 [==============================] - 0s 15ms/step - loss: 1.3075 - accuracy: 0.7328\n",
            "Epoch 127/200\n",
            "8/8 [==============================] - 0s 18ms/step - loss: 1.2953 - accuracy: 0.7198\n",
            "Epoch 128/200\n",
            "8/8 [==============================] - 0s 18ms/step - loss: 1.2792 - accuracy: 0.7241\n",
            "Epoch 129/200\n",
            "8/8 [==============================] - 0s 16ms/step - loss: 1.2783 - accuracy: 0.7198\n",
            "Epoch 130/200\n",
            "8/8 [==============================] - 0s 15ms/step - loss: 1.2608 - accuracy: 0.7328\n",
            "Epoch 131/200\n",
            "8/8 [==============================] - 0s 13ms/step - loss: 1.2463 - accuracy: 0.7284\n",
            "Epoch 132/200\n",
            "8/8 [==============================] - 0s 12ms/step - loss: 1.2318 - accuracy: 0.7371\n",
            "Epoch 133/200\n",
            "8/8 [==============================] - 0s 11ms/step - loss: 1.2204 - accuracy: 0.7198\n",
            "Epoch 134/200\n",
            "8/8 [==============================] - 0s 11ms/step - loss: 1.2054 - accuracy: 0.7457\n",
            "Epoch 135/200\n",
            "8/8 [==============================] - 0s 11ms/step - loss: 1.1978 - accuracy: 0.7457\n",
            "Epoch 136/200\n",
            "8/8 [==============================] - 0s 11ms/step - loss: 1.1861 - accuracy: 0.7414\n",
            "Epoch 137/200\n",
            "8/8 [==============================] - 0s 12ms/step - loss: 1.1749 - accuracy: 0.7457\n",
            "Epoch 138/200\n",
            "8/8 [==============================] - 0s 12ms/step - loss: 1.1633 - accuracy: 0.7672\n",
            "Epoch 139/200\n",
            "8/8 [==============================] - 0s 11ms/step - loss: 1.1545 - accuracy: 0.7586\n",
            "Epoch 140/200\n",
            "8/8 [==============================] - 0s 11ms/step - loss: 1.1409 - accuracy: 0.7500\n",
            "Epoch 141/200\n",
            "8/8 [==============================] - 0s 10ms/step - loss: 1.1294 - accuracy: 0.7414\n",
            "Epoch 142/200\n",
            "8/8 [==============================] - 0s 11ms/step - loss: 1.1178 - accuracy: 0.7716\n",
            "Epoch 143/200\n",
            "8/8 [==============================] - 0s 11ms/step - loss: 1.1093 - accuracy: 0.7888\n",
            "Epoch 144/200\n",
            "8/8 [==============================] - 0s 12ms/step - loss: 1.0961 - accuracy: 0.7586\n",
            "Epoch 145/200\n",
            "8/8 [==============================] - 0s 12ms/step - loss: 1.0891 - accuracy: 0.7543\n",
            "Epoch 146/200\n",
            "8/8 [==============================] - 0s 10ms/step - loss: 1.0776 - accuracy: 0.7500\n",
            "Epoch 147/200\n",
            "8/8 [==============================] - 0s 10ms/step - loss: 1.0648 - accuracy: 0.7716\n",
            "Epoch 148/200\n",
            "8/8 [==============================] - 0s 11ms/step - loss: 1.0585 - accuracy: 0.7974\n",
            "Epoch 149/200\n",
            "8/8 [==============================] - 0s 13ms/step - loss: 1.0498 - accuracy: 0.7974\n",
            "Epoch 150/200\n",
            "8/8 [==============================] - 0s 11ms/step - loss: 1.0358 - accuracy: 0.7802\n",
            "Epoch 151/200\n",
            "8/8 [==============================] - 0s 10ms/step - loss: 1.0245 - accuracy: 0.7845\n",
            "Epoch 152/200\n",
            "8/8 [==============================] - 0s 12ms/step - loss: 1.0180 - accuracy: 0.8017\n",
            "Epoch 153/200\n",
            "8/8 [==============================] - 0s 11ms/step - loss: 1.0143 - accuracy: 0.8017\n",
            "Epoch 154/200\n",
            "8/8 [==============================] - 0s 11ms/step - loss: 0.9957 - accuracy: 0.8190\n",
            "Epoch 155/200\n",
            "8/8 [==============================] - 0s 11ms/step - loss: 0.9911 - accuracy: 0.8190\n",
            "Epoch 156/200\n",
            "8/8 [==============================] - 0s 11ms/step - loss: 0.9783 - accuracy: 0.8190\n",
            "Epoch 157/200\n",
            "8/8 [==============================] - 0s 11ms/step - loss: 0.9685 - accuracy: 0.7931\n",
            "Epoch 158/200\n",
            "8/8 [==============================] - 0s 12ms/step - loss: 0.9582 - accuracy: 0.7931\n",
            "Epoch 159/200\n",
            "8/8 [==============================] - 0s 13ms/step - loss: 0.9531 - accuracy: 0.7974\n",
            "Epoch 160/200\n",
            "8/8 [==============================] - 0s 10ms/step - loss: 0.9413 - accuracy: 0.8017\n",
            "Epoch 161/200\n",
            "8/8 [==============================] - 0s 12ms/step - loss: 0.9328 - accuracy: 0.8017\n",
            "Epoch 162/200\n",
            "8/8 [==============================] - 0s 12ms/step - loss: 0.9288 - accuracy: 0.7888\n",
            "Epoch 163/200\n",
            "8/8 [==============================] - 0s 11ms/step - loss: 0.9146 - accuracy: 0.7931\n",
            "Epoch 164/200\n",
            "8/8 [==============================] - 0s 12ms/step - loss: 0.9135 - accuracy: 0.8060\n",
            "Epoch 165/200\n",
            "8/8 [==============================] - 0s 11ms/step - loss: 0.9040 - accuracy: 0.8103\n",
            "Epoch 166/200\n",
            "8/8 [==============================] - 0s 11ms/step - loss: 0.8932 - accuracy: 0.8233\n",
            "Epoch 167/200\n",
            "8/8 [==============================] - 0s 12ms/step - loss: 0.8862 - accuracy: 0.8276\n",
            "Epoch 168/200\n",
            "8/8 [==============================] - 0s 12ms/step - loss: 0.8788 - accuracy: 0.8017\n",
            "Epoch 169/200\n",
            "8/8 [==============================] - 0s 12ms/step - loss: 0.8678 - accuracy: 0.8017\n",
            "Epoch 170/200\n",
            "8/8 [==============================] - 0s 11ms/step - loss: 0.8654 - accuracy: 0.8147\n",
            "Epoch 171/200\n",
            "8/8 [==============================] - 0s 11ms/step - loss: 0.8534 - accuracy: 0.8233\n",
            "Epoch 172/200\n",
            "8/8 [==============================] - 0s 11ms/step - loss: 0.8467 - accuracy: 0.8190\n",
            "Epoch 173/200\n",
            "8/8 [==============================] - 0s 11ms/step - loss: 0.8364 - accuracy: 0.8276\n",
            "Epoch 174/200\n",
            "8/8 [==============================] - 0s 10ms/step - loss: 0.8317 - accuracy: 0.8362\n",
            "Epoch 175/200\n",
            "8/8 [==============================] - 0s 10ms/step - loss: 0.8263 - accuracy: 0.8448\n",
            "Epoch 176/200\n",
            "8/8 [==============================] - 0s 11ms/step - loss: 0.8142 - accuracy: 0.8276\n",
            "Epoch 177/200\n",
            "8/8 [==============================] - 0s 12ms/step - loss: 0.8066 - accuracy: 0.8233\n",
            "Epoch 178/200\n",
            "8/8 [==============================] - 0s 11ms/step - loss: 0.7977 - accuracy: 0.8276\n",
            "Epoch 179/200\n",
            "8/8 [==============================] - 0s 11ms/step - loss: 0.7900 - accuracy: 0.8405\n",
            "Epoch 180/200\n",
            "8/8 [==============================] - 0s 13ms/step - loss: 0.7868 - accuracy: 0.8233\n",
            "Epoch 181/200\n",
            "8/8 [==============================] - 0s 11ms/step - loss: 0.7773 - accuracy: 0.8319\n",
            "Epoch 182/200\n",
            "8/8 [==============================] - 0s 11ms/step - loss: 0.7776 - accuracy: 0.8362\n",
            "Epoch 183/200\n",
            "8/8 [==============================] - 0s 11ms/step - loss: 0.7669 - accuracy: 0.8491\n",
            "Epoch 184/200\n",
            "8/8 [==============================] - 0s 11ms/step - loss: 0.7582 - accuracy: 0.8621\n",
            "Epoch 185/200\n",
            "8/8 [==============================] - 0s 11ms/step - loss: 0.7555 - accuracy: 0.8534\n",
            "Epoch 186/200\n",
            "8/8 [==============================] - 0s 11ms/step - loss: 0.7486 - accuracy: 0.8362\n",
            "Epoch 187/200\n",
            "8/8 [==============================] - 0s 11ms/step - loss: 0.7439 - accuracy: 0.8190\n",
            "Epoch 188/200\n",
            "8/8 [==============================] - 0s 11ms/step - loss: 0.7343 - accuracy: 0.8362\n",
            "Epoch 189/200\n",
            "8/8 [==============================] - 0s 57ms/step - loss: 0.7257 - accuracy: 0.8621\n",
            "Epoch 190/200\n",
            "8/8 [==============================] - 0s 11ms/step - loss: 0.7195 - accuracy: 0.8793\n",
            "Epoch 191/200\n",
            "8/8 [==============================] - 0s 10ms/step - loss: 0.7137 - accuracy: 0.8448\n",
            "Epoch 192/200\n",
            "8/8 [==============================] - 0s 11ms/step - loss: 0.7075 - accuracy: 0.8534\n",
            "Epoch 193/200\n",
            "8/8 [==============================] - 0s 10ms/step - loss: 0.7026 - accuracy: 0.8578\n",
            "Epoch 194/200\n",
            "8/8 [==============================] - 0s 10ms/step - loss: 0.6995 - accuracy: 0.8491\n",
            "Epoch 195/200\n",
            "8/8 [==============================] - 0s 11ms/step - loss: 0.6922 - accuracy: 0.8491\n",
            "Epoch 196/200\n",
            "8/8 [==============================] - 0s 11ms/step - loss: 0.6838 - accuracy: 0.8534\n",
            "Epoch 197/200\n",
            "8/8 [==============================] - 0s 11ms/step - loss: 0.6793 - accuracy: 0.8578\n",
            "Epoch 198/200\n",
            "8/8 [==============================] - 0s 13ms/step - loss: 0.6737 - accuracy: 0.8534\n",
            "Epoch 199/200\n",
            "8/8 [==============================] - 0s 11ms/step - loss: 0.6658 - accuracy: 0.8578\n",
            "Epoch 200/200\n",
            "8/8 [==============================] - 0s 12ms/step - loss: 0.6587 - accuracy: 0.8750\n"
          ]
        }
      ]
    },
    {
      "cell_type": "markdown",
      "source": [
        "# **Model Analysis**"
      ],
      "metadata": {
        "id": "BfQP5TaPkGzB"
      },
      "id": "BfQP5TaPkGzB"
    },
    {
      "cell_type": "code",
      "source": [
        "# Plotting model Accuracy and Loss (Visualization of the Result Plot of Accuracy and Loss)\n",
        "# Plot Accuracy\n",
        "plt.figure(figsize=(14, 5))\n",
        "plt.subplot(1, 2, 1)\n",
        "plt.plot(train.history['accuracy'],label='Training Set Accuracy')\n",
        "plt.legend(loc='lower right')\n",
        "plt.title('Accuracy')\n",
        "# Plot Loss\n",
        "plt.subplot(1, 2, 2)\n",
        "plt.plot(train.history['loss'],label='Training Set Loss')\n",
        "plt.legend(loc='upper right')\n",
        "plt.title('Loss')\n",
        "plt.show()"
      ],
      "metadata": {
        "id": "FEz3P5djksfa",
        "colab": {
          "base_uri": "https://localhost:8080/",
          "height": 379
        },
        "outputId": "7a0d3167-baa5-4938-d6a8-c57b584d3f70"
      },
      "id": "FEz3P5djksfa",
      "execution_count": 35,
      "outputs": [
        {
          "output_type": "display_data",
          "data": {
            "text/plain": [
              "<Figure size 1400x500 with 2 Axes>"
            ],
            "image/png": "[encoded data removed]"
          },
          "metadata": {}
        }
      ]
    },
    {
      "cell_type": "markdown",
      "source": [
        "# **Chatbot Testing and Adding Voices to Chatbot**\n",
        "\n"
      ],
      "metadata": {
        "id": "WcOYpQfuln4T"
      },
      "id": "WcOYpQfuln4T"
    },
    {
      "cell_type": "code",
      "source": [
        "# Chat Inpit\n",
        "while True:\n",
        "  texts_p = []\n",
        "  prediction_input = input('You : ')\n",
        "\n",
        "  # Erase punctuation and convert to small case letter\n",
        "  prediction_input = [letters.lower() for letters in prediction_input if letters not in string.punctuation]\n",
        "  prediction_input = ''.join(prediction_input)\n",
        "  texts_p.append(prediction_input)\n",
        "\n",
        "  # Tokenization and Padding\n",
        "  prediction_input = tokenizer.texts_to_sequences(texts_p)\n",
        "  prediction_input = np.array(prediction_input).reshape(-1)\n",
        "  prediction_input = pad_sequences([prediction_input],input_shape)\n",
        "\n",
        "  # Output model\n",
        "  output = model.predict(prediction_input)\n",
        "  output = output.argmax()\n",
        "\n",
        "  # Finding response according data tag and playing the voice bot\n",
        "  response_tag = le.inverse_transform([output])[0]\n",
        "  tempResponse = random.choice(responses[response_tag])\n",
        "  print(\"Stress Buster Bot : \", tempResponse)\n",
        "  tts = gTTS(tempResponse, lang='en')\n",
        "\n",
        "  # Save the model voice bot into the Google Drive\n",
        "  tts.save('/content/drive/MyDrive/Project/NLP/Chatbot/Model/RCRA.wav')\n",
        "  time.sleep(0.08)\n",
        "\n",
        "  # Load the model voice bot from Google Drive\n",
        "  ipd.display(ipd.Audio('/content/drive/MyDrive/Project/NLP/Chatbot/Model/RCRA.wav', autoplay=False))\n",
        "  print(\"*click the button to play the voice*\\n\" + \"=\"*60 + \"\\n\")\n",
        "\n",
        "  # Adding a response 'goodbye' so that bot can be stopped\n",
        "  if response_tag == \"goodbye\":\n",
        "    break"
      ],
      "metadata": {
        "id": "fao4rG4rlh1D",
        "colab": {
          "base_uri": "https://localhost:8080/",
          "height": 862
        },
        "outputId": "d75364b0-6b19-44fb-fbbf-b02cc3ec3927"
      },
      "id": "fao4rG4rlh1D",
      "execution_count": 76,
      "outputs": [
        {
          "output_type": "stream",
          "name": "stdout",
          "text": [
            "You : hi\n",
            "1/1 [==============================] - 0s 25ms/step\n",
            "Stress Buster Bot :  Hi there. What brings you here today?\n"
          ]
        },
        {
          "output_type": "display_data",
          "data": {
            "text/plain": [
              "<IPython.lib.display.Audio object>"
            ],
            "text/html": [
              "\n",
              "                <audio  controls=\"controls\" >\n",
              "                    <source src=\"data:audio/x-wav;base64,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\" type=\"audio/x-wav\" />\n",
              "                    Your browser does not support the audio element.\n",
              "                </audio>\n",
              "              "
            ]
          },
          "metadata": {}
        },
        {
          "output_type": "stream",
          "name": "stdout",
          "text": [
            "*click the button to play the voice*\n",
            "============================================================\n",
            "\n",
            "You : I feel sad\n",
            "1/1 [==============================] - 0s 23ms/step\n",
            "Stress Buster Bot :  I'm sorry to hear that. I'm here for you. Talking about it might help. So, tell me why do you think you're feeling this way?\n"
          ]
        },
        {
          "output_type": "display_data",
          "data": {
            "text/plain": [
              "<IPython.lib.display.Audio object>"
            ],
            "text/html": [
              "\n",
              "                <audio  controls=\"controls\" >\n",
              "                    <source src=\"data:audio/x-wav;base64,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\" type=\"audio/x-wav\" />\n",
              "                    Your browser does not support the audio element.\n",
              "                </audio>\n",
              "              "
            ]
          },
          "metadata": {}
        },
        {
          "output_type": "stream",
          "name": "stdout",
          "text": [
            "*click the button to play the voice*\n",
            "============================================================\n",
            "\n",
            "You : My friend passed away\n",
            "1/1 [==============================] - 0s 25ms/step\n",
            "Stress Buster Bot :  I'm sorry to hear that. If you want to talk about it. I'm here.\n"
          ]
        },
        {
          "output_type": "display_data",
          "data": {
            "text/plain": [
              "<IPython.lib.display.Audio object>"
            ],
            "text/html": [
              "\n",
              "                <audio  controls=\"controls\" >\n",
              "                    <source src=\"data:audio/x-wav;base64,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\" type=\"audio/x-wav\" />\n",
              "                    Your browser does not support the audio element.\n",
              "                </audio>\n",
              "              "
            ]
          },
          "metadata": {}
        },
        {
          "output_type": "stream",
          "name": "stdout",
          "text": [
            "*click the button to play the voice*\n",
            "============================================================\n",
            "\n",
            "You : Not now I guess\n",
            "1/1 [==============================] - 0s 23ms/step\n",
            "Stress Buster Bot :  I heard you & noted it all. See you later.\n"
          ]
        },
        {
          "output_type": "display_data",
          "data": {
            "text/plain": [
              "<IPython.lib.display.Audio object>"
            ],
            "text/html": [
              "\n",
              "                <audio  controls=\"controls\" >\n",
              "                    <source src=\"data:audio/x-wav;base64,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\" type=\"audio/x-wav\" />\n",
              "                    Your browser does not support the audio element.\n",
              "                </audio>\n",
              "              "
            ]
          },
          "metadata": {}
        },
        {
          "output_type": "stream",
          "name": "stdout",
          "text": [
            "*click the button to play the voice*\n",
            "============================================================\n",
            "\n",
            "You : Thank you, see you later\n",
            "1/1 [==============================] - 0s 33ms/step\n",
            "Stress Buster Bot :  Bye! Come back again.\n"
          ]
        },
        {
          "output_type": "display_data",
          "data": {
            "text/plain": [
              "<IPython.lib.display.Audio object>"
            ],
            "text/html": [
              "\n",
              "                <audio  controls=\"controls\" >\n",
              "                    <source src=\"data:audio/x-wav;base64,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\" type=\"audio/x-wav\" />\n",
              "                    Your browser does not support the audio element.\n",
              "                </audio>\n",
              "              "
            ]
          },
          "metadata": {}
        },
        {
          "output_type": "stream",
          "name": "stdout",
          "text": [
            "*click the button to play the voice*\n",
            "============================================================\n",
            "\n"
          ]
        }
      ]
    },
    {
      "cell_type": "markdown",
      "source": [
        "# **Save The Model**\n"
      ],
      "metadata": {
        "id": "PpFwQ9gWmWtk"
      },
      "id": "PpFwQ9gWmWtk"
    },
    {
      "cell_type": "code",
      "source": [
        "# Save the model with the file format .h5 atau .pkl (pickle)\n",
        "model.save('/content/drive/MyDrive/Project/NLP/Chatbot/Model/RCRA_chatbot_model.h5')\n",
        "\n",
        "print('Model Created Successfully!')"
      ],
      "metadata": {
        "id": "MxdDHujDmaC0",
        "colab": {
          "base_uri": "https://localhost:8080/"
        },
        "outputId": "00001f95-5ca4-4ac8-f332-b436f823a655"
      },
      "id": "MxdDHujDmaC0",
      "execution_count": 37,
      "outputs": [
        {
          "output_type": "stream",
          "name": "stdout",
          "text": [
            "Model Created Successfully!\n"
          ]
        },
        {
          "output_type": "stream",
          "name": "stderr",
          "text": [
            "/usr/local/lib/python3.10/dist-packages/keras/src/engine/training.py:3079: UserWarning: You are saving your model as an HDF5 file via `model.save()`. This file format is considered legacy. We recommend using instead the native Keras format, e.g. `model.save('my_model.keras')`.\n",
            "  saving_api.save_model(\n"
          ]
        }
      ]
    }
  ],
  "metadata": {
    "kernelspec": {
      "display_name": "Python 3 (ipykernel)",
      "language": "python",
      "name": "python3"
    },
    "language_info": {
      "codemirror_mode": {
        "name": "ipython",
        "version": 3
      },
      "file_extension": ".py",
      "mimetype": "text/x-python",
      "name": "python",
      "nbconvert_exporter": "python",
      "pygments_lexer": "ipython3",
      "version": "3.9.7"
    },
    "latex_envs": {
      "LaTeX_envs_menu_present": true,
      "autoclose": false,
      "autocomplete": true,
      "bibliofile": "biblio.bib",
      "cite_by": "apalike",
      "current_citInitial": 1,
      "eqLabelWithNumbers": true,
      "eqNumInitial": 1,
      "hotkeys": {
        "equation": "Ctrl-E",
        "itemize": "Ctrl-I"
      },
      "labels_anchors": false,
      "latex_user_defs": false,
      "report_style_numbering": false,
      "user_envs_cfg": false
    },
    "varInspector": {
      "cols": {
        "lenName": 16,
        "lenType": 16,
        "lenVar": 40
      },
      "kernels_config": {
        "python": {
          "delete_cmd_postfix": "",
          "delete_cmd_prefix": "del ",
          "library": "var_list.py",
          "varRefreshCmd": "print(var_dic_list())"
        },
        "r": {
          "delete_cmd_postfix": ") ",
          "delete_cmd_prefix": "rm(",
          "library": "var_list.r",
          "varRefreshCmd": "cat(var_dic_list()) "
        }
      },
      "types_to_exclude": [
        "module",
        "function",
        "builtin_function_or_method",
        "instance",
        "_Feature"
      ],
      "window_display": false
    },
    "colab": {
      "provenance": [],
      "include_colab_link": true
    },
    "gpuClass": "standard"
  },
  "nbformat": 4,
  "nbformat_minor": 5
}