{
  "cells": [
    {
      "cell_type": "markdown",
      "metadata": {
        "id": "view-in-github",
        "colab_type": "text"
      },
      "source": [
        "<a href=\"https://colab.research.google.com/github/louiskrisdy/Mental-Health-Chatbot/blob/main/Mental_Health_Chatbot.ipynb\" target=\"_parent\"><img src=\"https://colab.research.google.com/assets/colab-badge.svg\" alt=\"Open In Colab\"/></a>"
      ]
    },
    {
      "cell_type": "markdown",
      "source": [
        "# **Load Google Drive** ##\n",
        "We will save our model and certain file(s) here and we take the dataset file from GDrive. Make sure to give the permission to connect to our Gdrive and give the permission.\n",
        "\n",
        "\n"
      ],
      "metadata": {
        "id": "QRVBAWzMXnGf"
      },
      "id": "QRVBAWzMXnGf"
    },
    {
      "cell_type": "code",
      "source": [
        "from google.colab import drive\n",
        "drive.mount('/content/drive')"
      ],
      "metadata": {
        "id": "kXBRl7ZqXlGD",
        "colab": {
          "base_uri": "https://localhost:8080/"
        },
        "outputId": "0f320bfc-8b03-4108-d927-81f5ed37ba8b"
      },
      "id": "kXBRl7ZqXlGD",
      "execution_count": 1,
      "outputs": [
        {
          "output_type": "stream",
          "name": "stdout",
          "text": [
            "Mounted at /content/drive\n"
          ]
        }
      ]
    },
    {
      "cell_type": "markdown",
      "source": [
        "# **Voice Recognition Library Installation** #\n",
        "\n",
        "**Speech Recognition** and **Google Text To Speech**"
      ],
      "metadata": {
        "id": "9ZsdBYNrTfgg"
      },
      "id": "9ZsdBYNrTfgg"
    },
    {
      "cell_type": "code",
      "source": [
        "!pip -q install speechrecognition"
      ],
      "metadata": {
        "id": "Q2lOz2OmFhsz",
        "colab": {
          "base_uri": "https://localhost:8080/"
        },
        "outputId": "e79b77b5-8ca9-48a4-c253-b4ccc8b74568"
      },
      "id": "Q2lOz2OmFhsz",
      "execution_count": 2,
      "outputs": [
        {
          "output_type": "stream",
          "name": "stdout",
          "text": [
            "\u001b[2K     \u001b[90m━━━━━━━━━━━━━━━━━━━━━━━━━━━━━━━━━━━━━━━━\u001b[0m \u001b[32m32.8/32.8 MB\u001b[0m \u001b[31m45.3 MB/s\u001b[0m eta \u001b[36m0:00:00\u001b[0m\n",
            "\u001b[?25h"
          ]
        }
      ]
    },
    {
      "cell_type": "code",
      "source": [
        "!pip -q install gtts"
      ],
      "metadata": {
        "id": "OcZ28yqJFcR8"
      },
      "id": "OcZ28yqJFcR8",
      "execution_count": 3,
      "outputs": []
    },
    {
      "cell_type": "markdown",
      "source": [
        "# **Import Library** #\n"
      ],
      "metadata": {
        "id": "MZMVLNyqYTCK"
      },
      "id": "MZMVLNyqYTCK"
    },
    {
      "cell_type": "code",
      "execution_count": 4,
      "id": "df6e6af3",
      "metadata": {
        "id": "df6e6af3"
      },
      "outputs": [],
      "source": [
        "# Import Libraries\n",
        "import json\n",
        "import nltk\n",
        "import pickle\n",
        "import random\n",
        "import string\n",
        "import time\n",
        "import numpy as np\n",
        "import pandas as pd\n",
        "from gtts import gTTS\n",
        "from io import BytesIO\n",
        "import tensorflow as tf\n",
        "import IPython.display as ipd\n",
        "import speech_recognition as sr\n",
        "import matplotlib.pyplot as plt\n",
        "from nltk.stem import WordNetLemmatizer\n",
        "from tensorflow.keras.models import Model\n",
        "# from keras.utils.vis_utils import plot_model\n",
        "from keras.utils import plot_model\n",
        "from sklearn.preprocessing import LabelEncoder\n",
        "from tensorflow.keras.preprocessing.text import Tokenizer\n",
        "from tensorflow.keras.layers import Input, Embedding, LSTM\n",
        "from tensorflow.keras.preprocessing.sequence import pad_sequences\n",
        "from tensorflow.keras.layers import Flatten, Dense, GlobalMaxPool1D"
      ]
    },
    {
      "cell_type": "markdown",
      "source": [
        "# **Download NLTK Package** #"
      ],
      "metadata": {
        "id": "XFqXivzfTGhq"
      },
      "id": "XFqXivzfTGhq"
    },
    {
      "cell_type": "code",
      "source": [
        "# Package for sentence tokenizer\n",
        "nltk.download('punkt')\n",
        "\n",
        "# Package for lemmatization\n",
        "nltk.download('wordnet')\n",
        "\n",
        "# Package for multilingual wordnet data\n",
        "nltk.download('omw-1.4')"
      ],
      "metadata": {
        "id": "ZFHfBZ3mO1QE",
        "colab": {
          "base_uri": "https://localhost:8080/"
        },
        "outputId": "6c918b62-f6b4-41ce-dc33-8eb89b9f6a4e"
      },
      "id": "ZFHfBZ3mO1QE",
      "execution_count": 6,
      "outputs": [
        {
          "output_type": "stream",
          "name": "stderr",
          "text": [
            "[nltk_data] Downloading package punkt to /root/nltk_data...\n",
            "[nltk_data]   Package punkt is already up-to-date!\n",
            "[nltk_data] Downloading package wordnet to /root/nltk_data...\n",
            "[nltk_data]   Package wordnet is already up-to-date!\n",
            "[nltk_data] Downloading package omw-1.4 to /root/nltk_data...\n",
            "[nltk_data]   Package omw-1.4 is already up-to-date!\n"
          ]
        },
        {
          "output_type": "execute_result",
          "data": {
            "text/plain": [
              "True"
            ]
          },
          "metadata": {},
          "execution_count": 6
        }
      ]
    },
    {
      "cell_type": "markdown",
      "source": [
        "# **Get the dataset** #"
      ],
      "metadata": {
        "id": "rrAG3zQPh7Ux"
      },
      "id": "rrAG3zQPh7Ux"
    },
    {
      "cell_type": "code",
      "source": [
        "# Importing the dataset *Make sure we have the dataset in our Gdrive*\n",
        "# https://www.kaggle.com/datasets/elvis23/mental-health-conversational-data\n",
        "with open('./mhdataset.json') as content:\n",
        "  temp_data = json.load(content)\n",
        "\n",
        "# Get all the data to the list\n",
        "tags = [] # data tag\n",
        "inputs = [] # data input or pattern\n",
        "responses = {} # data response\n",
        "words = [] # Data words\n",
        "classes = [] # Data class or tag\n",
        "documents = [] # Data document sentence\n",
        "ignore_words = ['?', '!'] # Neglect the special character signs\n",
        "\n",
        "for intent in temp_data['intents']:\n",
        "  responses[intent['tag']]=intent['responses']\n",
        "  for lines in intent['patterns']:\n",
        "    inputs.append(lines)\n",
        "    tags.append(intent['tag'])\n",
        "    for pattern in intent['patterns']:\n",
        "      w = nltk.word_tokenize(pattern)\n",
        "      words.extend(w)\n",
        "      documents.append((w, intent['tag']))\n",
        "      # add to our classes list\n",
        "      if intent['tag'] not in classes:\n",
        "        classes.append(intent['tag'])\n",
        "\n",
        "# Convert the json data into dataframe\n",
        "data = pd.DataFrame({\"patterns\":inputs, \"tags\":tags})"
      ],
      "metadata": {
        "id": "JD4ILKqFZ_hf"
      },
      "id": "JD4ILKqFZ_hf",
      "execution_count": 7,
      "outputs": []
    },
    {
      "cell_type": "code",
      "source": [
        "# Check all the data\n",
        "data"
      ],
      "metadata": {
        "id": "5N0s7BObcv5-",
        "colab": {
          "base_uri": "https://localhost:8080/",
          "height": 424
        },
        "outputId": "fe623653-205f-417e-8cf2-a1109ba33808"
      },
      "id": "5N0s7BObcv5-",
      "execution_count": 9,
      "outputs": [
        {
          "output_type": "execute_result",
          "data": {
            "text/plain": [
              "                                              patterns      tags\n",
              "0                                                   Hi  greeting\n",
              "1                                                  Hey  greeting\n",
              "2                                     Is anyone there?  greeting\n",
              "3                                             Hi there  greeting\n",
              "4                                                Hello  greeting\n",
              "..                                                 ...       ...\n",
              "227                       How do I know if I'm unwell?   fact-29\n",
              "228  How can I maintain social connections? What if...   fact-30\n",
              "229  What's the difference between anxiety and stress?   fact-31\n",
              "230  What's the difference between sadness and depr...   fact-32\n",
              "231          difference between sadness and depression   fact-32\n",
              "\n",
              "[232 rows x 2 columns]"
            ],
            "text/html": [
              "\n",
              "  <div id=\"df-5e4bafdb-eb0f-463e-aa85-3285e90d8bec\" class=\"colab-df-container\">\n",
              "    <div>\n",
              "<style scoped>\n",
              "    .dataframe tbody tr th:only-of-type {\n",
              "        vertical-align: middle;\n",
              "    }\n",
              "\n",
              "    .dataframe tbody tr th {\n",
              "        vertical-align: top;\n",
              "    }\n",
              "\n",
              "    .dataframe thead th {\n",
              "        text-align: right;\n",
              "    }\n",
              "</style>\n",
              "<table border=\"1\" class=\"dataframe\">\n",
              "  <thead>\n",
              "    <tr style=\"text-align: right;\">\n",
              "      <th></th>\n",
              "      <th>patterns</th>\n",
              "      <th>tags</th>\n",
              "    </tr>\n",
              "  </thead>\n",
              "  <tbody>\n",
              "    <tr>\n",
              "      <th>0</th>\n",
              "      <td>Hi</td>\n",
              "      <td>greeting</td>\n",
              "    </tr>\n",
              "    <tr>\n",
              "      <th>1</th>\n",
              "      <td>Hey</td>\n",
              "      <td>greeting</td>\n",
              "    </tr>\n",
              "    <tr>\n",
              "      <th>2</th>\n",
              "      <td>Is anyone there?</td>\n",
              "      <td>greeting</td>\n",
              "    </tr>\n",
              "    <tr>\n",
              "      <th>3</th>\n",
              "      <td>Hi there</td>\n",
              "      <td>greeting</td>\n",
              "    </tr>\n",
              "    <tr>\n",
              "      <th>4</th>\n",
              "      <td>Hello</td>\n",
              "      <td>greeting</td>\n",
              "    </tr>\n",
              "    <tr>\n",
              "      <th>...</th>\n",
              "      <td>...</td>\n",
              "      <td>...</td>\n",
              "    </tr>\n",
              "    <tr>\n",
              "      <th>227</th>\n",
              "      <td>How do I know if I'm unwell?</td>\n",
              "      <td>fact-29</td>\n",
              "    </tr>\n",
              "    <tr>\n",
              "      <th>228</th>\n",
              "      <td>How can I maintain social connections? What if...</td>\n",
              "      <td>fact-30</td>\n",
              "    </tr>\n",
              "    <tr>\n",
              "      <th>229</th>\n",
              "      <td>What's the difference between anxiety and stress?</td>\n",
              "      <td>fact-31</td>\n",
              "    </tr>\n",
              "    <tr>\n",
              "      <th>230</th>\n",
              "      <td>What's the difference between sadness and depr...</td>\n",
              "      <td>fact-32</td>\n",
              "    </tr>\n",
              "    <tr>\n",
              "      <th>231</th>\n",
              "      <td>difference between sadness and depression</td>\n",
              "      <td>fact-32</td>\n",
              "    </tr>\n",
              "  </tbody>\n",
              "</table>\n",
              "<p>232 rows × 2 columns</p>\n",
              "</div>\n",
              "    <div class=\"colab-df-buttons\">\n",
              "\n",
              "  <div class=\"colab-df-container\">\n",
              "    <button class=\"colab-df-convert\" onclick=\"convertToInteractive('df-5e4bafdb-eb0f-463e-aa85-3285e90d8bec')\"\n",
              "            title=\"Convert this dataframe to an interactive table.\"\n",
              "            style=\"display:none;\">\n",
              "\n",
              "  <svg xmlns=\"http://www.w3.org/2000/svg\" height=\"24px\" viewBox=\"0 -960 960 960\">\n",
              "    <path d=\"M120-120v-720h720v720H120Zm60-500h600v-160H180v160Zm220 220h160v-160H400v160Zm0 220h160v-160H400v160ZM180-400h160v-160H180v160Zm440 0h160v-160H620v160ZM180-180h160v-160H180v160Zm440 0h160v-160H620v160Z\"/>\n",
              "  </svg>\n",
              "    </button>\n",
              "\n",
              "  <style>\n",
              "    .colab-df-container {\n",
              "      display:flex;\n",
              "      gap: 12px;\n",
              "    }\n",
              "\n",
              "    .colab-df-convert {\n",
              "      background-color: #E8F0FE;\n",
              "      border: none;\n",
              "      border-radius: 50%;\n",
              "      cursor: pointer;\n",
              "      display: none;\n",
              "      fill: #1967D2;\n",
              "      height: 32px;\n",
              "      padding: 0 0 0 0;\n",
              "      width: 32px;\n",
              "    }\n",
              "\n",
              "    .colab-df-convert:hover {\n",
              "      background-color: #E2EBFA;\n",
              "      box-shadow: 0px 1px 2px rgba(60, 64, 67, 0.3), 0px 1px 3px 1px rgba(60, 64, 67, 0.15);\n",
              "      fill: #174EA6;\n",
              "    }\n",
              "\n",
              "    .colab-df-buttons div {\n",
              "      margin-bottom: 4px;\n",
              "    }\n",
              "\n",
              "    [theme=dark] .colab-df-convert {\n",
              "      background-color: #3B4455;\n",
              "      fill: #D2E3FC;\n",
              "    }\n",
              "\n",
              "    [theme=dark] .colab-df-convert:hover {\n",
              "      background-color: #434B5C;\n",
              "      box-shadow: 0px 1px 3px 1px rgba(0, 0, 0, 0.15);\n",
              "      filter: drop-shadow(0px 1px 2px rgba(0, 0, 0, 0.3));\n",
              "      fill: #FFFFFF;\n",
              "    }\n",
              "  </style>\n",
              "\n",
              "    <script>\n",
              "      const buttonEl =\n",
              "        document.querySelector('#df-5e4bafdb-eb0f-463e-aa85-3285e90d8bec button.colab-df-convert');\n",
              "      buttonEl.style.display =\n",
              "        google.colab.kernel.accessAllowed ? 'block' : 'none';\n",
              "\n",
              "      async function convertToInteractive(key) {\n",
              "        const element = document.querySelector('#df-5e4bafdb-eb0f-463e-aa85-3285e90d8bec');\n",
              "        const dataTable =\n",
              "          await google.colab.kernel.invokeFunction('convertToInteractive',\n",
              "                                                    [key], {});\n",
              "        if (!dataTable) return;\n",
              "\n",
              "        const docLinkHtml = 'Like what you see? Visit the ' +\n",
              "          '<a target=\"_blank\" href=https://colab.research.google.com/notebooks/data_table.ipynb>data table notebook</a>'\n",
              "          + ' to learn more about interactive tables.';\n",
              "        element.innerHTML = '';\n",
              "        dataTable['output_type'] = 'display_data';\n",
              "        await google.colab.output.renderOutput(dataTable, element);\n",
              "        const docLink = document.createElement('div');\n",
              "        docLink.innerHTML = docLinkHtml;\n",
              "        element.appendChild(docLink);\n",
              "      }\n",
              "    </script>\n",
              "  </div>\n",
              "\n",
              "\n",
              "<div id=\"df-69e25785-cce2-4aa6-a1a0-51b9340f35f9\">\n",
              "  <button class=\"colab-df-quickchart\" onclick=\"quickchart('df-69e25785-cce2-4aa6-a1a0-51b9340f35f9')\"\n",
              "            title=\"Suggest charts\"\n",
              "            style=\"display:none;\">\n",
              "\n",
              "<svg xmlns=\"http://www.w3.org/2000/svg\" height=\"24px\"viewBox=\"0 0 24 24\"\n",
              "     width=\"24px\">\n",
              "    <g>\n",
              "        <path d=\"M19 3H5c-1.1 0-2 .9-2 2v14c0 1.1.9 2 2 2h14c1.1 0 2-.9 2-2V5c0-1.1-.9-2-2-2zM9 17H7v-7h2v7zm4 0h-2V7h2v10zm4 0h-2v-4h2v4z\"/>\n",
              "    </g>\n",
              "</svg>\n",
              "  </button>\n",
              "\n",
              "<style>\n",
              "  .colab-df-quickchart {\n",
              "      --bg-color: #E8F0FE;\n",
              "      --fill-color: #1967D2;\n",
              "      --hover-bg-color: #E2EBFA;\n",
              "      --hover-fill-color: #174EA6;\n",
              "      --disabled-fill-color: #AAA;\n",
              "      --disabled-bg-color: #DDD;\n",
              "  }\n",
              "\n",
              "  [theme=dark] .colab-df-quickchart {\n",
              "      --bg-color: #3B4455;\n",
              "      --fill-color: #D2E3FC;\n",
              "      --hover-bg-color: #434B5C;\n",
              "      --hover-fill-color: #FFFFFF;\n",
              "      --disabled-bg-color: #3B4455;\n",
              "      --disabled-fill-color: #666;\n",
              "  }\n",
              "\n",
              "  .colab-df-quickchart {\n",
              "    background-color: var(--bg-color);\n",
              "    border: none;\n",
              "    border-radius: 50%;\n",
              "    cursor: pointer;\n",
              "    display: none;\n",
              "    fill: var(--fill-color);\n",
              "    height: 32px;\n",
              "    padding: 0;\n",
              "    width: 32px;\n",
              "  }\n",
              "\n",
              "  .colab-df-quickchart:hover {\n",
              "    background-color: var(--hover-bg-color);\n",
              "    box-shadow: 0 1px 2px rgba(60, 64, 67, 0.3), 0 1px 3px 1px rgba(60, 64, 67, 0.15);\n",
              "    fill: var(--button-hover-fill-color);\n",
              "  }\n",
              "\n",
              "  .colab-df-quickchart-complete:disabled,\n",
              "  .colab-df-quickchart-complete:disabled:hover {\n",
              "    background-color: var(--disabled-bg-color);\n",
              "    fill: var(--disabled-fill-color);\n",
              "    box-shadow: none;\n",
              "  }\n",
              "\n",
              "  .colab-df-spinner {\n",
              "    border: 2px solid var(--fill-color);\n",
              "    border-color: transparent;\n",
              "    border-bottom-color: var(--fill-color);\n",
              "    animation:\n",
              "      spin 1s steps(1) infinite;\n",
              "  }\n",
              "\n",
              "  @keyframes spin {\n",
              "    0% {\n",
              "      border-color: transparent;\n",
              "      border-bottom-color: var(--fill-color);\n",
              "      border-left-color: var(--fill-color);\n",
              "    }\n",
              "    20% {\n",
              "      border-color: transparent;\n",
              "      border-left-color: var(--fill-color);\n",
              "      border-top-color: var(--fill-color);\n",
              "    }\n",
              "    30% {\n",
              "      border-color: transparent;\n",
              "      border-left-color: var(--fill-color);\n",
              "      border-top-color: var(--fill-color);\n",
              "      border-right-color: var(--fill-color);\n",
              "    }\n",
              "    40% {\n",
              "      border-color: transparent;\n",
              "      border-right-color: var(--fill-color);\n",
              "      border-top-color: var(--fill-color);\n",
              "    }\n",
              "    60% {\n",
              "      border-color: transparent;\n",
              "      border-right-color: var(--fill-color);\n",
              "    }\n",
              "    80% {\n",
              "      border-color: transparent;\n",
              "      border-right-color: var(--fill-color);\n",
              "      border-bottom-color: var(--fill-color);\n",
              "    }\n",
              "    90% {\n",
              "      border-color: transparent;\n",
              "      border-bottom-color: var(--fill-color);\n",
              "    }\n",
              "  }\n",
              "</style>\n",
              "\n",
              "  <script>\n",
              "    async function quickchart(key) {\n",
              "      const quickchartButtonEl =\n",
              "        document.querySelector('#' + key + ' button');\n",
              "      quickchartButtonEl.disabled = true;  // To prevent multiple clicks.\n",
              "      quickchartButtonEl.classList.add('colab-df-spinner');\n",
              "      try {\n",
              "        const charts = await google.colab.kernel.invokeFunction(\n",
              "            'suggestCharts', [key], {});\n",
              "      } catch (error) {\n",
              "        console.error('Error during call to suggestCharts:', error);\n",
              "      }\n",
              "      quickchartButtonEl.classList.remove('colab-df-spinner');\n",
              "      quickchartButtonEl.classList.add('colab-df-quickchart-complete');\n",
              "    }\n",
              "    (() => {\n",
              "      let quickchartButtonEl =\n",
              "        document.querySelector('#df-69e25785-cce2-4aa6-a1a0-51b9340f35f9 button');\n",
              "      quickchartButtonEl.style.display =\n",
              "        google.colab.kernel.accessAllowed ? 'block' : 'none';\n",
              "    })();\n",
              "  </script>\n",
              "</div>\n",
              "    </div>\n",
              "  </div>\n"
            ]
          },
          "metadata": {},
          "execution_count": 9
        }
      ]
    },
    {
      "cell_type": "code",
      "source": [
        "data.head()"
      ],
      "metadata": {
        "id": "5DFoJwcVdP52",
        "colab": {
          "base_uri": "https://localhost:8080/",
          "height": 206
        },
        "outputId": "8978df8a-97a1-47e4-e522-dd0fa8a3348b"
      },
      "id": "5DFoJwcVdP52",
      "execution_count": 10,
      "outputs": [
        {
          "output_type": "execute_result",
          "data": {
            "text/plain": [
              "           patterns      tags\n",
              "0                Hi  greeting\n",
              "1               Hey  greeting\n",
              "2  Is anyone there?  greeting\n",
              "3          Hi there  greeting\n",
              "4             Hello  greeting"
            ],
            "text/html": [
              "\n",
              "  <div id=\"df-229c4fe1-01f8-4365-a0d6-8c98eb3b6ae7\" class=\"colab-df-container\">\n",
              "    <div>\n",
              "<style scoped>\n",
              "    .dataframe tbody tr th:only-of-type {\n",
              "        vertical-align: middle;\n",
              "    }\n",
              "\n",
              "    .dataframe tbody tr th {\n",
              "        vertical-align: top;\n",
              "    }\n",
              "\n",
              "    .dataframe thead th {\n",
              "        text-align: right;\n",
              "    }\n",
              "</style>\n",
              "<table border=\"1\" class=\"dataframe\">\n",
              "  <thead>\n",
              "    <tr style=\"text-align: right;\">\n",
              "      <th></th>\n",
              "      <th>patterns</th>\n",
              "      <th>tags</th>\n",
              "    </tr>\n",
              "  </thead>\n",
              "  <tbody>\n",
              "    <tr>\n",
              "      <th>0</th>\n",
              "      <td>Hi</td>\n",
              "      <td>greeting</td>\n",
              "    </tr>\n",
              "    <tr>\n",
              "      <th>1</th>\n",
              "      <td>Hey</td>\n",
              "      <td>greeting</td>\n",
              "    </tr>\n",
              "    <tr>\n",
              "      <th>2</th>\n",
              "      <td>Is anyone there?</td>\n",
              "      <td>greeting</td>\n",
              "    </tr>\n",
              "    <tr>\n",
              "      <th>3</th>\n",
              "      <td>Hi there</td>\n",
              "      <td>greeting</td>\n",
              "    </tr>\n",
              "    <tr>\n",
              "      <th>4</th>\n",
              "      <td>Hello</td>\n",
              "      <td>greeting</td>\n",
              "    </tr>\n",
              "  </tbody>\n",
              "</table>\n",
              "</div>\n",
              "    <div class=\"colab-df-buttons\">\n",
              "\n",
              "  <div class=\"colab-df-container\">\n",
              "    <button class=\"colab-df-convert\" onclick=\"convertToInteractive('df-229c4fe1-01f8-4365-a0d6-8c98eb3b6ae7')\"\n",
              "            title=\"Convert this dataframe to an interactive table.\"\n",
              "            style=\"display:none;\">\n",
              "\n",
              "  <svg xmlns=\"http://www.w3.org/2000/svg\" height=\"24px\" viewBox=\"0 -960 960 960\">\n",
              "    <path d=\"M120-120v-720h720v720H120Zm60-500h600v-160H180v160Zm220 220h160v-160H400v160Zm0 220h160v-160H400v160ZM180-400h160v-160H180v160Zm440 0h160v-160H620v160ZM180-180h160v-160H180v160Zm440 0h160v-160H620v160Z\"/>\n",
              "  </svg>\n",
              "    </button>\n",
              "\n",
              "  <style>\n",
              "    .colab-df-container {\n",
              "      display:flex;\n",
              "      gap: 12px;\n",
              "    }\n",
              "\n",
              "    .colab-df-convert {\n",
              "      background-color: #E8F0FE;\n",
              "      border: none;\n",
              "      border-radius: 50%;\n",
              "      cursor: pointer;\n",
              "      display: none;\n",
              "      fill: #1967D2;\n",
              "      height: 32px;\n",
              "      padding: 0 0 0 0;\n",
              "      width: 32px;\n",
              "    }\n",
              "\n",
              "    .colab-df-convert:hover {\n",
              "      background-color: #E2EBFA;\n",
              "      box-shadow: 0px 1px 2px rgba(60, 64, 67, 0.3), 0px 1px 3px 1px rgba(60, 64, 67, 0.15);\n",
              "      fill: #174EA6;\n",
              "    }\n",
              "\n",
              "    .colab-df-buttons div {\n",
              "      margin-bottom: 4px;\n",
              "    }\n",
              "\n",
              "    [theme=dark] .colab-df-convert {\n",
              "      background-color: #3B4455;\n",
              "      fill: #D2E3FC;\n",
              "    }\n",
              "\n",
              "    [theme=dark] .colab-df-convert:hover {\n",
              "      background-color: #434B5C;\n",
              "      box-shadow: 0px 1px 3px 1px rgba(0, 0, 0, 0.15);\n",
              "      filter: drop-shadow(0px 1px 2px rgba(0, 0, 0, 0.3));\n",
              "      fill: #FFFFFF;\n",
              "    }\n",
              "  </style>\n",
              "\n",
              "    <script>\n",
              "      const buttonEl =\n",
              "        document.querySelector('#df-229c4fe1-01f8-4365-a0d6-8c98eb3b6ae7 button.colab-df-convert');\n",
              "      buttonEl.style.display =\n",
              "        google.colab.kernel.accessAllowed ? 'block' : 'none';\n",
              "\n",
              "      async function convertToInteractive(key) {\n",
              "        const element = document.querySelector('#df-229c4fe1-01f8-4365-a0d6-8c98eb3b6ae7');\n",
              "        const dataTable =\n",
              "          await google.colab.kernel.invokeFunction('convertToInteractive',\n",
              "                                                    [key], {});\n",
              "        if (!dataTable) return;\n",
              "\n",
              "        const docLinkHtml = 'Like what you see? Visit the ' +\n",
              "          '<a target=\"_blank\" href=https://colab.research.google.com/notebooks/data_table.ipynb>data table notebook</a>'\n",
              "          + ' to learn more about interactive tables.';\n",
              "        element.innerHTML = '';\n",
              "        dataTable['output_type'] = 'display_data';\n",
              "        await google.colab.output.renderOutput(dataTable, element);\n",
              "        const docLink = document.createElement('div');\n",
              "        docLink.innerHTML = docLinkHtml;\n",
              "        element.appendChild(docLink);\n",
              "      }\n",
              "    </script>\n",
              "  </div>\n",
              "\n",
              "\n",
              "<div id=\"df-cddebc80-6b66-4742-a653-5f1e7f210c6e\">\n",
              "  <button class=\"colab-df-quickchart\" onclick=\"quickchart('df-cddebc80-6b66-4742-a653-5f1e7f210c6e')\"\n",
              "            title=\"Suggest charts\"\n",
              "            style=\"display:none;\">\n",
              "\n",
              "<svg xmlns=\"http://www.w3.org/2000/svg\" height=\"24px\"viewBox=\"0 0 24 24\"\n",
              "     width=\"24px\">\n",
              "    <g>\n",
              "        <path d=\"M19 3H5c-1.1 0-2 .9-2 2v14c0 1.1.9 2 2 2h14c1.1 0 2-.9 2-2V5c0-1.1-.9-2-2-2zM9 17H7v-7h2v7zm4 0h-2V7h2v10zm4 0h-2v-4h2v4z\"/>\n",
              "    </g>\n",
              "</svg>\n",
              "  </button>\n",
              "\n",
              "<style>\n",
              "  .colab-df-quickchart {\n",
              "      --bg-color: #E8F0FE;\n",
              "      --fill-color: #1967D2;\n",
              "      --hover-bg-color: #E2EBFA;\n",
              "      --hover-fill-color: #174EA6;\n",
              "      --disabled-fill-color: #AAA;\n",
              "      --disabled-bg-color: #DDD;\n",
              "  }\n",
              "\n",
              "  [theme=dark] .colab-df-quickchart {\n",
              "      --bg-color: #3B4455;\n",
              "      --fill-color: #D2E3FC;\n",
              "      --hover-bg-color: #434B5C;\n",
              "      --hover-fill-color: #FFFFFF;\n",
              "      --disabled-bg-color: #3B4455;\n",
              "      --disabled-fill-color: #666;\n",
              "  }\n",
              "\n",
              "  .colab-df-quickchart {\n",
              "    background-color: var(--bg-color);\n",
              "    border: none;\n",
              "    border-radius: 50%;\n",
              "    cursor: pointer;\n",
              "    display: none;\n",
              "    fill: var(--fill-color);\n",
              "    height: 32px;\n",
              "    padding: 0;\n",
              "    width: 32px;\n",
              "  }\n",
              "\n",
              "  .colab-df-quickchart:hover {\n",
              "    background-color: var(--hover-bg-color);\n",
              "    box-shadow: 0 1px 2px rgba(60, 64, 67, 0.3), 0 1px 3px 1px rgba(60, 64, 67, 0.15);\n",
              "    fill: var(--button-hover-fill-color);\n",
              "  }\n",
              "\n",
              "  .colab-df-quickchart-complete:disabled,\n",
              "  .colab-df-quickchart-complete:disabled:hover {\n",
              "    background-color: var(--disabled-bg-color);\n",
              "    fill: var(--disabled-fill-color);\n",
              "    box-shadow: none;\n",
              "  }\n",
              "\n",
              "  .colab-df-spinner {\n",
              "    border: 2px solid var(--fill-color);\n",
              "    border-color: transparent;\n",
              "    border-bottom-color: var(--fill-color);\n",
              "    animation:\n",
              "      spin 1s steps(1) infinite;\n",
              "  }\n",
              "\n",
              "  @keyframes spin {\n",
              "    0% {\n",
              "      border-color: transparent;\n",
              "      border-bottom-color: var(--fill-color);\n",
              "      border-left-color: var(--fill-color);\n",
              "    }\n",
              "    20% {\n",
              "      border-color: transparent;\n",
              "      border-left-color: var(--fill-color);\n",
              "      border-top-color: var(--fill-color);\n",
              "    }\n",
              "    30% {\n",
              "      border-color: transparent;\n",
              "      border-left-color: var(--fill-color);\n",
              "      border-top-color: var(--fill-color);\n",
              "      border-right-color: var(--fill-color);\n",
              "    }\n",
              "    40% {\n",
              "      border-color: transparent;\n",
              "      border-right-color: var(--fill-color);\n",
              "      border-top-color: var(--fill-color);\n",
              "    }\n",
              "    60% {\n",
              "      border-color: transparent;\n",
              "      border-right-color: var(--fill-color);\n",
              "    }\n",
              "    80% {\n",
              "      border-color: transparent;\n",
              "      border-right-color: var(--fill-color);\n",
              "      border-bottom-color: var(--fill-color);\n",
              "    }\n",
              "    90% {\n",
              "      border-color: transparent;\n",
              "      border-bottom-color: var(--fill-color);\n",
              "    }\n",
              "  }\n",
              "</style>\n",
              "\n",
              "  <script>\n",
              "    async function quickchart(key) {\n",
              "      const quickchartButtonEl =\n",
              "        document.querySelector('#' + key + ' button');\n",
              "      quickchartButtonEl.disabled = true;  // To prevent multiple clicks.\n",
              "      quickchartButtonEl.classList.add('colab-df-spinner');\n",
              "      try {\n",
              "        const charts = await google.colab.kernel.invokeFunction(\n",
              "            'suggestCharts', [key], {});\n",
              "      } catch (error) {\n",
              "        console.error('Error during call to suggestCharts:', error);\n",
              "      }\n",
              "      quickchartButtonEl.classList.remove('colab-df-spinner');\n",
              "      quickchartButtonEl.classList.add('colab-df-quickchart-complete');\n",
              "    }\n",
              "    (() => {\n",
              "      let quickchartButtonEl =\n",
              "        document.querySelector('#df-cddebc80-6b66-4742-a653-5f1e7f210c6e button');\n",
              "      quickchartButtonEl.style.display =\n",
              "        google.colab.kernel.accessAllowed ? 'block' : 'none';\n",
              "    })();\n",
              "  </script>\n",
              "</div>\n",
              "    </div>\n",
              "  </div>\n"
            ]
          },
          "metadata": {},
          "execution_count": 10
        }
      ]
    },
    {
      "cell_type": "code",
      "source": [
        "data.tail()"
      ],
      "metadata": {
        "id": "HksM_GGVdenI",
        "colab": {
          "base_uri": "https://localhost:8080/",
          "height": 206
        },
        "outputId": "7cdfc532-c25e-4749-f7cd-6614c5c3fd8e"
      },
      "id": "HksM_GGVdenI",
      "execution_count": 11,
      "outputs": [
        {
          "output_type": "execute_result",
          "data": {
            "text/plain": [
              "                                              patterns     tags\n",
              "227                       How do I know if I'm unwell?  fact-29\n",
              "228  How can I maintain social connections? What if...  fact-30\n",
              "229  What's the difference between anxiety and stress?  fact-31\n",
              "230  What's the difference between sadness and depr...  fact-32\n",
              "231          difference between sadness and depression  fact-32"
            ],
            "text/html": [
              "\n",
              "  <div id=\"df-131c5632-8c21-4286-86a4-e93174349adb\" class=\"colab-df-container\">\n",
              "    <div>\n",
              "<style scoped>\n",
              "    .dataframe tbody tr th:only-of-type {\n",
              "        vertical-align: middle;\n",
              "    }\n",
              "\n",
              "    .dataframe tbody tr th {\n",
              "        vertical-align: top;\n",
              "    }\n",
              "\n",
              "    .dataframe thead th {\n",
              "        text-align: right;\n",
              "    }\n",
              "</style>\n",
              "<table border=\"1\" class=\"dataframe\">\n",
              "  <thead>\n",
              "    <tr style=\"text-align: right;\">\n",
              "      <th></th>\n",
              "      <th>patterns</th>\n",
              "      <th>tags</th>\n",
              "    </tr>\n",
              "  </thead>\n",
              "  <tbody>\n",
              "    <tr>\n",
              "      <th>227</th>\n",
              "      <td>How do I know if I'm unwell?</td>\n",
              "      <td>fact-29</td>\n",
              "    </tr>\n",
              "    <tr>\n",
              "      <th>228</th>\n",
              "      <td>How can I maintain social connections? What if...</td>\n",
              "      <td>fact-30</td>\n",
              "    </tr>\n",
              "    <tr>\n",
              "      <th>229</th>\n",
              "      <td>What's the difference between anxiety and stress?</td>\n",
              "      <td>fact-31</td>\n",
              "    </tr>\n",
              "    <tr>\n",
              "      <th>230</th>\n",
              "      <td>What's the difference between sadness and depr...</td>\n",
              "      <td>fact-32</td>\n",
              "    </tr>\n",
              "    <tr>\n",
              "      <th>231</th>\n",
              "      <td>difference between sadness and depression</td>\n",
              "      <td>fact-32</td>\n",
              "    </tr>\n",
              "  </tbody>\n",
              "</table>\n",
              "</div>\n",
              "    <div class=\"colab-df-buttons\">\n",
              "\n",
              "  <div class=\"colab-df-container\">\n",
              "    <button class=\"colab-df-convert\" onclick=\"convertToInteractive('df-131c5632-8c21-4286-86a4-e93174349adb')\"\n",
              "            title=\"Convert this dataframe to an interactive table.\"\n",
              "            style=\"display:none;\">\n",
              "\n",
              "  <svg xmlns=\"http://www.w3.org/2000/svg\" height=\"24px\" viewBox=\"0 -960 960 960\">\n",
              "    <path d=\"M120-120v-720h720v720H120Zm60-500h600v-160H180v160Zm220 220h160v-160H400v160Zm0 220h160v-160H400v160ZM180-400h160v-160H180v160Zm440 0h160v-160H620v160ZM180-180h160v-160H180v160Zm440 0h160v-160H620v160Z\"/>\n",
              "  </svg>\n",
              "    </button>\n",
              "\n",
              "  <style>\n",
              "    .colab-df-container {\n",
              "      display:flex;\n",
              "      gap: 12px;\n",
              "    }\n",
              "\n",
              "    .colab-df-convert {\n",
              "      background-color: #E8F0FE;\n",
              "      border: none;\n",
              "      border-radius: 50%;\n",
              "      cursor: pointer;\n",
              "      display: none;\n",
              "      fill: #1967D2;\n",
              "      height: 32px;\n",
              "      padding: 0 0 0 0;\n",
              "      width: 32px;\n",
              "    }\n",
              "\n",
              "    .colab-df-convert:hover {\n",
              "      background-color: #E2EBFA;\n",
              "      box-shadow: 0px 1px 2px rgba(60, 64, 67, 0.3), 0px 1px 3px 1px rgba(60, 64, 67, 0.15);\n",
              "      fill: #174EA6;\n",
              "    }\n",
              "\n",
              "    .colab-df-buttons div {\n",
              "      margin-bottom: 4px;\n",
              "    }\n",
              "\n",
              "    [theme=dark] .colab-df-convert {\n",
              "      background-color: #3B4455;\n",
              "      fill: #D2E3FC;\n",
              "    }\n",
              "\n",
              "    [theme=dark] .colab-df-convert:hover {\n",
              "      background-color: #434B5C;\n",
              "      box-shadow: 0px 1px 3px 1px rgba(0, 0, 0, 0.15);\n",
              "      filter: drop-shadow(0px 1px 2px rgba(0, 0, 0, 0.3));\n",
              "      fill: #FFFFFF;\n",
              "    }\n",
              "  </style>\n",
              "\n",
              "    <script>\n",
              "      const buttonEl =\n",
              "        document.querySelector('#df-131c5632-8c21-4286-86a4-e93174349adb button.colab-df-convert');\n",
              "      buttonEl.style.display =\n",
              "        google.colab.kernel.accessAllowed ? 'block' : 'none';\n",
              "\n",
              "      async function convertToInteractive(key) {\n",
              "        const element = document.querySelector('#df-131c5632-8c21-4286-86a4-e93174349adb');\n",
              "        const dataTable =\n",
              "          await google.colab.kernel.invokeFunction('convertToInteractive',\n",
              "                                                    [key], {});\n",
              "        if (!dataTable) return;\n",
              "\n",
              "        const docLinkHtml = 'Like what you see? Visit the ' +\n",
              "          '<a target=\"_blank\" href=https://colab.research.google.com/notebooks/data_table.ipynb>data table notebook</a>'\n",
              "          + ' to learn more about interactive tables.';\n",
              "        element.innerHTML = '';\n",
              "        dataTable['output_type'] = 'display_data';\n",
              "        await google.colab.output.renderOutput(dataTable, element);\n",
              "        const docLink = document.createElement('div');\n",
              "        docLink.innerHTML = docLinkHtml;\n",
              "        element.appendChild(docLink);\n",
              "      }\n",
              "    </script>\n",
              "  </div>\n",
              "\n",
              "\n",
              "<div id=\"df-55e7230e-caec-497a-a77b-f655aa019614\">\n",
              "  <button class=\"colab-df-quickchart\" onclick=\"quickchart('df-55e7230e-caec-497a-a77b-f655aa019614')\"\n",
              "            title=\"Suggest charts\"\n",
              "            style=\"display:none;\">\n",
              "\n",
              "<svg xmlns=\"http://www.w3.org/2000/svg\" height=\"24px\"viewBox=\"0 0 24 24\"\n",
              "     width=\"24px\">\n",
              "    <g>\n",
              "        <path d=\"M19 3H5c-1.1 0-2 .9-2 2v14c0 1.1.9 2 2 2h14c1.1 0 2-.9 2-2V5c0-1.1-.9-2-2-2zM9 17H7v-7h2v7zm4 0h-2V7h2v10zm4 0h-2v-4h2v4z\"/>\n",
              "    </g>\n",
              "</svg>\n",
              "  </button>\n",
              "\n",
              "<style>\n",
              "  .colab-df-quickchart {\n",
              "      --bg-color: #E8F0FE;\n",
              "      --fill-color: #1967D2;\n",
              "      --hover-bg-color: #E2EBFA;\n",
              "      --hover-fill-color: #174EA6;\n",
              "      --disabled-fill-color: #AAA;\n",
              "      --disabled-bg-color: #DDD;\n",
              "  }\n",
              "\n",
              "  [theme=dark] .colab-df-quickchart {\n",
              "      --bg-color: #3B4455;\n",
              "      --fill-color: #D2E3FC;\n",
              "      --hover-bg-color: #434B5C;\n",
              "      --hover-fill-color: #FFFFFF;\n",
              "      --disabled-bg-color: #3B4455;\n",
              "      --disabled-fill-color: #666;\n",
              "  }\n",
              "\n",
              "  .colab-df-quickchart {\n",
              "    background-color: var(--bg-color);\n",
              "    border: none;\n",
              "    border-radius: 50%;\n",
              "    cursor: pointer;\n",
              "    display: none;\n",
              "    fill: var(--fill-color);\n",
              "    height: 32px;\n",
              "    padding: 0;\n",
              "    width: 32px;\n",
              "  }\n",
              "\n",
              "  .colab-df-quickchart:hover {\n",
              "    background-color: var(--hover-bg-color);\n",
              "    box-shadow: 0 1px 2px rgba(60, 64, 67, 0.3), 0 1px 3px 1px rgba(60, 64, 67, 0.15);\n",
              "    fill: var(--button-hover-fill-color);\n",
              "  }\n",
              "\n",
              "  .colab-df-quickchart-complete:disabled,\n",
              "  .colab-df-quickchart-complete:disabled:hover {\n",
              "    background-color: var(--disabled-bg-color);\n",
              "    fill: var(--disabled-fill-color);\n",
              "    box-shadow: none;\n",
              "  }\n",
              "\n",
              "  .colab-df-spinner {\n",
              "    border: 2px solid var(--fill-color);\n",
              "    border-color: transparent;\n",
              "    border-bottom-color: var(--fill-color);\n",
              "    animation:\n",
              "      spin 1s steps(1) infinite;\n",
              "  }\n",
              "\n",
              "  @keyframes spin {\n",
              "    0% {\n",
              "      border-color: transparent;\n",
              "      border-bottom-color: var(--fill-color);\n",
              "      border-left-color: var(--fill-color);\n",
              "    }\n",
              "    20% {\n",
              "      border-color: transparent;\n",
              "      border-left-color: var(--fill-color);\n",
              "      border-top-color: var(--fill-color);\n",
              "    }\n",
              "    30% {\n",
              "      border-color: transparent;\n",
              "      border-left-color: var(--fill-color);\n",
              "      border-top-color: var(--fill-color);\n",
              "      border-right-color: var(--fill-color);\n",
              "    }\n",
              "    40% {\n",
              "      border-color: transparent;\n",
              "      border-right-color: var(--fill-color);\n",
              "      border-top-color: var(--fill-color);\n",
              "    }\n",
              "    60% {\n",
              "      border-color: transparent;\n",
              "      border-right-color: var(--fill-color);\n",
              "    }\n",
              "    80% {\n",
              "      border-color: transparent;\n",
              "      border-right-color: var(--fill-color);\n",
              "      border-bottom-color: var(--fill-color);\n",
              "    }\n",
              "    90% {\n",
              "      border-color: transparent;\n",
              "      border-bottom-color: var(--fill-color);\n",
              "    }\n",
              "  }\n",
              "</style>\n",
              "\n",
              "  <script>\n",
              "    async function quickchart(key) {\n",
              "      const quickchartButtonEl =\n",
              "        document.querySelector('#' + key + ' button');\n",
              "      quickchartButtonEl.disabled = true;  // To prevent multiple clicks.\n",
              "      quickchartButtonEl.classList.add('colab-df-spinner');\n",
              "      try {\n",
              "        const charts = await google.colab.kernel.invokeFunction(\n",
              "            'suggestCharts', [key], {});\n",
              "      } catch (error) {\n",
              "        console.error('Error during call to suggestCharts:', error);\n",
              "      }\n",
              "      quickchartButtonEl.classList.remove('colab-df-spinner');\n",
              "      quickchartButtonEl.classList.add('colab-df-quickchart-complete');\n",
              "    }\n",
              "    (() => {\n",
              "      let quickchartButtonEl =\n",
              "        document.querySelector('#df-55e7230e-caec-497a-a77b-f655aa019614 button');\n",
              "      quickchartButtonEl.style.display =\n",
              "        google.colab.kernel.accessAllowed ? 'block' : 'none';\n",
              "    })();\n",
              "  </script>\n",
              "</div>\n",
              "    </div>\n",
              "  </div>\n"
            ]
          },
          "metadata": {},
          "execution_count": 11
        }
      ]
    },
    {
      "cell_type": "code",
      "source": [
        "# Checking if there is missing value(s)\n",
        "data.isna().sum()"
      ],
      "metadata": {
        "colab": {
          "base_uri": "https://localhost:8080/"
        },
        "id": "7apvbY-a6yyt",
        "outputId": "b2187697-0a4c-414c-93e4-219f036cff88"
      },
      "id": "7apvbY-a6yyt",
      "execution_count": 13,
      "outputs": [
        {
          "output_type": "execute_result",
          "data": {
            "text/plain": [
              "patterns    0\n",
              "tags        0\n",
              "dtype: int64"
            ]
          },
          "metadata": {},
          "execution_count": 13
        }
      ]
    },
    {
      "cell_type": "markdown",
      "source": [
        "# **Preprocessing**"
      ],
      "metadata": {
        "id": "iU_Uetri5fd5"
      },
      "id": "iU_Uetri5fd5"
    },
    {
      "cell_type": "markdown",
      "source": [
        "## **Remove Punctuations**\n",
        "\n"
      ],
      "metadata": {
        "id": "u_04NeXTIImg"
      },
      "id": "u_04NeXTIImg"
    },
    {
      "cell_type": "code",
      "source": [
        "# Removing Punctuations\n",
        "data['patterns'] = data['patterns'].apply(lambda wrd:[ltrs.lower() for ltrs in wrd if ltrs not in string.punctuation])\n",
        "data['patterns'] = data['patterns'].apply(lambda wrd: ''.join(wrd))"
      ],
      "metadata": {
        "id": "Gh-7EtrfhQgY"
      },
      "id": "Gh-7EtrfhQgY",
      "execution_count": 14,
      "outputs": []
    },
    {
      "cell_type": "markdown",
      "source": [
        "## **Lemmatization**\n",
        "\n"
      ],
      "metadata": {
        "id": "5brR-qBLJDa_"
      },
      "id": "5brR-qBLJDa_"
    },
    {
      "cell_type": "code",
      "source": [
        "lemmatizer = WordNetLemmatizer()\n",
        "words = [lemmatizer.lemmatize(w.lower()) for w in words if w not in ignore_words]\n",
        "words = sorted(list(set(words)))\n",
        "\n",
        "print (len(words), \"unique lemmatized words\", words)"
      ],
      "metadata": {
        "id": "22MVRGBsO9gX",
        "colab": {
          "base_uri": "https://localhost:8080/"
        },
        "outputId": "babec40f-a86f-4b03-957e-2cdba55b6a2c"
      },
      "id": "22MVRGBsO9gX",
      "execution_count": 15,
      "outputs": [
        {
          "output_type": "stream",
          "name": "stdout",
          "text": [
            "297 unique lemmatized words [\"'ll\", \"'m\", \"'re\", \"'s\", \"'ve\", ',', '.', 'a', 'about', 'absolutely', 'advice', 'affect', 'afternoon', 'again', 'all', 'alot', 'already', 'am', 'and', 'another', 'answer', 'anxiety', 'anxious', 'any', 'anymore', 'anyone', 'anything', 'appears', 'approaching', 'are', 'ask', 'au', 'available', 'away', 'awful', 'be', 'because', 'become', 'before', 'better', 'between', 'bonjour', 'boyfriend', 'break', 'bring', 'brother', 'burned', 'by', 'bye', 'ca', 'call', 'can', 'cause', 'cheerful', 'child', 'commit', 'connection', 'continue', 'control', 'could', 'crazy', 'created', 'cure', 'dad', 'day', 'define', 'depressed', 'depression', 'deserve', 'did', 'die', 'died', 'difference', 'different', 'disorder', 'do', 'doe', 'down', 'dumb', 'else', 'empty', 'enough', 'evening', 'exam', 'fact', 'family', 'fare', 'feel', 'feeling', 'few', 'financial', 'find', 'fine', 'focus', 'for', 'friend', 'from', 'get', 'girlfriend', 'give', 'go', 'going', 'good', 'goodbye', 'great', 'group', 'guess', 'guten', 'had', 'hand', 'happy', 'hate', 'have', 'health', 'hello', 'help', 'helpful', 'hey', 'hi', 'hmmm', 'hola', 'how', 'howdy', 'i', 'if', 'ill', 'illness', 'importance', 'important', 'in', 'insominia', 'insomnia', 'interested', 'involved', 'is', 'it', 'joke', 'just', 'k', 'kill', 'killing', 'know', 'konnichiwa', 'last', 'later', 'learn', 'learning', 'let', 'like', 'live', 'location', 'lonely', 'made', 'maintain', 'make', 'me', 'mean', 'medication', 'meditation', 'mental', 'mentally', 'mentioned', 'mom', 'money', 'more', 'morning', 'much', 'my', 'myself', \"n't\", 'name', 'need', 'new', 'nice', 'night', 'no', 'nobody', 'not', 'nothing', 'now', 'of', 'oh', 'ok', 'okay', 'ola', 'on', 'one', 'open', 'option', 'or', 'out', 'passed', 'past', 'people', 'please', 'possibly', 'practicing', 'prepared', 'prevent', 'probably', 'problem', 'professional', 'proper', 'really', 'recover', 'relationship', 'repeating', 'response', 'revoir', 'right', 'robot', 'sad', 'sadness', 'said', 'say', 'saying', 'sayonara', 'scared', 'see', 'seem', 'sense', 'should', 'shut', 'sign', 'sister', 'sleep', 'slept', 'so', 'social', 'some', 'someone', 'something', 'sound', 'starting', 'stay', 'still', 'stress', 'stressed', 'stuck', 'stupid', 'suffering', 'suicide', 'support', 'sure', 'symptom', 'tag', 'take', 'talk', 'tell', 'than', 'thank', 'thanks', 'that', 'the', 'thee', 'then', 'therapist', 'therapy', 'there', 'think', 'this', 'thought', 'through', 'to', 'today', 'told', 'treatment', 'trust', 'type', 'understand', 'understands', 'unwell', 'up', 'useful', 'useless', 'very', 'want', 'warning', 'way', 'we', 'well', 'were', 'what', 'whatever', 'where', 'who', 'why', 'with', 'worried', 'worthless', 'would', 'wrong', 'yeah', 'yes', 'you', 'your', 'yourself']\n"
          ]
        }
      ]
    },
    {
      "cell_type": "markdown",
      "source": [
        "### **Sorting Data of Class Tags**"
      ],
      "metadata": {
        "id": "zmZpqovQE1Zb"
      },
      "id": "zmZpqovQE1Zb"
    },
    {
      "cell_type": "code",
      "source": [
        "# sort classes\n",
        "classes = sorted(list(set(classes)))\n",
        "print (len(classes), \"classes\", classes)"
      ],
      "metadata": {
        "id": "TK_v4Zw5P8rn",
        "colab": {
          "base_uri": "https://localhost:8080/"
        },
        "outputId": "9638840e-7d05-40d8-dac9-09aa5fa6bac7"
      },
      "id": "TK_v4Zw5P8rn",
      "execution_count": 16,
      "outputs": [
        {
          "output_type": "stream",
          "name": "stdout",
          "text": [
            "80 classes ['about', 'afternoon', 'anxious', 'ask', 'casual', 'creation', 'death', 'default', 'depressed', 'done', 'evening', 'fact-1', 'fact-10', 'fact-11', 'fact-12', 'fact-13', 'fact-14', 'fact-15', 'fact-16', 'fact-17', 'fact-18', 'fact-19', 'fact-2', 'fact-20', 'fact-21', 'fact-22', 'fact-23', 'fact-24', 'fact-25', 'fact-26', 'fact-27', 'fact-28', 'fact-29', 'fact-3', 'fact-30', 'fact-31', 'fact-32', 'fact-5', 'fact-6', 'fact-7', 'fact-8', 'fact-9', 'friends', 'goodbye', 'greeting', 'happy', 'hate-me', 'hate-you', 'help', 'jokes', 'learn-mental-health', 'learn-more', 'location', 'meditation', 'mental-health-fact', 'morning', 'name', 'neutral-response', 'night', 'no-approach', 'no-response', 'not-talking', 'pandora-useful', 'problem', 'repeat', 'sad', 'scared', 'skill', 'sleep', 'something-else', 'stressed', 'stupid', 'suicide', 'thanks', 'understand', 'user-advice', 'user-agree', 'user-meditation', 'worthless', 'wrong']\n"
          ]
        }
      ]
    },
    {
      "cell_type": "markdown",
      "source": [
        "### **Total Text Data**"
      ],
      "metadata": {
        "id": "u8s3ZKI9FCwo"
      },
      "id": "u8s3ZKI9FCwo"
    },
    {
      "cell_type": "code",
      "source": [
        "# documents = combination between patterns and intents\n",
        "print (len(documents), \"documents\")"
      ],
      "metadata": {
        "id": "Tv5lLFn1QCDP",
        "colab": {
          "base_uri": "https://localhost:8080/"
        },
        "outputId": "91ab89dc-ab82-4b64-e9ec-416d10e9f175"
      },
      "id": "Tv5lLFn1QCDP",
      "execution_count": 18,
      "outputs": [
        {
          "output_type": "stream",
          "name": "stdout",
          "text": [
            "1148 documents\n"
          ]
        }
      ]
    },
    {
      "cell_type": "markdown",
      "source": [
        "## **Tokenization**\n",
        "\n"
      ],
      "metadata": {
        "id": "sVdv1gW5N7a6"
      },
      "id": "sVdv1gW5N7a6"
    },
    {
      "cell_type": "code",
      "source": [
        "# Tokenize the data\n",
        "tokenizer = Tokenizer(num_words=1000)\n",
        "tokenizer.fit_on_texts(data['patterns'])\n",
        "train = tokenizer.texts_to_sequences(data['patterns'])\n",
        "train"
      ],
      "metadata": {
        "id": "Xr5aehymeQdi",
        "colab": {
          "base_uri": "https://localhost:8080/"
        },
        "outputId": "96da3861-c6a2-43c0-8354-1d49069b2aa0"
      },
      "id": "Xr5aehymeQdi",
      "execution_count": 19,
      "outputs": [
        {
          "output_type": "execute_result",
          "data": {
            "text/plain": [
              "[[95],\n",
              " [96],\n",
              " [14, 97, 41],\n",
              " [95, 41],\n",
              " [151],\n",
              " [96, 41],\n",
              " [152],\n",
              " [153],\n",
              " [154],\n",
              " [155],\n",
              " [156, 157],\n",
              " [158],\n",
              " [42, 159],\n",
              " [42, 160],\n",
              " [42, 161],\n",
              " [42, 162],\n",
              " [68],\n",
              " [98, 2, 163],\n",
              " [164],\n",
              " [165, 166],\n",
              " [167],\n",
              " [51, 68],\n",
              " [68, 168],\n",
              " [169, 170, 99],\n",
              " [100],\n",
              " [69, 2],\n",
              " [70, 171],\n",
              " [100, 18, 19, 32],\n",
              " [172, 2, 71, 52],\n",
              " [],\n",
              " [72, 52],\n",
              " [33, 12, 2],\n",
              " [3, 12, 2],\n",
              " [33, 2, 12],\n",
              " [34, 7, 35, 6, 73],\n",
              " [3, 14, 74, 53],\n",
              " [3, 75, 1, 173, 2],\n",
              " [76, 74, 53],\n",
              " [34, 7, 6, 73],\n",
              " [3, 10, 2, 13],\n",
              " [33, 101, 2],\n",
              " [24, 102, 2, 174],\n",
              " [24, 102, 2, 101],\n",
              " [15, 53, 14],\n",
              " [1, 9, 53],\n",
              " [1, 54, 175],\n",
              " [103, 2, 32, 7],\n",
              " [176, 7, 16, 177, 104],\n",
              " [10, 2, 32],\n",
              " [3, 10, 2, 13, 18, 7],\n",
              " [1, 36, 77],\n",
              " [1, 36, 32],\n",
              " [77, 7, 104],\n",
              " [1, 9, 178, 55],\n",
              " [1, 9, 20, 55],\n",
              " [1, 11, 179],\n",
              " [1, 11, 105],\n",
              " [1, 9, 105],\n",
              " [1, 11, 20, 55],\n",
              " [1, 11, 180],\n",
              " [1, 17, 21, 97],\n",
              " [1, 9, 20, 56, 78],\n",
              " [1, 9, 20, 56],\n",
              " [1, 11, 181],\n",
              " [1, 182, 11, 56],\n",
              " [1, 9, 20, 183, 78],\n",
              " [1, 11, 20, 184],\n",
              " [43, 185, 186, 7],\n",
              " [1, 28, 13, 106],\n",
              " [1, 9, 20, 107],\n",
              " [72, 187, 108, 109],\n",
              " [1, 28, 188, 29, 109],\n",
              " [1, 9, 20, 79],\n",
              " [1, 80, 22, 79],\n",
              " [1, 21, 30],\n",
              " [1, 11, 189, 190],\n",
              " [1, 9, 110],\n",
              " [1, 11, 110],\n",
              " [22, 42],\n",
              " [191],\n",
              " [22, 111],\n",
              " [1, 11, 51],\n",
              " [192, 1, 98],\n",
              " [51],\n",
              " [193],\n",
              " [194],\n",
              " [195],\n",
              " [196],\n",
              " [111],\n",
              " [81],\n",
              " [112],\n",
              " [43],\n",
              " [44, 113],\n",
              " [1, 11, 20, 114],\n",
              " [22, 20, 114, 57, 25],\n",
              " [1, 17, 23, 5, 45, 6, 29],\n",
              " [43, 82, 197, 58],\n",
              " [1, 28, 198, 31, 5, 199, 115],\n",
              " [82, 200, 115],\n",
              " [1, 21, 201],\n",
              " [1, 9, 116, 117, 202],\n",
              " [1, 28, 83],\n",
              " [1, 118, 203, 18, 19, 204, 119],\n",
              " [1, 28, 205, 5, 54, 5, 83],\n",
              " [1, 118, 206, 207, 83, 18, 19, 208, 209, 119],\n",
              " [22, 120],\n",
              " [26, 84, 210, 3, 13, 1, 13],\n",
              " [43, 1, 17, 23, 5, 11, 85, 211],\n",
              " [1, 9, 120, 18, 31],\n",
              " [15, 212, 86],\n",
              " [15, 213, 86],\n",
              " [15, 214, 87, 58],\n",
              " [15, 215, 87, 58],\n",
              " [121, 88, 15, 122, 86],\n",
              " [15, 216, 87, 58],\n",
              " [2, 17, 217, 7],\n",
              " [46, 82, 59, 218, 24, 47, 2, 27],\n",
              " [2, 28, 219, 27, 3, 22, 89, 220],\n",
              " [46, 107],\n",
              " [2, 28, 32, 7],\n",
              " [221, 222, 7],\n",
              " [70, 60],\n",
              " [1, 17, 21, 106, 35, 5, 123],\n",
              " [72, 61],\n",
              " [70, 60, 1, 21, 5, 123],\n",
              " [43, 26, 47, 124, 60],\n",
              " [1, 23, 5, 125, 31],\n",
              " [126, 223, 6, 224, 31],\n",
              " [1, 23, 5, 225],\n",
              " [1, 9, 89, 5, 125, 31],\n",
              " [1, 9, 89, 5, 226, 227],\n",
              " [1, 90, 2],\n",
              " [1, 17, 37, 2],\n",
              " [1, 17, 228, 2],\n",
              " [2, 90, 7],\n",
              " [1, 27, 2, 90, 7],\n",
              " [2, 17, 37, 7],\n",
              " [62],\n",
              " [127],\n",
              " [229],\n",
              " [230],\n",
              " [231],\n",
              " [122],\n",
              " [232],\n",
              " [233, 48],\n",
              " [34, 7, 16, 128],\n",
              " [34, 7, 129, 128],\n",
              " [2, 130, 234, 7, 26],\n",
              " [2, 235, 26, 130],\n",
              " [131, 12, 2, 236, 73],\n",
              " [3, 12, 2, 237],\n",
              " [26, 238, 239, 108],\n",
              " [132, 240],\n",
              " [132, 241],\n",
              " [12, 2, 242],\n",
              " [46, 243],\n",
              " [2, 12, 133],\n",
              " [12, 2, 133],\n",
              " [38, 12, 2],\n",
              " [38, 13, 2, 244],\n",
              " [3, 14, 74, 245],\n",
              " [1, 23, 5, 45, 6, 63, 61],\n",
              " [246, 45, 6, 63, 61],\n",
              " [10, 247, 44, 45, 6, 85],\n",
              " [1, 17, 23, 5, 45, 6, 85],\n",
              " [1, 17, 21, 134, 127],\n",
              " [10, 1, 248, 2, 63],\n",
              " [135, 57, 15, 62, 12, 249, 1, 11, 56, 78, 57, 1, 17, 80, 126, 250, 99, 251],\n",
              " [135, 57, 25, 15, 62],\n",
              " [1, 136, 44, 60, 1, 10, 80, 6, 12, 15, 62],\n",
              " [44, 113],\n",
              " [1, 136, 44],\n",
              " [51, 252, 1, 47, 37, 5, 39, 35, 6, 29],\n",
              " [112, 1, 47, 37, 5, 39, 35, 6, 29],\n",
              " [1, 47, 37, 5, 39, 35, 6, 29],\n",
              " [81, 46, 91, 1, 253, 16, 254],\n",
              " [81, 46, 255, 91, 6, 26],\n",
              " [256, 26, 84, 37, 29, 103, 124, 137, 5, 7],\n",
              " [26, 84, 137],\n",
              " [1, 257, 3, 2, 258, 49, 1, 11, 259, 138, 69, 2, 71, 52],\n",
              " [1, 11, 138, 260],\n",
              " [69, 2, 71, 52, 261, 139, 262, 263, 264, 49, 265, 140, 3, 1, 10, 266],\n",
              " [1, 23, 59, 92],\n",
              " [1, 36, 59, 92],\n",
              " [1, 36, 92, 140, 63],\n",
              " [1, 23, 5, 39, 6, 4, 8],\n",
              " [1, 23, 5, 39, 35, 6, 4, 8],\n",
              " [22, 267, 88, 268, 6, 4, 8],\n",
              " [34, 7, 16, 141, 6, 4, 8],\n",
              " [34, 7, 129, 141, 6, 4, 8],\n",
              " [3, 14, 4, 8],\n",
              " [142, 4, 8],\n",
              " [131, 14, 4, 8, 269],\n",
              " [3, 14, 19, 270, 25, 4, 8],\n",
              " [3, 14, 30],\n",
              " [142, 30],\n",
              " [24, 13, 1, 27, 40, 1, 21, 30],\n",
              " [9, 1, 79],\n",
              " [9, 1, 116, 117, 30],\n",
              " [9, 1, 271, 139],\n",
              " [3, 14, 16, 143],\n",
              " [3, 93, 16, 143, 13],\n",
              " [3, 14, 64],\n",
              " [13, 1, 36, 64],\n",
              " [33, 14, 64, 18],\n",
              " [3, 93, 29, 272, 5, 21, 16, 4, 50],\n",
              " [33, 93, 4, 50, 273],\n",
              " [3, 144, 4, 50],\n",
              " [3, 12, 59, 25, 19, 274, 275, 25, 4, 50],\n",
              " [10, 276, 277, 4, 50, 278],\n",
              " [3, 75, 1, 13, 40, 1, 27, 121, 33, 279, 5, 21, 19, 280, 25, 16, 4, 281],\n",
              " [24, 10, 1, 65, 16, 4, 8, 145, 18, 31, 146, 15, 147],\n",
              " [3, 94, 282, 12, 283],\n",
              " [40, 1, 284, 285, 88, 94, 3, 13, 1, 36, 5, 27],\n",
              " [3, 14, 19, 66, 67, 4, 8, 148],\n",
              " [24, 10, 1, 65, 16, 4, 8, 145, 91, 18, 15, 147, 146, 31],\n",
              " [38, 61, 10, 1, 286, 32],\n",
              " [3, 75, 1, 27, 287, 288, 16, 289, 290],\n",
              " [38, 10, 1, 54, 5, 65, 64],\n",
              " [38, 10, 1, 39, 6, 149, 25, 4, 8, 94],\n",
              " [3, 12, 19, 291, 149, 25, 4, 8, 148],\n",
              " [38, 10, 1, 54, 5, 65, 16, 77, 292],\n",
              " [10, 2, 293, 4, 8, 48],\n",
              " [12, 41, 294, 18, 4, 8, 48],\n",
              " [14, 41, 134, 295, 18, 4, 8, 48],\n",
              " [3, 144, 4, 8, 48],\n",
              " [3, 13, 1, 13, 40, 22, 296, 6, 15, 4, 8],\n",
              " [24, 13, 1, 27, 40, 22, 297],\n",
              " [24, 10, 1, 298, 299, 300, 3, 40, 1, 11, 55],\n",
              " [76, 19, 66, 67, 301, 49, 302],\n",
              " [76, 19, 66, 67, 150, 49, 30],\n",
              " [66, 67, 150, 49, 30]]"
            ]
          },
          "metadata": {},
          "execution_count": 19
        }
      ]
    },
    {
      "cell_type": "markdown",
      "source": [
        "## **Padding**\n",
        "\n",
        "\n"
      ],
      "metadata": {
        "id": "LfEpFf0hPOUZ"
      },
      "id": "LfEpFf0hPOUZ"
    },
    {
      "cell_type": "code",
      "source": [
        "# Apply padding\n",
        "x_train = pad_sequences(train)\n",
        "print(x_train) # Padding Sequences"
      ],
      "metadata": {
        "id": "5BQdPUTNvS1t",
        "colab": {
          "base_uri": "https://localhost:8080/"
        },
        "outputId": "a4d96e6f-7861-4238-9d16-4359d182f695"
      },
      "id": "5BQdPUTNvS1t",
      "execution_count": 23,
      "outputs": [
        {
          "output_type": "stream",
          "name": "stdout",
          "text": [
            "[[  0   0   0 ...   0   0  95]\n",
            " [  0   0   0 ...   0   0  96]\n",
            " [  0   0   0 ...  14  97  41]\n",
            " ...\n",
            " [  0   0   0 ... 301  49 302]\n",
            " [  0   0   0 ... 150  49  30]\n",
            " [  0   0   0 ... 150  49  30]]\n"
          ]
        }
      ]
    },
    {
      "cell_type": "markdown",
      "source": [
        "## **Encoding Text**\n"
      ],
      "metadata": {
        "id": "qY0vxxwBPeJC"
      },
      "id": "qY0vxxwBPeJC"
    },
    {
      "cell_type": "code",
      "source": [
        "# data['tags']"
      ],
      "metadata": {
        "colab": {
          "base_uri": "https://localhost:8080/"
        },
        "id": "YQW_X3rMBh4V",
        "outputId": "49c78325-1991-4945-e8ec-0668a5c0e364"
      },
      "id": "YQW_X3rMBh4V",
      "execution_count": 21,
      "outputs": [
        {
          "output_type": "execute_result",
          "data": {
            "text/plain": [
              "0      greeting\n",
              "1      greeting\n",
              "2      greeting\n",
              "3      greeting\n",
              "4      greeting\n",
              "         ...   \n",
              "227     fact-29\n",
              "228     fact-30\n",
              "229     fact-31\n",
              "230     fact-32\n",
              "231     fact-32\n",
              "Name: tags, Length: 232, dtype: object"
            ]
          },
          "metadata": {},
          "execution_count": 21
        }
      ]
    },
    {
      "cell_type": "code",
      "source": [
        "# Encoding the outputs\n",
        "le = LabelEncoder()\n",
        "y_train = le.fit_transform(data['tags'])\n",
        "print(y_train) #Label Encodings"
      ],
      "metadata": {
        "id": "sczq--IpTYWa",
        "colab": {
          "base_uri": "https://localhost:8080/"
        },
        "outputId": "b943741a-1e24-4e9f-82b6-804080e42f05"
      },
      "id": "sczq--IpTYWa",
      "execution_count": 24,
      "outputs": [
        {
          "output_type": "stream",
          "name": "stdout",
          "text": [
            "[44 44 44 44 44 44 44 44 44 44 44 44 55  1 10 58 43 43 43 43 43 43 43 43\n",
            " 73 73 73 73 73 60 57  0  0  0  0  0  0  0  0 67  5  5  5 56 56 56 48 48\n",
            " 48 48 48 48 48 65 65 65 65 65 65 65 65 70 70 70 70 70 78 78 78 78 78  8\n",
            "  8  8  8 45 45 45 45 45 45 45  4  4  4  4  4  4  4  4  4  4  4  2  2 61\n",
            " 61 61 61 68 68 68 68 68 68 66 66 66 66  6  6  6  6  6  6 74 74 74 74 74\n",
            " 74  9  9  9  9  9 72 72 72 72 72 47 47 47 46 46 46  7  7  7  7  7  7  7\n",
            "  7 49 49 64 64 64 79 79 79 79 71 71 71 71 52 52 52 69 69 69 69 42  3 63\n",
            " 63 59 59 59 51 51 51 76 76 53 53 77 77 62 75 75 75 50 50 50 54 54 11 11\n",
            " 22 22 33 33 37 37 37 37 38 38 39 39 39 40 41 12 13 14 15 16 17 18 19 20\n",
            " 21 23 24 25 26 27 28 29 29 30 31 32 34 35 36 36]\n"
          ]
        }
      ]
    },
    {
      "cell_type": "markdown",
      "source": [
        "# **Input Length, Output Length and Vocabulary**"
      ],
      "metadata": {
        "id": "_hE21zfRhiNS"
      },
      "id": "_hE21zfRhiNS"
    },
    {
      "cell_type": "code",
      "source": [
        "# Input length\n",
        "# Value of input_shape indicating that the input sequences have a length of __ tokens after padding,\n",
        "# which will be the input shape used for model definition and training.\n",
        "\n",
        "input_shape = x_train.shape[1]\n",
        "print(input_shape)"
      ],
      "metadata": {
        "id": "dbtBZXFvgvCB",
        "colab": {
          "base_uri": "https://localhost:8080/"
        },
        "outputId": "46bfb836-7b05-4568-bae0-49026882ab16"
      },
      "id": "dbtBZXFvgvCB",
      "execution_count": 25,
      "outputs": [
        {
          "output_type": "stream",
          "name": "stdout",
          "text": [
            "18\n"
          ]
        }
      ]
    },
    {
      "cell_type": "code",
      "source": [
        "# Define vocabulary\n",
        "vocabulary = len(tokenizer.word_index) # Calculates the length of the word index, which represents the number of unique words in the vocabulary.\n",
        "print(\"number of unique words : \", vocabulary)\n",
        "\n",
        "# Output length\n",
        "output_length = le.classes_.shape[0] #  contains the unique classes or labels encoded using LabelEncoder\n",
        "print(\"output length: \", output_length)"
      ],
      "metadata": {
        "id": "310y6oNLhuzv",
        "colab": {
          "base_uri": "https://localhost:8080/"
        },
        "outputId": "fe77eb22-19c7-4d8b-c67d-92fbb5b55b7d"
      },
      "id": "310y6oNLhuzv",
      "execution_count": 27,
      "outputs": [
        {
          "output_type": "stream",
          "name": "stdout",
          "text": [
            "number of unique words :  302\n",
            "output length:  80\n"
          ]
        }
      ]
    },
    {
      "cell_type": "markdown",
      "source": [
        "## **Save Model Words & Classes**\n",
        "It is typically used to establish a model's relationship that has been trained with a text processing model.\n",
        "\n"
      ],
      "metadata": {
        "id": "1LxIElYjQbB7"
      },
      "id": "1LxIElYjQbB7"
    },
    {
      "cell_type": "code",
      "source": [
        "pickle.dump(words, open('/content/drive/MyDrive/Project/NLP/Chatbot/Model/words.pkl','wb'))\n",
        "pickle.dump(classes, open('/content/drive/MyDrive/Project/NLP/Chatbot/Model/classes.pkl','wb'))"
      ],
      "metadata": {
        "id": "wYV77QFbQVLP"
      },
      "id": "wYV77QFbQVLP",
      "execution_count": 29,
      "outputs": []
    },
    {
      "cell_type": "markdown",
      "source": [
        "## **Save Label Encoder & Tokenizer**"
      ],
      "metadata": {
        "id": "dY9COWCwexgZ"
      },
      "id": "dY9COWCwexgZ"
    },
    {
      "cell_type": "code",
      "source": [
        "pickle.dump(le, open('/content/drive/MyDrive/Project/NLP/Chatbot/Model/le.pkl','wb'))\n",
        "pickle.dump(tokenizer, open('/content/drive/MyDrive/Project/NLP/Chatbot/Model/tokenizers.pkl','wb'))"
      ],
      "metadata": {
        "id": "saM3QTSjewR4"
      },
      "id": "saM3QTSjewR4",
      "execution_count": 30,
      "outputs": []
    },
    {
      "cell_type": "markdown",
      "source": [
        "# **Neural Network Model**\n",
        "\n"
      ],
      "metadata": {
        "id": "BI7OvNariInQ"
      },
      "id": "BI7OvNariInQ"
    },
    {
      "cell_type": "code",
      "source": [
        "# Creating the model\n",
        "i = Input(shape=(input_shape,)) # Defines the input layer with the shape (input_shape,). This layer specifies the shape of the input data the model will receive.\n",
        "x = Embedding(vocabulary+1,10)(i) # Creates an embedding layer. It maps input indices (words) into fixed-size dense vectors.\n",
        "x = LSTM(10, return_sequences=True)(x) # Layer Long Short Term Memory\n",
        "x = Flatten()(x) # Flattens the output from the LSTM layer into a one-dimensional tensor. This prepares the data for the subsequent fully connected layers.\n",
        "x = Dense(output_length, activation=\"softmax\")(x) # Adds a fully connected dense layer as the output layer.\n",
        "model  = Model(i,x) # This line constructs a Keras Model by specifying the input and output layers.\n",
        "\n",
        "# Compiling the model\n",
        "model.compile(loss=\"sparse_categorical_crossentropy\", optimizer='adam', metrics=['accuracy'])"
      ],
      "metadata": {
        "id": "2XBG3_reh2KY"
      },
      "id": "2XBG3_reh2KY",
      "execution_count": 31,
      "outputs": []
    },
    {
      "cell_type": "code",
      "source": [
        "# Visualization Plot Architecture Model\n",
        "plot_model(model, to_file='/content/drive/MyDrive/Project/NLP/Chatbot/model_plot.png', show_shapes=True, show_layer_names=True)"
      ],
      "metadata": {
        "id": "SO1blkS7ZzuH",
        "colab": {
          "base_uri": "https://localhost:8080/",
          "height": 533
        },
        "outputId": "73c3052b-60f5-42d7-88c9-3c7d11f57e1c"
      },
      "id": "SO1blkS7ZzuH",
      "execution_count": 32,
      "outputs": [
        {
          "output_type": "execute_result",
          "data": {
            "image/png": "[encoded data removed]",
            "text/plain": [
              "<IPython.core.display.Image object>"
            ]
          },
          "metadata": {},
          "execution_count": 32
        }
      ]
    },
    {
      "cell_type": "code",
      "source": [
        "# Showing Parameter Model\n",
        "model.summary()"
      ],
      "metadata": {
        "id": "4hab_JHoopQI",
        "colab": {
          "base_uri": "https://localhost:8080/"
        },
        "outputId": "ac74e91f-5f16-4e80-ddc5-518c68d1f203"
      },
      "id": "4hab_JHoopQI",
      "execution_count": 33,
      "outputs": [
        {
          "output_type": "stream",
          "name": "stdout",
          "text": [
            "Model: \"model\"\n",
            "_________________________________________________________________\n",
            " Layer (type)                Output Shape              Param #   \n",
            "=================================================================\n",
            " input_1 (InputLayer)        [(None, 18)]              0         \n",
            "                                                                 \n",
            " embedding (Embedding)       (None, 18, 10)            3030      \n",
            "                                                                 \n",
            " lstm (LSTM)                 (None, 18, 10)            840       \n",
            "                                                                 \n",
            " flatten (Flatten)           (None, 180)               0         \n",
            "                                                                 \n",
            " dense (Dense)               (None, 80)                14480     \n",
            "                                                                 \n",
            "=================================================================\n",
            "Total params: 18350 (71.68 KB)\n",
            "Trainable params: 18350 (71.68 KB)\n",
            "Non-trainable params: 0 (0.00 Byte)\n",
            "_________________________________________________________________\n"
          ]
        }
      ]
    },
    {
      "cell_type": "code",
      "source": [
        "# Training the model\n",
        "train = model.fit(x_train, y_train, epochs=200)"
      ],
      "metadata": {
        "id": "AHtOlCb8kGgZ",
        "colab": {
          "base_uri": "https://localhost:8080/"
        },
        "outputId": "3f6a4b77-10b1-4faa-eccf-048931d6d15d"
      },
      "id": "AHtOlCb8kGgZ",
      "execution_count": 34,
      "outputs": [
        {
          "output_type": "stream",
          "name": "stdout",
          "text": [
            "Epoch 1/200\n",
            "8/8 [==============================] - 3s 11ms/step - loss: 4.3781 - accuracy: 0.0216\n",
            "Epoch 2/200\n",
            "8/8 [==============================] - 0s 12ms/step - loss: 4.3584 - accuracy: 0.0172\n",
            "Epoch 3/200\n",
            "8/8 [==============================] - 0s 11ms/step - loss: 4.3314 - accuracy: 0.0172\n",
            "Epoch 4/200\n",
            "8/8 [==============================] - 0s 11ms/step - loss: 4.2843 - accuracy: 0.0474\n",
            "Epoch 5/200\n",
            "8/8 [==============================] - 0s 11ms/step - loss: 4.2179 - accuracy: 0.0474\n",
            "Epoch 6/200\n",
            "8/8 [==============================] - 0s 12ms/step - loss: 4.1275 - accuracy: 0.0474\n",
            "Epoch 7/200\n",
            "8/8 [==============================] - 0s 10ms/step - loss: 4.0668 - accuracy: 0.0474\n",
            "Epoch 8/200\n",
            "8/8 [==============================] - 0s 10ms/step - loss: 4.0481 - accuracy: 0.0474\n",
            "Epoch 9/200\n",
            "8/8 [==============================] - 0s 10ms/step - loss: 4.0297 - accuracy: 0.0474\n",
            "Epoch 10/200\n",
            "8/8 [==============================] - 0s 17ms/step - loss: 4.0091 - accuracy: 0.0474\n",
            "Epoch 11/200\n",
            "8/8 [==============================] - 0s 18ms/step - loss: 3.9950 - accuracy: 0.0474\n",
            "Epoch 12/200\n",
            "8/8 [==============================] - 0s 20ms/step - loss: 3.9783 - accuracy: 0.0474\n",
            "Epoch 13/200\n",
            "8/8 [==============================] - 0s 17ms/step - loss: 3.9613 - accuracy: 0.0517\n",
            "Epoch 14/200\n",
            "8/8 [==============================] - 0s 11ms/step - loss: 3.9391 - accuracy: 0.0733\n",
            "Epoch 15/200\n",
            "8/8 [==============================] - 0s 10ms/step - loss: 3.9197 - accuracy: 0.0603\n",
            "Epoch 16/200\n",
            "8/8 [==============================] - 0s 10ms/step - loss: 3.8931 - accuracy: 0.0647\n",
            "Epoch 17/200\n",
            "8/8 [==============================] - 0s 10ms/step - loss: 3.8677 - accuracy: 0.0647\n",
            "Epoch 18/200\n",
            "8/8 [==============================] - 0s 10ms/step - loss: 3.8355 - accuracy: 0.0690\n",
            "Epoch 19/200\n",
            "8/8 [==============================] - 0s 10ms/step - loss: 3.8076 - accuracy: 0.0690\n",
            "Epoch 20/200\n",
            "8/8 [==============================] - 0s 12ms/step - loss: 3.7722 - accuracy: 0.0690\n",
            "Epoch 21/200\n",
            "8/8 [==============================] - 0s 11ms/step - loss: 3.7349 - accuracy: 0.0948\n",
            "Epoch 22/200\n",
            "8/8 [==============================] - 0s 10ms/step - loss: 3.6889 - accuracy: 0.1250\n",
            "Epoch 23/200\n",
            "8/8 [==============================] - 0s 10ms/step - loss: 3.6532 - accuracy: 0.1034\n",
            "Epoch 24/200\n",
            "8/8 [==============================] - 0s 11ms/step - loss: 3.6099 - accuracy: 0.1207\n",
            "Epoch 25/200\n",
            "8/8 [==============================] - 0s 11ms/step - loss: 3.5656 - accuracy: 0.1250\n",
            "Epoch 26/200\n",
            "8/8 [==============================] - 0s 10ms/step - loss: 3.5211 - accuracy: 0.1466\n",
            "Epoch 27/200\n",
            "8/8 [==============================] - 0s 10ms/step - loss: 3.4703 - accuracy: 0.1638\n",
            "Epoch 28/200\n",
            "8/8 [==============================] - 0s 10ms/step - loss: 3.4315 - accuracy: 0.1379\n",
            "Epoch 29/200\n",
            "8/8 [==============================] - 0s 11ms/step - loss: 3.3889 - accuracy: 0.1336\n",
            "Epoch 30/200\n",
            "8/8 [==============================] - 0s 11ms/step - loss: 3.3463 - accuracy: 0.1379\n",
            "Epoch 31/200\n",
            "8/8 [==============================] - 0s 12ms/step - loss: 3.3052 - accuracy: 0.1552\n",
            "Epoch 32/200\n",
            "8/8 [==============================] - 0s 11ms/step - loss: 3.2647 - accuracy: 0.1552\n",
            "Epoch 33/200\n",
            "8/8 [==============================] - 0s 11ms/step - loss: 3.2312 - accuracy: 0.1638\n",
            "Epoch 34/200\n",
            "8/8 [==============================] - 0s 12ms/step - loss: 3.1949 - accuracy: 0.1724\n",
            "Epoch 35/200\n",
            "8/8 [==============================] - 0s 10ms/step - loss: 3.1541 - accuracy: 0.1810\n",
            "Epoch 36/200\n",
            "8/8 [==============================] - 0s 10ms/step - loss: 3.1210 - accuracy: 0.2241\n",
            "Epoch 37/200\n",
            "8/8 [==============================] - 0s 10ms/step - loss: 3.0884 - accuracy: 0.2241\n",
            "Epoch 38/200\n",
            "8/8 [==============================] - 0s 11ms/step - loss: 3.0577 - accuracy: 0.2198\n",
            "Epoch 39/200\n",
            "8/8 [==============================] - 0s 11ms/step - loss: 3.0313 - accuracy: 0.2155\n",
            "Epoch 40/200\n",
            "8/8 [==============================] - 0s 10ms/step - loss: 3.0080 - accuracy: 0.2284\n",
            "Epoch 41/200\n",
            "8/8 [==============================] - 0s 11ms/step - loss: 2.9775 - accuracy: 0.2500\n",
            "Epoch 42/200\n",
            "8/8 [==============================] - 0s 12ms/step - loss: 2.9678 - accuracy: 0.2414\n",
            "Epoch 43/200\n",
            "8/8 [==============================] - 0s 10ms/step - loss: 2.9310 - accuracy: 0.2457\n",
            "Epoch 44/200\n",
            "8/8 [==============================] - 0s 11ms/step - loss: 2.8808 - accuracy: 0.2672\n",
            "Epoch 45/200\n",
            "8/8 [==============================] - 0s 12ms/step - loss: 2.8570 - accuracy: 0.2500\n",
            "Epoch 46/200\n",
            "8/8 [==============================] - 0s 10ms/step - loss: 2.8285 - accuracy: 0.2500\n",
            "Epoch 47/200\n",
            "8/8 [==============================] - 0s 10ms/step - loss: 2.8016 - accuracy: 0.2759\n",
            "Epoch 48/200\n",
            "8/8 [==============================] - 0s 11ms/step - loss: 2.7730 - accuracy: 0.2802\n",
            "Epoch 49/200\n",
            "8/8 [==============================] - 0s 10ms/step - loss: 2.7488 - accuracy: 0.3017\n",
            "Epoch 50/200\n",
            "8/8 [==============================] - 0s 12ms/step - loss: 2.7169 - accuracy: 0.2888\n",
            "Epoch 51/200\n",
            "8/8 [==============================] - 0s 10ms/step - loss: 2.6953 - accuracy: 0.3233\n",
            "Epoch 52/200\n",
            "8/8 [==============================] - 0s 11ms/step - loss: 2.6752 - accuracy: 0.3190\n",
            "Epoch 53/200\n",
            "8/8 [==============================] - 0s 13ms/step - loss: 2.6486 - accuracy: 0.3448\n",
            "Epoch 54/200\n",
            "8/8 [==============================] - 0s 11ms/step - loss: 2.6227 - accuracy: 0.3319\n",
            "Epoch 55/200\n",
            "8/8 [==============================] - 0s 11ms/step - loss: 2.5942 - accuracy: 0.3276\n",
            "Epoch 56/200\n",
            "8/8 [==============================] - 0s 10ms/step - loss: 2.5633 - accuracy: 0.3233\n",
            "Epoch 57/200\n",
            "8/8 [==============================] - 0s 11ms/step - loss: 2.5521 - accuracy: 0.2931\n",
            "Epoch 58/200\n",
            "8/8 [==============================] - 0s 11ms/step - loss: 2.5344 - accuracy: 0.3190\n",
            "Epoch 59/200\n",
            "8/8 [==============================] - 0s 10ms/step - loss: 2.5048 - accuracy: 0.3491\n",
            "Epoch 60/200\n",
            "8/8 [==============================] - 0s 10ms/step - loss: 2.4773 - accuracy: 0.3534\n",
            "Epoch 61/200\n",
            "8/8 [==============================] - 0s 11ms/step - loss: 2.4463 - accuracy: 0.3362\n",
            "Epoch 62/200\n",
            "8/8 [==============================] - 0s 11ms/step - loss: 2.4234 - accuracy: 0.3578\n",
            "Epoch 63/200\n",
            "8/8 [==============================] - 0s 10ms/step - loss: 2.3979 - accuracy: 0.3448\n",
            "Epoch 64/200\n",
            "8/8 [==============================] - 0s 12ms/step - loss: 2.3822 - accuracy: 0.3534\n",
            "Epoch 65/200\n",
            "8/8 [==============================] - 0s 15ms/step - loss: 2.3664 - accuracy: 0.3578\n",
            "Epoch 66/200\n",
            "8/8 [==============================] - 0s 16ms/step - loss: 2.3492 - accuracy: 0.3836\n",
            "Epoch 67/200\n",
            "8/8 [==============================] - 0s 16ms/step - loss: 2.3103 - accuracy: 0.3750\n",
            "Epoch 68/200\n",
            "8/8 [==============================] - 0s 15ms/step - loss: 2.2956 - accuracy: 0.4009\n",
            "Epoch 69/200\n",
            "8/8 [==============================] - 0s 15ms/step - loss: 2.2728 - accuracy: 0.4138\n",
            "Epoch 70/200\n",
            "8/8 [==============================] - 0s 16ms/step - loss: 2.2482 - accuracy: 0.4009\n",
            "Epoch 71/200\n",
            "8/8 [==============================] - 0s 16ms/step - loss: 2.2231 - accuracy: 0.4095\n",
            "Epoch 72/200\n",
            "8/8 [==============================] - 0s 17ms/step - loss: 2.2059 - accuracy: 0.4095\n",
            "Epoch 73/200\n",
            "8/8 [==============================] - 0s 16ms/step - loss: 2.1877 - accuracy: 0.4267\n",
            "Epoch 74/200\n",
            "8/8 [==============================] - 0s 18ms/step - loss: 2.1718 - accuracy: 0.4009\n",
            "Epoch 75/200\n",
            "8/8 [==============================] - 0s 15ms/step - loss: 2.1511 - accuracy: 0.4224\n",
            "Epoch 76/200\n",
            "8/8 [==============================] - 0s 15ms/step - loss: 2.1295 - accuracy: 0.4353\n",
            "Epoch 77/200\n",
            "8/8 [==============================] - 0s 14ms/step - loss: 2.1029 - accuracy: 0.4569\n",
            "Epoch 78/200\n",
            "8/8 [==============================] - 0s 16ms/step - loss: 2.0952 - accuracy: 0.4784\n",
            "Epoch 79/200\n",
            "8/8 [==============================] - 0s 14ms/step - loss: 2.0757 - accuracy: 0.4698\n",
            "Epoch 80/200\n",
            "8/8 [==============================] - 0s 18ms/step - loss: 2.0795 - accuracy: 0.4526\n",
            "Epoch 81/200\n",
            "8/8 [==============================] - 0s 16ms/step - loss: 2.0556 - accuracy: 0.4698\n",
            "Epoch 82/200\n",
            "8/8 [==============================] - 0s 19ms/step - loss: 2.0129 - accuracy: 0.4914\n",
            "Epoch 83/200\n",
            "8/8 [==============================] - 0s 17ms/step - loss: 1.9925 - accuracy: 0.5172\n",
            "Epoch 84/200\n",
            "8/8 [==============================] - 0s 15ms/step - loss: 1.9722 - accuracy: 0.5216\n",
            "Epoch 85/200\n",
            "8/8 [==============================] - 0s 16ms/step - loss: 1.9471 - accuracy: 0.5345\n",
            "Epoch 86/200\n",
            "8/8 [==============================] - 0s 14ms/step - loss: 1.9328 - accuracy: 0.5086\n",
            "Epoch 87/200\n",
            "8/8 [==============================] - 0s 15ms/step - loss: 1.9177 - accuracy: 0.5302\n",
            "Epoch 88/200\n",
            "8/8 [==============================] - 0s 15ms/step - loss: 1.9016 - accuracy: 0.5517\n",
            "Epoch 89/200\n",
            "8/8 [==============================] - 0s 15ms/step - loss: 1.8806 - accuracy: 0.5776\n",
            "Epoch 90/200\n",
            "8/8 [==============================] - 0s 17ms/step - loss: 1.8613 - accuracy: 0.5991\n",
            "Epoch 91/200\n",
            "8/8 [==============================] - 0s 16ms/step - loss: 1.8449 - accuracy: 0.5690\n",
            "Epoch 92/200\n",
            "8/8 [==============================] - 0s 15ms/step - loss: 1.8310 - accuracy: 0.5819\n",
            "Epoch 93/200\n",
            "8/8 [==============================] - 0s 15ms/step - loss: 1.8169 - accuracy: 0.5733\n",
            "Epoch 94/200\n",
            "8/8 [==============================] - 0s 15ms/step - loss: 1.8067 - accuracy: 0.5905\n",
            "Epoch 95/200\n",
            "8/8 [==============================] - 0s 15ms/step - loss: 1.7820 - accuracy: 0.5948\n",
            "Epoch 96/200\n",
            "8/8 [==============================] - 0s 15ms/step - loss: 1.7578 - accuracy: 0.5991\n",
            "Epoch 97/200\n",
            "8/8 [==============================] - 0s 18ms/step - loss: 1.7445 - accuracy: 0.6078\n",
            "Epoch 98/200\n",
            "8/8 [==============================] - 0s 15ms/step - loss: 1.7220 - accuracy: 0.5991\n",
            "Epoch 99/200\n",
            "8/8 [==============================] - 0s 16ms/step - loss: 1.7073 - accuracy: 0.6078\n",
            "Epoch 100/200\n",
            "8/8 [==============================] - 0s 16ms/step - loss: 1.6953 - accuracy: 0.6207\n",
            "Epoch 101/200\n",
            "8/8 [==============================] - 0s 16ms/step - loss: 1.6779 - accuracy: 0.6250\n",
            "Epoch 102/200\n",
            "8/8 [==============================] - 0s 15ms/step - loss: 1.6719 - accuracy: 0.6121\n",
            "Epoch 103/200\n",
            "8/8 [==============================] - 0s 16ms/step - loss: 1.6455 - accuracy: 0.6293\n",
            "Epoch 104/200\n",
            "8/8 [==============================] - 0s 17ms/step - loss: 1.6282 - accuracy: 0.6595\n",
            "Epoch 105/200\n",
            "8/8 [==============================] - 0s 15ms/step - loss: 1.6091 - accuracy: 0.6638\n",
            "Epoch 106/200\n",
            "8/8 [==============================] - 0s 14ms/step - loss: 1.5963 - accuracy: 0.6509\n",
            "Epoch 107/200\n",
            "8/8 [==============================] - 0s 14ms/step - loss: 1.5803 - accuracy: 0.6293\n",
            "Epoch 108/200\n",
            "8/8 [==============================] - 0s 14ms/step - loss: 1.5663 - accuracy: 0.6336\n",
            "Epoch 109/200\n",
            "8/8 [==============================] - 0s 14ms/step - loss: 1.5517 - accuracy: 0.6810\n",
            "Epoch 110/200\n",
            "8/8 [==============================] - 0s 14ms/step - loss: 1.5329 - accuracy: 0.6810\n",
            "Epoch 111/200\n",
            "8/8 [==============================] - 0s 15ms/step - loss: 1.5174 - accuracy: 0.6810\n",
            "Epoch 112/200\n",
            "8/8 [==============================] - 0s 15ms/step - loss: 1.5088 - accuracy: 0.6940\n",
            "Epoch 113/200\n",
            "8/8 [==============================] - 0s 15ms/step - loss: 1.4919 - accuracy: 0.6853\n",
            "Epoch 114/200\n",
            "8/8 [==============================] - 0s 17ms/step - loss: 1.4725 - accuracy: 0.6681\n",
            "Epoch 115/200\n",
            "8/8 [==============================] - 0s 16ms/step - loss: 1.4600 - accuracy: 0.6897\n",
            "Epoch 116/200\n",
            "8/8 [==============================] - 0s 17ms/step - loss: 1.4463 - accuracy: 0.7069\n",
            "Epoch 117/200\n",
            "8/8 [==============================] - 0s 17ms/step - loss: 1.4349 - accuracy: 0.7112\n",
            "Epoch 118/200\n",
            "8/8 [==============================] - 0s 15ms/step - loss: 1.4246 - accuracy: 0.7198\n",
            "Epoch 119/200\n",
            "8/8 [==============================] - 0s 15ms/step - loss: 1.4061 - accuracy: 0.7155\n",
            "Epoch 120/200\n",
            "8/8 [==============================] - 0s 18ms/step - loss: 1.3925 - accuracy: 0.7155\n",
            "Epoch 121/200\n",
            "8/8 [==============================] - 0s 14ms/step - loss: 1.3713 - accuracy: 0.7198\n",
            "Epoch 122/200\n",
            "8/8 [==============================] - 0s 15ms/step - loss: 1.3627 - accuracy: 0.7328\n",
            "Epoch 123/200\n",
            "8/8 [==============================] - 0s 14ms/step - loss: 1.3480 - accuracy: 0.7241\n",
            "Epoch 124/200\n",
            "8/8 [==============================] - 0s 15ms/step - loss: 1.3372 - accuracy: 0.7284\n",
            "Epoch 125/200\n",
            "8/8 [==============================] - 0s 15ms/step - loss: 1.3237 - accuracy: 0.7284\n",
            "Epoch 126/200\n",
            "8/8 [==============================] - 0s 15ms/step - loss: 1.3075 - accuracy: 0.7328\n",
            "Epoch 127/200\n",
            "8/8 [==============================] - 0s 18ms/step - loss: 1.2953 - accuracy: 0.7198\n",
            "Epoch 128/200\n",
            "8/8 [==============================] - 0s 18ms/step - loss: 1.2792 - accuracy: 0.7241\n",
            "Epoch 129/200\n",
            "8/8 [==============================] - 0s 16ms/step - loss: 1.2783 - accuracy: 0.7198\n",
            "Epoch 130/200\n",
            "8/8 [==============================] - 0s 15ms/step - loss: 1.2608 - accuracy: 0.7328\n",
            "Epoch 131/200\n",
            "8/8 [==============================] - 0s 13ms/step - loss: 1.2463 - accuracy: 0.7284\n",
            "Epoch 132/200\n",
            "8/8 [==============================] - 0s 12ms/step - loss: 1.2318 - accuracy: 0.7371\n",
            "Epoch 133/200\n",
            "8/8 [==============================] - 0s 11ms/step - loss: 1.2204 - accuracy: 0.7198\n",
            "Epoch 134/200\n",
            "8/8 [==============================] - 0s 11ms/step - loss: 1.2054 - accuracy: 0.7457\n",
            "Epoch 135/200\n",
            "8/8 [==============================] - 0s 11ms/step - loss: 1.1978 - accuracy: 0.7457\n",
            "Epoch 136/200\n",
            "8/8 [==============================] - 0s 11ms/step - loss: 1.1861 - accuracy: 0.7414\n",
            "Epoch 137/200\n",
            "8/8 [==============================] - 0s 12ms/step - loss: 1.1749 - accuracy: 0.7457\n",
            "Epoch 138/200\n",
            "8/8 [==============================] - 0s 12ms/step - loss: 1.1633 - accuracy: 0.7672\n",
            "Epoch 139/200\n",
            "8/8 [==============================] - 0s 11ms/step - loss: 1.1545 - accuracy: 0.7586\n",
            "Epoch 140/200\n",
            "8/8 [==============================] - 0s 11ms/step - loss: 1.1409 - accuracy: 0.7500\n",
            "Epoch 141/200\n",
            "8/8 [==============================] - 0s 10ms/step - loss: 1.1294 - accuracy: 0.7414\n",
            "Epoch 142/200\n",
            "8/8 [==============================] - 0s 11ms/step - loss: 1.1178 - accuracy: 0.7716\n",
            "Epoch 143/200\n",
            "8/8 [==============================] - 0s 11ms/step - loss: 1.1093 - accuracy: 0.7888\n",
            "Epoch 144/200\n",
            "8/8 [==============================] - 0s 12ms/step - loss: 1.0961 - accuracy: 0.7586\n",
            "Epoch 145/200\n",
            "8/8 [==============================] - 0s 12ms/step - loss: 1.0891 - accuracy: 0.7543\n",
            "Epoch 146/200\n",
            "8/8 [==============================] - 0s 10ms/step - loss: 1.0776 - accuracy: 0.7500\n",
            "Epoch 147/200\n",
            "8/8 [==============================] - 0s 10ms/step - loss: 1.0648 - accuracy: 0.7716\n",
            "Epoch 148/200\n",
            "8/8 [==============================] - 0s 11ms/step - loss: 1.0585 - accuracy: 0.7974\n",
            "Epoch 149/200\n",
            "8/8 [==============================] - 0s 13ms/step - loss: 1.0498 - accuracy: 0.7974\n",
            "Epoch 150/200\n",
            "8/8 [==============================] - 0s 11ms/step - loss: 1.0358 - accuracy: 0.7802\n",
            "Epoch 151/200\n",
            "8/8 [==============================] - 0s 10ms/step - loss: 1.0245 - accuracy: 0.7845\n",
            "Epoch 152/200\n",
            "8/8 [==============================] - 0s 12ms/step - loss: 1.0180 - accuracy: 0.8017\n",
            "Epoch 153/200\n",
            "8/8 [==============================] - 0s 11ms/step - loss: 1.0143 - accuracy: 0.8017\n",
            "Epoch 154/200\n",
            "8/8 [==============================] - 0s 11ms/step - loss: 0.9957 - accuracy: 0.8190\n",
            "Epoch 155/200\n",
            "8/8 [==============================] - 0s 11ms/step - loss: 0.9911 - accuracy: 0.8190\n",
            "Epoch 156/200\n",
            "8/8 [==============================] - 0s 11ms/step - loss: 0.9783 - accuracy: 0.8190\n",
            "Epoch 157/200\n",
            "8/8 [==============================] - 0s 11ms/step - loss: 0.9685 - accuracy: 0.7931\n",
            "Epoch 158/200\n",
            "8/8 [==============================] - 0s 12ms/step - loss: 0.9582 - accuracy: 0.7931\n",
            "Epoch 159/200\n",
            "8/8 [==============================] - 0s 13ms/step - loss: 0.9531 - accuracy: 0.7974\n",
            "Epoch 160/200\n",
            "8/8 [==============================] - 0s 10ms/step - loss: 0.9413 - accuracy: 0.8017\n",
            "Epoch 161/200\n",
            "8/8 [==============================] - 0s 12ms/step - loss: 0.9328 - accuracy: 0.8017\n",
            "Epoch 162/200\n",
            "8/8 [==============================] - 0s 12ms/step - loss: 0.9288 - accuracy: 0.7888\n",
            "Epoch 163/200\n",
            "8/8 [==============================] - 0s 11ms/step - loss: 0.9146 - accuracy: 0.7931\n",
            "Epoch 164/200\n",
            "8/8 [==============================] - 0s 12ms/step - loss: 0.9135 - accuracy: 0.8060\n",
            "Epoch 165/200\n",
            "8/8 [==============================] - 0s 11ms/step - loss: 0.9040 - accuracy: 0.8103\n",
            "Epoch 166/200\n",
            "8/8 [==============================] - 0s 11ms/step - loss: 0.8932 - accuracy: 0.8233\n",
            "Epoch 167/200\n",
            "8/8 [==============================] - 0s 12ms/step - loss: 0.8862 - accuracy: 0.8276\n",
            "Epoch 168/200\n",
            "8/8 [==============================] - 0s 12ms/step - loss: 0.8788 - accuracy: 0.8017\n",
            "Epoch 169/200\n",
            "8/8 [==============================] - 0s 12ms/step - loss: 0.8678 - accuracy: 0.8017\n",
            "Epoch 170/200\n",
            "8/8 [==============================] - 0s 11ms/step - loss: 0.8654 - accuracy: 0.8147\n",
            "Epoch 171/200\n",
            "8/8 [==============================] - 0s 11ms/step - loss: 0.8534 - accuracy: 0.8233\n",
            "Epoch 172/200\n",
            "8/8 [==============================] - 0s 11ms/step - loss: 0.8467 - accuracy: 0.8190\n",
            "Epoch 173/200\n",
            "8/8 [==============================] - 0s 11ms/step - loss: 0.8364 - accuracy: 0.8276\n",
            "Epoch 174/200\n",
            "8/8 [==============================] - 0s 10ms/step - loss: 0.8317 - accuracy: 0.8362\n",
            "Epoch 175/200\n",
            "8/8 [==============================] - 0s 10ms/step - loss: 0.8263 - accuracy: 0.8448\n",
            "Epoch 176/200\n",
            "8/8 [==============================] - 0s 11ms/step - loss: 0.8142 - accuracy: 0.8276\n",
            "Epoch 177/200\n",
            "8/8 [==============================] - 0s 12ms/step - loss: 0.8066 - accuracy: 0.8233\n",
            "Epoch 178/200\n",
            "8/8 [==============================] - 0s 11ms/step - loss: 0.7977 - accuracy: 0.8276\n",
            "Epoch 179/200\n",
            "8/8 [==============================] - 0s 11ms/step - loss: 0.7900 - accuracy: 0.8405\n",
            "Epoch 180/200\n",
            "8/8 [==============================] - 0s 13ms/step - loss: 0.7868 - accuracy: 0.8233\n",
            "Epoch 181/200\n",
            "8/8 [==============================] - 0s 11ms/step - loss: 0.7773 - accuracy: 0.8319\n",
            "Epoch 182/200\n",
            "8/8 [==============================] - 0s 11ms/step - loss: 0.7776 - accuracy: 0.8362\n",
            "Epoch 183/200\n",
            "8/8 [==============================] - 0s 11ms/step - loss: 0.7669 - accuracy: 0.8491\n",
            "Epoch 184/200\n",
            "8/8 [==============================] - 0s 11ms/step - loss: 0.7582 - accuracy: 0.8621\n",
            "Epoch 185/200\n",
            "8/8 [==============================] - 0s 11ms/step - loss: 0.7555 - accuracy: 0.8534\n",
            "Epoch 186/200\n",
            "8/8 [==============================] - 0s 11ms/step - loss: 0.7486 - accuracy: 0.8362\n",
            "Epoch 187/200\n",
            "8/8 [==============================] - 0s 11ms/step - loss: 0.7439 - accuracy: 0.8190\n",
            "Epoch 188/200\n",
            "8/8 [==============================] - 0s 11ms/step - loss: 0.7343 - accuracy: 0.8362\n",
            "Epoch 189/200\n",
            "8/8 [==============================] - 0s 57ms/step - loss: 0.7257 - accuracy: 0.8621\n",
            "Epoch 190/200\n",
            "8/8 [==============================] - 0s 11ms/step - loss: 0.7195 - accuracy: 0.8793\n",
            "Epoch 191/200\n",
            "8/8 [==============================] - 0s 10ms/step - loss: 0.7137 - accuracy: 0.8448\n",
            "Epoch 192/200\n",
            "8/8 [==============================] - 0s 11ms/step - loss: 0.7075 - accuracy: 0.8534\n",
            "Epoch 193/200\n",
            "8/8 [==============================] - 0s 10ms/step - loss: 0.7026 - accuracy: 0.8578\n",
            "Epoch 194/200\n",
            "8/8 [==============================] - 0s 10ms/step - loss: 0.6995 - accuracy: 0.8491\n",
            "Epoch 195/200\n",
            "8/8 [==============================] - 0s 11ms/step - loss: 0.6922 - accuracy: 0.8491\n",
            "Epoch 196/200\n",
            "8/8 [==============================] - 0s 11ms/step - loss: 0.6838 - accuracy: 0.8534\n",
            "Epoch 197/200\n",
            "8/8 [==============================] - 0s 11ms/step - loss: 0.6793 - accuracy: 0.8578\n",
            "Epoch 198/200\n",
            "8/8 [==============================] - 0s 13ms/step - loss: 0.6737 - accuracy: 0.8534\n",
            "Epoch 199/200\n",
            "8/8 [==============================] - 0s 11ms/step - loss: 0.6658 - accuracy: 0.8578\n",
            "Epoch 200/200\n",
            "8/8 [==============================] - 0s 12ms/step - loss: 0.6587 - accuracy: 0.8750\n"
          ]
        }
      ]
    },
    {
      "cell_type": "markdown",
      "source": [
        "# **Model Analysis**"
      ],
      "metadata": {
        "id": "BfQP5TaPkGzB"
      },
      "id": "BfQP5TaPkGzB"
    },
    {
      "cell_type": "code",
      "source": [
        "# Plotting model Accuracy and Loss (Visualization of the Result Plot of Accuracy and Loss)\n",
        "# Plot Accuracy\n",
        "plt.figure(figsize=(14, 5))\n",
        "plt.subplot(1, 2, 1)\n",
        "plt.plot(train.history['accuracy'],label='Training Set Accuracy')\n",
        "plt.legend(loc='lower right')\n",
        "plt.title('Accuracy')\n",
        "# Plot Loss\n",
        "plt.subplot(1, 2, 2)\n",
        "plt.plot(train.history['loss'],label='Training Set Loss')\n",
        "plt.legend(loc='upper right')\n",
        "plt.title('Loss')\n",
        "plt.show()"
      ],
      "metadata": {
        "id": "FEz3P5djksfa",
        "colab": {
          "base_uri": "https://localhost:8080/",
          "height": 379
        },
        "outputId": "7a0d3167-baa5-4938-d6a8-c57b584d3f70"
      },
      "id": "FEz3P5djksfa",
      "execution_count": 35,
      "outputs": [
        {
          "output_type": "display_data",
          "data": {
            "text/plain": [
              "<Figure size 1400x500 with 2 Axes>"
            ],
            "image/png": "[encoded data removed]"
          },
          "metadata": {}
        }
      ]
    },
    {
      "cell_type": "markdown",
      "source": [
        "# **Chatbot Testing and Adding Voices to Chatbot**\n",
        "\n"
      ],
      "metadata": {
        "id": "WcOYpQfuln4T"
      },
      "id": "WcOYpQfuln4T"
    },
    {
      "cell_type": "code",
      "source": [
        "# Chat Inpit\n",
        "while True:\n",
        "  texts_p = []\n",
        "  prediction_input = input('You : ')\n",
        "\n",
        "  # Erase punctuation and convert to small case letter\n",
        "  prediction_input = [letters.lower() for letters in prediction_input if letters not in string.punctuation]\n",
        "  prediction_input = ''.join(prediction_input)\n",
        "  texts_p.append(prediction_input)\n",
        "\n",
        "  # Tokenization and Padding\n",
        "  prediction_input = tokenizer.texts_to_sequences(texts_p)\n",
        "  prediction_input = np.array(prediction_input).reshape(-1)\n",
        "  prediction_input = pad_sequences([prediction_input],input_shape)\n",
        "\n",
        "  # Output model\n",
        "  output = model.predict(prediction_input)\n",
        "  output = output.argmax()\n",
        "\n",
        "  # Finding response according data tag and playing the voice bot\n",
        "  response_tag = le.inverse_transform([output])[0]\n",
        "  tempResponse = random.choice(responses[response_tag])\n",
        "  print(\"RCRA : \", tempResponse)\n",
        "  tts = gTTS(tempResponse, lang='en')\n",
        "\n",
        "  # Save the model voice bot into the Google Drive\n",
        "  tts.save('/content/drive/MyDrive/Project/NLP/Chatbot/Model/RCRA.wav')\n",
        "  time.sleep(0.08)\n",
        "\n",
        "  # Load the model voice bot from Google Drive\n",
        "  ipd.display(ipd.Audio('/content/drive/MyDrive/Project/NLP/Chatbot/Model/RCRA.wav', autoplay=False))\n",
        "  print(\"*click the button to play the voice*\\n\" + \"=\"*60 + \"\\n\")\n",
        "\n",
        "  # Adding a response 'goodbye' so that bot can be stopped\n",
        "  if response_tag == \"goodbye\":\n",
        "    break"
      ],
      "metadata": {
        "id": "fao4rG4rlh1D",
        "colab": {
          "base_uri": "https://localhost:8080/",
          "height": 842
        },
        "outputId": "0ec848b8-6bf5-42ab-f6a4-253c3010cf79"
      },
      "id": "fao4rG4rlh1D",
      "execution_count": 36,
      "outputs": [
        {
          "output_type": "stream",
          "name": "stdout",
          "text": [
            "You : Hello\n",
            "1/1 [==============================] - 0s 486ms/step\n",
            "RCRA :  Hello there. Tell me how are you feeling today?\n"
          ]
        },
        {
          "output_type": "display_data",
          "data": {
            "text/plain": [
              "<IPython.lib.display.Audio object>"
            ],
            "text/html": [
              "\n",
              "                <audio  controls=\"controls\" >\n",
              "                    <source src=\"data:audio/x-wav;base64,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\" type=\"audio/x-wav\" />\n",
              "                    Your browser does not support the audio element.\n",
              "                </audio>\n",
              "              "
            ]
          },
          "metadata": {}
        },
        {
          "output_type": "stream",
          "name": "stdout",
          "text": [
            "*click the button to play the voice*\n",
            "============================================================\n",
            "\n",
            "You : I am a little bit sad, but I feel okay overall\n",
            "1/1 [==============================] - 0s 34ms/step\n",
            "RCRA :  I understand how you feel. Don't put yourself down because of it.\n"
          ]
        },
        {
          "output_type": "display_data",
          "data": {
            "text/plain": [
              "<IPython.lib.display.Audio object>"
            ],
            "text/html": [
              "\n",
              "                <audio  controls=\"controls\" >\n",
              "                    <source src=\"data:audio/x-wav;base64,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\" type=\"audio/x-wav\" />\n",
              "                    Your browser does not support the audio element.\n",
              "                </audio>\n",
              "              "
            ]
          },
          "metadata": {}
        },
        {
          "output_type": "stream",
          "name": "stdout",
          "text": [
            "*click the button to play the voice*\n",
            "============================================================\n",
            "\n",
            "You : Do you know how to make me happier?\n",
            "1/1 [==============================] - 0s 25ms/step\n",
            "RCRA :  I'm trying my best to help you. So please talk to me\n"
          ]
        },
        {
          "output_type": "display_data",
          "data": {
            "text/plain": [
              "<IPython.lib.display.Audio object>"
            ],
            "text/html": [
              "\n",
              "                <audio  controls=\"controls\" >\n",
              "                    <source src=\"data:audio/x-wav;base64,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\" type=\"audio/x-wav\" />\n",
              "                    Your browser does not support the audio element.\n",
              "                </audio>\n",
              "              "
            ]
          },
          "metadata": {}
        },
        {
          "output_type": "stream",
          "name": "stdout",
          "text": [
            "*click the button to play the voice*\n",
            "============================================================\n",
            "\n",
            "You : Talk to you later.\n",
            "1/1 [==============================] - 0s 24ms/step\n",
            "RCRA :  Duh I live in your computer\n"
          ]
        },
        {
          "output_type": "display_data",
          "data": {
            "text/plain": [
              "<IPython.lib.display.Audio object>"
            ],
            "text/html": [
              "\n",
              "                <audio  controls=\"controls\" >\n",
              "                    <source src=\"data:audio/x-wav;base64,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\" type=\"audio/x-wav\" />\n",
              "                    Your browser does not support the audio element.\n",
              "                </audio>\n",
              "              "
            ]
          },
          "metadata": {}
        },
        {
          "output_type": "stream",
          "name": "stdout",
          "text": [
            "*click the button to play the voice*\n",
            "============================================================\n",
            "\n",
            "You : See u later\n",
            "1/1 [==============================] - 0s 25ms/step\n",
            "RCRA :  Have a nice day.\n"
          ]
        },
        {
          "output_type": "display_data",
          "data": {
            "text/plain": [
              "<IPython.lib.display.Audio object>"
            ],
            "text/html": [
              "\n",
              "                <audio  controls=\"controls\" >\n",
              "                    <source src=\"data:audio/x-wav;base64,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\" type=\"audio/x-wav\" />\n",
              "                    Your browser does not support the audio element.\n",
              "                </audio>\n",
              "              "
            ]
          },
          "metadata": {}
        },
        {
          "output_type": "stream",
          "name": "stdout",
          "text": [
            "*click the button to play the voice*\n",
            "============================================================\n",
            "\n"
          ]
        }
      ]
    },
    {
      "cell_type": "markdown",
      "source": [
        "# **Save The Model**\n"
      ],
      "metadata": {
        "id": "PpFwQ9gWmWtk"
      },
      "id": "PpFwQ9gWmWtk"
    },
    {
      "cell_type": "code",
      "source": [
        "# Save the model with the file format .h5 atau .pkl (pickle)\n",
        "model.save('/content/drive/MyDrive/Project/NLP/Chatbot/Model/RCRA_chatbot_model.h5')\n",
        "\n",
        "print('Model Created Successfully!')"
      ],
      "metadata": {
        "id": "MxdDHujDmaC0",
        "colab": {
          "base_uri": "https://localhost:8080/"
        },
        "outputId": "00001f95-5ca4-4ac8-f332-b436f823a655"
      },
      "id": "MxdDHujDmaC0",
      "execution_count": 37,
      "outputs": [
        {
          "output_type": "stream",
          "name": "stdout",
          "text": [
            "Model Created Successfully!\n"
          ]
        },
        {
          "output_type": "stream",
          "name": "stderr",
          "text": [
            "/usr/local/lib/python3.10/dist-packages/keras/src/engine/training.py:3079: UserWarning: You are saving your model as an HDF5 file via `model.save()`. This file format is considered legacy. We recommend using instead the native Keras format, e.g. `model.save('my_model.keras')`.\n",
            "  saving_api.save_model(\n"
          ]
        }
      ]
    }
  ],
  "metadata": {
    "kernelspec": {
      "display_name": "Python 3 (ipykernel)",
      "language": "python",
      "name": "python3"
    },
    "language_info": {
      "codemirror_mode": {
        "name": "ipython",
        "version": 3
      },
      "file_extension": ".py",
      "mimetype": "text/x-python",
      "name": "python",
      "nbconvert_exporter": "python",
      "pygments_lexer": "ipython3",
      "version": "3.9.7"
    },
    "latex_envs": {
      "LaTeX_envs_menu_present": true,
      "autoclose": false,
      "autocomplete": true,
      "bibliofile": "biblio.bib",
      "cite_by": "apalike",
      "current_citInitial": 1,
      "eqLabelWithNumbers": true,
      "eqNumInitial": 1,
      "hotkeys": {
        "equation": "Ctrl-E",
        "itemize": "Ctrl-I"
      },
      "labels_anchors": false,
      "latex_user_defs": false,
      "report_style_numbering": false,
      "user_envs_cfg": false
    },
    "varInspector": {
      "cols": {
        "lenName": 16,
        "lenType": 16,
        "lenVar": 40
      },
      "kernels_config": {
        "python": {
          "delete_cmd_postfix": "",
          "delete_cmd_prefix": "del ",
          "library": "var_list.py",
          "varRefreshCmd": "print(var_dic_list())"
        },
        "r": {
          "delete_cmd_postfix": ") ",
          "delete_cmd_prefix": "rm(",
          "library": "var_list.r",
          "varRefreshCmd": "cat(var_dic_list()) "
        }
      },
      "types_to_exclude": [
        "module",
        "function",
        "builtin_function_or_method",
        "instance",
        "_Feature"
      ],
      "window_display": false
    },
    "colab": {
      "provenance": [],
      "include_colab_link": true
    },
    "gpuClass": "standard"
  },
  "nbformat": 4,
  "nbformat_minor": 5
}